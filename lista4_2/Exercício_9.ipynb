{
  "nbformat": 4,
  "nbformat_minor": 0,
  "metadata": {
    "colab": {
      "name": "Exercício 9.ipynb",
      "provenance": []
    },
    "kernelspec": {
      "name": "python3",
      "display_name": "Python 3"
    }
  },
  "cells": [
    {
      "cell_type": "code",
      "metadata": {
        "id": "K05NMCRizyRK"
      },
      "source": [
        "# Importando as bibliotecas necessárias:\n",
        "import numpy as np\n",
        "import pandas as pd\n",
        "import seaborn as sns\n",
        "import matplotlib.pyplot as plt\n",
        "\n",
        "# Importando as bibliotecas Scikit learn:\n",
        "from sklearn.feature_extraction.text import CountVectorizer\n",
        "from sklearn.metrics import accuracy_score, roc_curve, auc\n",
        "from sklearn.model_selection import train_test_split\n",
        "from sklearn.metrics import confusion_matrix\n",
        "from sklearn.naive_bayes import BernoulliNB\n",
        "from sklearn import metrics\n"
      ],
      "execution_count": 47,
      "outputs": []
    },
    {
      "cell_type": "code",
      "metadata": {
        "id": "VRo-UO_Z0fdY"
      },
      "source": [
        "# Criando o dataset:\n",
        "\n",
        "# Train Freatures\n",
        "X_train = np.array(['free great offer if you join, a great offer for free!',\n",
        "'great offer for free delivery',\n",
        "'uber is promoting a great offer for free',\n",
        "'try uber for free for your 1st ride',\n",
        "'earn your uber 10 credit for free by applying for the uber visa credit card',\n",
        "'uber receipt'])\n",
        "\n",
        "# Test Features\n",
        "X_test = np.array(['Moonnight Trial', 'Limited offer: Free & Great Deal'])\n",
        "\n",
        "# Train Leabels\n",
        "y_train = np.array(['spam','spam','spam','ham','ham','ham'])"
      ],
      "execution_count": 48,
      "outputs": []
    },
    {
      "cell_type": "code",
      "metadata": {
        "id": "RUuSlpZo0nlz"
      },
      "source": [
        "# Instânciando o CountVectorizer:\n",
        "cv = CountVectorizer(binary=True)\n",
        "\n",
        "# Fazendo o treinamento:\n",
        "X_train_dtm = cv.fit_transform(X_train)\n",
        "\n",
        "# Instânciando o Naive Bayes Bernoulli\n",
        "nb = BernoulliNB(binarize=None)"
      ],
      "execution_count": 53,
      "outputs": []
    },
    {
      "cell_type": "code",
      "metadata": {
        "id": "8ZV_8koD0xal",
        "outputId": "cb8cc384-af5d-4ad2-a7f0-3c7c12183a36",
        "colab": {
          "base_uri": "https://localhost:8080/"
        }
      },
      "source": [
        "# Fazendo o treinamento pelo NB Bernouli:\n",
        "nb.fit(X_train_dtm, y_train)"
      ],
      "execution_count": 54,
      "outputs": [
        {
          "output_type": "execute_result",
          "data": {
            "text/plain": [
              "BernoulliNB(alpha=1.0, binarize=None, class_prior=None, fit_prior=True)"
            ]
          },
          "metadata": {
            "tags": []
          },
          "execution_count": 54
        }
      ]
    },
    {
      "cell_type": "code",
      "metadata": {
        "id": "VuB8NVp11pKB"
      },
      "source": [
        "# Tranformação do documento:\n",
        "X_test_dtm = cv.transform(X_test)\n",
        "\n",
        "# Predição:\n",
        "y_pred_class = nb.predict(X_test_dtm)"
      ],
      "execution_count": 55,
      "outputs": []
    },
    {
      "cell_type": "code",
      "metadata": {
        "id": "owpJHrIq3I-0",
        "outputId": "42875ee0-08b8-49a3-d051-35d773d8dabb",
        "colab": {
          "base_uri": "https://localhost:8080/"
        }
      },
      "source": [
        "# Imprimindo os resultados:\n",
        "print('Moonnight Trial = {}'.format(y_pred_class[0]))\n",
        "print('Limited offer: Free & Great Deal = {}'.format(y_pred_class[1]))\n",
        "print('Confiança do modelo: \\n{}'.format(nb.predict_proba(X_test_dtm)))"
      ],
      "execution_count": 60,
      "outputs": [
        {
          "output_type": "stream",
          "text": [
            "Moonnight Trial = ham\n",
            "Limited offer: Free & Great Deal = spam\n",
            "Confiança do modelo: \n",
            "[[0.65498652 0.34501348]\n",
            " [0.0027732  0.9972268 ]]\n"
          ],
          "name": "stdout"
        }
      ]
    },
    {
      "cell_type": "code",
      "metadata": {
        "id": "nBs0c4pv3u0-"
      },
      "source": [
        ""
      ],
      "execution_count": null,
      "outputs": []
    }
  ]
}