{
 "cells": [
  {
   "cell_type": "markdown",
   "metadata": {},
   "source": [
    "#### A. Construa um classificador linear, utilizando o classificador naive Bayes, para realizar a detecção dos símbolos QPSK."
   ]
  },
  {
   "cell_type": "markdown",
   "metadata": {},
   "source": [
    "##### a. Gere N = 1000000 símbolos QPSK aleatórios."
   ]
  },
  {
   "cell_type": "markdown",
   "metadata": {},
   "source": [
    "##### b. Passe os símbolos através de um canal AWGN. "
   ]
  },
  {
   "cell_type": "markdown",
   "metadata": {},
   "source": [
    "##### c. Detecte a probabilidade de erro de símbolo para cada um dos valores do vetor Es/N0 =  [-2, 0, 2, 4, 6, 8, 10,12, 14, 16, 18, 20]."
   ]
  },
  {
   "cell_type": "markdown",
   "metadata": {},
   "source": [
    "##### d. Você pode utilizar o template abaixo para criar seu código."
   ]
  },
  {
   "cell_type": "code",
   "execution_count": 1,
   "metadata": {},
   "outputs": [],
   "source": [
    "# Importando as bibliotecas necessárais:\n",
    "import numpy as np\n",
    "import matplotlib.pyplot as plt\n",
    "\n",
    "# Importando as bibliotecas ScikitLearn:\n",
    "from scipy.special import erfc\n",
    "from sklearn.naive_bayes import GaussianNB\n",
    "from sklearn.model_selection import train_test_split"
   ]
  },
  {
   "cell_type": "code",
   "execution_count": 2,
   "metadata": {},
   "outputs": [],
   "source": [
    "# Definição de quantas amostras:\n",
    "N = 10000000"
   ]
  },
  {
   "cell_type": "code",
   "execution_count": 3,
   "metadata": {},
   "outputs": [],
   "source": [
    "# Instanciação do Naiva Bayes Gaussiano:\n",
    "nbg_real = GaussianNB()\n",
    "nbg_imag = GaussianNB()"
   ]
  },
  {
   "cell_type": "code",
   "execution_count": 4,
   "metadata": {},
   "outputs": [],
   "source": [
    "# Criação do vetor Es/N0:\n",
    "EsN0dB = np.arange(-2,22,2)"
   ]
  },
  {
   "cell_type": "code",
   "execution_count": 5,
   "metadata": {},
   "outputs": [],
   "source": [
    "# Criação dos vetores de Simulação e Teórico:\n",
    "ser_simu = np.zeros(len(EsN0dB))\n",
    "ser_theo = np.zeros(len(EsN0dB))"
   ]
  },
  {
   "cell_type": "code",
   "execution_count": 6,
   "metadata": {},
   "outputs": [
    {
     "name": "stdout",
     "output_type": "stream",
     "text": [
      "Es/N0 dB: -2\n",
      "Es/N0 dB: 0\n",
      "Es/N0 dB: 2\n",
      "Es/N0 dB: 4\n",
      "Es/N0 dB: 6\n",
      "Es/N0 dB: 8\n",
      "Es/N0 dB: 10\n",
      "Es/N0 dB: 12\n",
      "Es/N0 dB: 14\n",
      "Es/N0 dB: 16\n",
      "Es/N0 dB: 18\n",
      "Es/N0 dB: 20\n"
     ]
    }
   ],
   "source": [
    "# LOOP\n",
    "for idx in range(0, len(EsN0dB)):\n",
    "    \n",
    "    # Imprime o valor a cada LOOP\n",
    "    print('Es/N0 dB:', EsN0dB[idx])\n",
    "    \n",
    "    EsN0Lin = 10.0**(-(EsN0dB[idx]/10.0))\n",
    "\n",
    "    # Geração de N valores QPSK:\n",
    "    x = (2.0 * (np.random.rand(N, 1) >= 0.5) - 1.0) + 1j*(2.0 * (np.random.rand(N, 1) >= 0.5) - 1.0)\n",
    "    \n",
    "    # Normalização da energia para 1:\n",
    "    s = (1/np.sqrt(2))* x;\n",
    "    \n",
    "    # Gera o vetor de RUÍDO:\n",
    "    noise = np.sqrt(1.0/2.0)*(np.random.randn(N, 1) + 1j*np.random.randn(N, 1))\n",
    "    \n",
    "    # Adiciona o ruído ao SINAL:\n",
    "    y = s + np.sqrt(EsN0Lin)*noise\n",
    "    \n",
    "    # Separação em conjunto de teste e treinamento:\n",
    "    x_real_test, x_real_train, y_real_test, y_real_train = train_test_split(x.real, y.real)\n",
    "    x_imag_test, x_imag_train, y_imag_test, y_imag_train = train_test_split(x.imag, y.imag)\n",
    "    \n",
    "    # Treinamento do modelo:\n",
    "    nbg_real.fit(y_real_train, x_real_train.ravel())\n",
    "    nbg_imag.fit(y_imag_train, x_imag_train.ravel())\n",
    "    \n",
    "    # Predição da parte real e imaginária:\n",
    "    x_real_detected = nbg_real.predict(y_real_test).reshape(len(y_real_test), 1)\n",
    "    x_imag_detected = nbg_imag.predict(y_imag_test).reshape(len(y_imag_test), 1)\n",
    "    \n",
    "    # QPSK BER simulado:\n",
    "    error_re = (x_real_test != x_real_detected)\n",
    "    error_im = (x_imag_test != x_imag_detected)\n",
    "    error = 0;\n",
    "    \n",
    "    for i in range(0, len(x_real_train)): \n",
    "        if(error_re[i]==True or error_im[i]==True): \n",
    "            error = error + 1\n",
    "    \n",
    "    ser_simu[idx] = 1.0 * error / len(x_real_train)\n",
    "    \n",
    "    # Theoretical BPSK BER.    \n",
    "    ser_theo[idx] = erfc( np.sqrt(  0.5*(10.0**(EsN0dB[idx]/10.0))   ) ) - (1/4)*(erfc(np.sqrt(0.5*(10.0**(EsN0dB[idx]/10.0)))))**2.0"
   ]
  },
  {
   "cell_type": "markdown",
   "metadata": {},
   "source": [
    "B. Apresente um gráfico comparando a SER simulada e a SER teórica versus osvalores de Es/N0 definidos acima."
   ]
  },
  {
   "cell_type": "code",
   "execution_count": 7,
   "metadata": {},
   "outputs": [
    {
     "data": {
      "image/png": "[encoded data removed]",
      "text/plain": [
       "<Figure size 720x720 with 1 Axes>"
      ]
     },
     "metadata": {
      "needs_background": "light"
     },
     "output_type": "display_data"
    }
   ],
   "source": [
    "# Plotar Es/N0 vs BER values.\n",
    "fig = plt.figure(figsize=(10,10))\n",
    "plt.plot(EsN0dB, ser_theo, label='Teórico')\n",
    "plt.plot(EsN0dB, ser_simu, 'ro', label='Simulado')\n",
    "plt.xscale('linear')\n",
    "plt.yscale('log')\n",
    "plt.xlabel('Es/N0 [dB]')\n",
    "plt.ylabel('BER')\n",
    "plt.grid(True)\n",
    "plt.title('Detecção BPSK')\n",
    "plt.legend()\n",
    "plt.savefig(\"bpsk_ber_curves.png\", dpi=600)\n",
    "plt.show()"
   ]
  },
  {
   "cell_type": "markdown",
   "metadata": {},
   "source": [
    "###### C. Podemos dizer que a curva simulada se aproxima da curva teórica da SER?"
   ]
  },
  {
   "cell_type": "markdown",
   "metadata": {},
   "source": [
    "Sim, aproxima de maneira muito boa! Porém tem aquilo né, ela se aproxima bem porque temos conhecimento do ruído como sendo gaussiano que possibilita que usemos a ferramente certa para o algorítmo."
   ]
  },
  {
   "cell_type": "markdown",
   "metadata": {},
   "source": [
    "###### D. Se as classes, ou seja, os símbolos, tivessem probabilidades diferentes, nós poderíamos dizer que o classificador ML é equivalente ao MAP?"
   ]
  },
  {
   "cell_type": "markdown",
   "metadata": {},
   "source": [
    "Não, caso os simbolos tiverem uma probabilidade diferente não teria como afirmar que os dois são equivalentes."
   ]
  },
  {
   "cell_type": "code",
   "execution_count": null,
   "metadata": {},
   "outputs": [],
   "source": []
  }
 ],
 "metadata": {
  "kernelspec": {
   "display_name": "Python 3",
   "language": "python",
   "name": "python3"
  },
  "language_info": {
   "codemirror_mode": {
    "name": "ipython",
    "version": 3
   },
   "file_extension": ".py",
   "mimetype": "text/x-python",
   "name": "python",
   "nbconvert_exporter": "python",
   "pygments_lexer": "ipython3",
   "version": "3.8.3"
  }
 },
 "nbformat": 4,
 "nbformat_minor": 4
}
