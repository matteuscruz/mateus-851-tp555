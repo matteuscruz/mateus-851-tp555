{
  "nbformat": 4,
  "nbformat_minor": 0,
  "metadata": {
    "colab": {
      "name": "Exercício_9.ipynb",
      "provenance": [],
      "collapsed_sections": []
    },
    "kernelspec": {
      "name": "python3",
      "display_name": "Python 3"
    }
  },
  "cells": [
    {
      "cell_type": "markdown",
      "metadata": {
        "id": "NSabqfLN3uPy"
      },
      "source": [
        "model: ***ClassificationOfFourClassesWithOvAandOvO.ipynb***"
      ]
    },
    {
      "cell_type": "code",
      "metadata": {
        "id": "pOvK_5q6yhgw"
      },
      "source": [
        "# Importando as bibliotecas gerais:\n",
        "import random\n",
        "import numpy as np\n",
        "import seaborn as sns\n",
        "from scipy.special import expit\n",
        "import matplotlib.pyplot as plt\n",
        "\n",
        "# Importando as bibliotecas Scikit Learn:\n",
        "from sklearn.datasets import make_blobs\n",
        "from sklearn.datasets import load_digits\n",
        "from sklearn.metrics import classification_report\n",
        "from sklearn.linear_model import LogisticRegression\n",
        "from sklearn.model_selection import train_test_split\n",
        "from sklearn.metrics import accuracy_score, roc_curve, auc\n",
        "from sklearn.metrics import confusion_matrix, accuracy_score"
      ],
      "execution_count": null,
      "outputs": []
    },
    {
      "cell_type": "code",
      "metadata": {
        "id": "dBYAwqYm4PEg"
      },
      "source": [
        "class LogisticRegressor:\n",
        "\n",
        "    def error_function(self, x, y, a):    \n",
        "        h = expit(x.dot(a))\n",
        "        error = -(1/len(y))*np.sum(y.T.dot(np.log(h)) + (1-y).T.dot(np.log((1-h) )))\n",
        "        return error\n",
        "\n",
        "    def predict(self, x, a):\n",
        "        h = expit(x.dot(a))\n",
        "        c = np.zeros((len(h), 1))\n",
        "        for i in range(0, len(h)):\n",
        "            if(h[i] >= 0.5):\n",
        "                c[i,0] = 1.0\n",
        "        return c\n",
        "\n",
        "    def predict_proba(self, x, a):\n",
        "        h = expit(x.dot(a))\n",
        "        return h\n",
        "\n",
        "    def predict_proba2(self, x, a):\n",
        "        h1 = expit(x.dot(a))\n",
        "        h0 = 1 - h1\n",
        "        h = np.c_[h0, h1]\n",
        "        return h\n",
        "    \n",
        "    def fit(self, x_train, y_train, x_test, y_test, alpha, n_iterations):\n",
        "        # Random initialization of parameters.\n",
        "        a = np.random.randn(x_train.shape[1], 1)\n",
        "\n",
        "        # Create array for storing error values.\n",
        "        Jgd = np.zeros(n_iterations+1)\n",
        "        Jgd_v = np.zeros(n_iterations+1)\n",
        "\n",
        "        # Calculate initial error.\n",
        "        Jgd[0] = self.error_function(x_train, y_train, a)\n",
        "        Jgd_v[0] = self.error_function(x_test, y_test, a)\n",
        "\n",
        "        # Batch gradient-descent loop.\n",
        "        minimum_val_error = float(\"inf\")\n",
        "        error = float(\"inf\")\n",
        "        iteration = 0\n",
        "        while iteration < n_iterations:\n",
        "            gradients = -1/len(y_train)*x_train.T.dot(y_train - expit(x_train.dot(a)) )\n",
        "            a = a - alpha * gradients\n",
        "            Jgd[iteration+1] = self.error_function(x_train, y_train, a)\n",
        "            Jgd_v[iteration+1] = self.error_function(x_test, y_test, a)\n",
        "            error = np.abs(Jgd[iteration+1] - Jgd[iteration])\n",
        "            # Store weights for the smallest error ever.\n",
        "            if(Jgd_v[iteration+1] < minimum_val_error):\n",
        "                minimum_val_error = Jgd_v[iteration+1]\n",
        "                a_min = a        \n",
        "            iteration += 1\n",
        "        return a_min, minimum_val_error, iteration, Jgd, Jgd_v   "
      ],
      "execution_count": null,
      "outputs": []
    },
    {
      "cell_type": "code",
      "metadata": {
        "id": "WYURZ7eGzVJZ"
      },
      "source": [
        "# Definindo a semente:\n",
        "seed = 42\n",
        "\n",
        "# Definindo a quantidade de exemplos:\n",
        "M = 1000\n",
        "\n",
        "# Definindo os centróides:\n",
        "centers = [[-5, 0], [0, 1.5], [5, -1], [10, 1.5], [15, 0]]\n",
        "\n",
        "# Criando o data-set:\n",
        "x, y = make_blobs(n_samples=M, centers=centers, random_state=seed)\n",
        "\n",
        "Y = y\n",
        "\n",
        "y = y/1.0;\n",
        "\n",
        "y = y.reshape(len(y), 1)"
      ],
      "execution_count": null,
      "outputs": []
    },
    {
      "cell_type": "code",
      "metadata": {
        "colab": {
          "base_uri": "https://localhost:8080/",
          "height": 281
        },
        "id": "bWq6NBDEzi2F",
        "outputId": "b8f5171a-c48c-4d81-c002-c4f659b34c05"
      },
      "source": [
        "# Definindo os índices:\n",
        "idx0 = np.argwhere(Y == 0)\n",
        "idx1 = np.argwhere(Y == 1)\n",
        "idx2 = np.argwhere(Y == 2)\n",
        "idx3 = np.argwhere(Y == 3)\n",
        "idx4 = np.argwhere(Y == 4)\n",
        "\n",
        "# Fazendo a plotagem:\n",
        "plt.plot(x[idx0,0], x[idx0,1], '.', label='Class 0')\n",
        "plt.plot(x[idx1,0], x[idx1,1], 'rx', label='Class 1')\n",
        "plt.plot(x[idx2,0], x[idx2,1], 'ko', label='Class 2')\n",
        "plt.plot(x[idx3,0], x[idx3,1], 'c*', label='Class 3')\n",
        "plt.plot(x[idx4,0], x[idx4,1], 'y*', label='Class 4')\n",
        "plt.xlabel('$x_1$')\n",
        "plt.ylabel('$x_2$')\n",
        "plt.legend()\n",
        "plt.show()"
      ],
      "execution_count": null,
      "outputs": [
        {
          "output_type": "display_data",
          "data": {
            "image/png": "[encoded data removed]",
            "text/plain": [
              "<Figure size 432x288 with 1 Axes>"
            ]
          },
          "metadata": {
            "tags": [],
            "needs_background": "light"
          }
        }
      ]
    },
    {
      "cell_type": "markdown",
      "metadata": {
        "id": "3VpLZ8lC4kGN"
      },
      "source": [
        "## **Um-Contra-o-Resto**"
      ]
    },
    {
      "cell_type": "markdown",
      "metadata": {
        "id": "WOB5ksk76EW3"
      },
      "source": [
        "Classe 1 versus Resto"
      ]
    },
    {
      "cell_type": "code",
      "metadata": {
        "id": "FzP7acB10tqL"
      },
      "source": [
        "y_mod1 = y.copy()\n",
        "y_mod1[idx0] = 1\n",
        "y_mod1[idx1] = 0\n",
        "y_mod1[idx2] = 0\n",
        "y_mod1[idx3] = 0\n",
        "y_mod1[idx4] = 0\n",
        "\n",
        "# Split array into random train and test subsets.\n",
        "x_train, x_test, y_train, y_test = train_test_split(x, y_mod1, test_size=0.3, random_state=seed)\n",
        "\n",
        "x_train = np.c_[np.ones((len(y_train), 1)), x_train]\n",
        "\n",
        "x_test = np.c_[np.ones((len(y_test), 1)), x_test]"
      ],
      "execution_count": null,
      "outputs": []
    },
    {
      "cell_type": "code",
      "metadata": {
        "id": "Jehb0iEY32tV"
      },
      "source": [
        "# learning rate.\n",
        "alpha = 0.001\n",
        "# Maximum number of iterations.\n",
        "n_iterations = 40000\n",
        "\n",
        "clf1 = LogisticRegressor()\n",
        "a_min1, minimum_val_error, iteration, Jgd, Jgd_v = clf1.fit(x_train, y_train, x_test, y_test, alpha, n_iterations)"
      ],
      "execution_count": null,
      "outputs": []
    },
    {
      "cell_type": "code",
      "metadata": {
        "colab": {
          "base_uri": "https://localhost:8080/",
          "height": 295
        },
        "id": "EjHP5yRK4fxw",
        "outputId": "c122a657-913d-43e4-aa6b-203e7d645749"
      },
      "source": [
        "plt.plot(np.arange(0, iteration), Jgd[0:iteration], label='treinamento')\n",
        "plt.plot(np.arange(0, iteration), Jgd_v[0:iteration], label='validação')\n",
        "plt.xlim((0, iteration))\n",
        "plt.xlabel('Iteration')\n",
        "plt.ylabel('$J_e$')\n",
        "plt.title('Error vs. Iteration number')\n",
        "plt.legend()\n",
        "plt.show()"
      ],
      "execution_count": null,
      "outputs": [
        {
          "output_type": "display_data",
          "data": {
            "image/png": "[encoded data removed]",
            "text/plain": [
              "<Figure size 432x288 with 1 Axes>"
            ]
          },
          "metadata": {
            "tags": [],
            "needs_background": "light"
          }
        }
      ]
    },
    {
      "cell_type": "markdown",
      "metadata": {
        "id": "AakkMmNr6G_H"
      },
      "source": [
        "Classe 2 vs Resto"
      ]
    },
    {
      "cell_type": "code",
      "metadata": {
        "id": "yVqpqwGJ4h-p"
      },
      "source": [
        "y_mod2 = y.copy()\n",
        "y_mod2[idx0] = 0\n",
        "y_mod2[idx1] = 1\n",
        "y_mod2[idx2] = 0\n",
        "y_mod2[idx3] = 0\n",
        "y_mod2[idx4] = 0\n",
        "\n",
        "# Split array into random train and test subsets.\n",
        "x_train, x_test, y_train, y_test = train_test_split(x, y_mod2, test_size=0.3, random_state=seed)\n",
        "\n",
        "x_train = np.c_[np.ones((len(y_train), 1)), x_train]\n",
        "\n",
        "x_test = np.c_[np.ones((len(y_test), 1)), x_test]\n"
      ],
      "execution_count": null,
      "outputs": []
    },
    {
      "cell_type": "code",
      "metadata": {
        "id": "g60INsND6T7o"
      },
      "source": [
        "# learning rate.\n",
        "alpha = 0.001\n",
        "# Maximum number of iterations.\n",
        "n_iterations = 100000\n",
        "\n",
        "clf2 = LogisticRegressor()\n",
        "a_min2, minimum_val_error, iteration, Jgd, Jgd_v = clf2.fit(x_train, y_train, x_test, y_test, alpha, n_iterations)"
      ],
      "execution_count": null,
      "outputs": []
    },
    {
      "cell_type": "code",
      "metadata": {
        "colab": {
          "base_uri": "https://localhost:8080/",
          "height": 295
        },
        "id": "wg45MUWw6UPI",
        "outputId": "2653db2e-5fbb-444d-a412-2aac040e303b"
      },
      "source": [
        "plt.plot(np.arange(0, iteration), Jgd[0:iteration], label='treinamento')\n",
        "plt.plot(np.arange(0, iteration), Jgd_v[0:iteration], label='validação')\n",
        "plt.xlim((0, iteration))\n",
        "plt.xlabel('Iteration')\n",
        "plt.ylabel('$J_e$')\n",
        "plt.title('Error vs. Iteration number')\n",
        "plt.legend()\n",
        "plt.show()"
      ],
      "execution_count": null,
      "outputs": [
        {
          "output_type": "display_data",
          "data": {
            "image/png": "[encoded data removed]",
            "text/plain": [
              "<Figure size 432x288 with 1 Axes>"
            ]
          },
          "metadata": {
            "tags": [],
            "needs_background": "light"
          }
        }
      ]
    },
    {
      "cell_type": "markdown",
      "metadata": {
        "id": "cR-puoS16WfJ"
      },
      "source": [
        "Classe 3 vs Resto"
      ]
    },
    {
      "cell_type": "code",
      "metadata": {
        "id": "I-6-lL2P6Vbt"
      },
      "source": [
        "y_mod3 = y.copy()\n",
        "y_mod3[idx0] = 0\n",
        "y_mod3[idx1] = 0\n",
        "y_mod3[idx2] = 1\n",
        "y_mod3[idx3] = 0\n",
        "y_mod3[idx4] = 0\n",
        "\n",
        "# Split array into random train and test subsets.\n",
        "x_train, x_test, y_train, y_test = train_test_split(x, y_mod3, test_size=0.3, random_state=seed)\n",
        "\n",
        "x_train = np.c_[np.ones((len(y_train), 1)), x_train]\n",
        "\n",
        "x_test = np.c_[np.ones((len(y_test), 1)), x_test]"
      ],
      "execution_count": null,
      "outputs": []
    },
    {
      "cell_type": "code",
      "metadata": {
        "id": "MsoCoYYu6iA0"
      },
      "source": [
        "# learning rate.\n",
        "alpha = 0.001\n",
        "# Maximum number of iterations.\n",
        "n_iterations = 100000\n",
        "\n",
        "clf3 = LogisticRegressor()\n",
        "a_min3, minimum_val_error, iteration, Jgd, Jgd_v = clf3.fit(x_train, y_train, x_test, y_test, alpha, n_iterations)"
      ],
      "execution_count": null,
      "outputs": []
    },
    {
      "cell_type": "code",
      "metadata": {
        "colab": {
          "base_uri": "https://localhost:8080/",
          "height": 295
        },
        "id": "oTYf3WdY6j82",
        "outputId": "83155f22-8a8e-42d9-fa38-49b1118e8a3f"
      },
      "source": [
        "plt.plot(np.arange(0, iteration), Jgd[0:iteration], label='treinamento')\n",
        "plt.plot(np.arange(0, iteration), Jgd_v[0:iteration], label='validação')\n",
        "plt.xlim((0, iteration))\n",
        "plt.xlabel('Iteration')\n",
        "plt.ylabel('$J_e$')\n",
        "plt.title('Error vs. Iteration number')\n",
        "plt.legend()\n",
        "plt.show()"
      ],
      "execution_count": null,
      "outputs": [
        {
          "output_type": "display_data",
          "data": {
            "image/png": "[encoded data removed]",
            "text/plain": [
              "<Figure size 432x288 with 1 Axes>"
            ]
          },
          "metadata": {
            "tags": [],
            "needs_background": "light"
          }
        }
      ]
    },
    {
      "cell_type": "markdown",
      "metadata": {
        "id": "yrc8lcae6nFS"
      },
      "source": [
        "Classe 4 versus Resto"
      ]
    },
    {
      "cell_type": "code",
      "metadata": {
        "id": "JFdKn1qj6lfB"
      },
      "source": [
        "y_mod4 = y.copy()\n",
        "y_mod4[idx0] = 0\n",
        "y_mod4[idx1] = 0\n",
        "y_mod4[idx2] = 0\n",
        "y_mod4[idx3] = 1\n",
        "y_mod4[idx4] = 0\n",
        "\n",
        "# Split array into random train and test subsets.\n",
        "x_train, x_test, y_train, y_test = train_test_split(x, y_mod4, test_size=0.3, random_state=seed)\n",
        "\n",
        "x_train = np.c_[np.ones((len(y_train), 1)), x_train]\n",
        "\n",
        "x_test = np.c_[np.ones((len(y_test), 1)), x_test]"
      ],
      "execution_count": null,
      "outputs": []
    },
    {
      "cell_type": "code",
      "metadata": {
        "id": "-Dm0VGwD6t-i"
      },
      "source": [
        "# learning rate.\n",
        "alpha = 0.001\n",
        "# Maximum number of iterations.\n",
        "n_iterations = 100000\n",
        "\n",
        "clf4 = LogisticRegressor()\n",
        "a_min4, minimum_val_error, iteration, Jgd, Jgd_v = clf4.fit(x_train, y_train, x_test, y_test, alpha, n_iterations)"
      ],
      "execution_count": null,
      "outputs": []
    },
    {
      "cell_type": "code",
      "metadata": {
        "colab": {
          "base_uri": "https://localhost:8080/",
          "height": 295
        },
        "id": "g9dHErnN6vpc",
        "outputId": "254b7f8c-8a4d-4e2c-bc7e-4175fe31c85d"
      },
      "source": [
        "plt.plot(np.arange(0, iteration), Jgd[0:iteration], label='treinamento')\n",
        "plt.plot(np.arange(0, iteration), Jgd_v[0:iteration], label='validação')\n",
        "plt.xlim((0, iteration))\n",
        "plt.xlabel('Iteration')\n",
        "plt.ylabel('$J_e$')\n",
        "plt.title('Error vs. Iteration number')\n",
        "plt.legend()\n",
        "plt.show()"
      ],
      "execution_count": null,
      "outputs": [
        {
          "output_type": "display_data",
          "data": {
            "image/png": "[encoded data removed]",
            "text/plain": [
              "<Figure size 432x288 with 1 Axes>"
            ]
          },
          "metadata": {
            "tags": [],
            "needs_background": "light"
          }
        }
      ]
    },
    {
      "cell_type": "markdown",
      "metadata": {
        "id": "QdgiFGdb6x3p"
      },
      "source": [
        "Classe 5 vs Resto"
      ]
    },
    {
      "cell_type": "code",
      "metadata": {
        "id": "-hc1ma_V6w2h"
      },
      "source": [
        "y_mod5 = y.copy()\n",
        "y_mod5[idx0] = 0\n",
        "y_mod5[idx1] = 0\n",
        "y_mod5[idx2] = 0\n",
        "y_mod5[idx3] = 0\n",
        "y_mod5[idx4] = 1\n",
        "\n",
        "# Split array into random train and test subsets.\n",
        "x_train, x_test, y_train, y_test = train_test_split(x, y_mod5, test_size=0.3, random_state=seed)\n",
        "\n",
        "x_train = np.c_[np.ones((len(y_train), 1)), x_train]\n",
        "\n",
        "x_test = np.c_[np.ones((len(y_test), 1)), x_test]"
      ],
      "execution_count": null,
      "outputs": []
    },
    {
      "cell_type": "code",
      "metadata": {
        "id": "P8-gmf2s66CH"
      },
      "source": [
        "# learning rate.\n",
        "alpha = 0.001\n",
        "# Maximum number of iterations.\n",
        "n_iterations = 100000\n",
        "\n",
        "clf5 = LogisticRegressor()\n",
        "a_min5, minimum_val_error, iteration, Jgd, Jgd_v = clf5.fit(x_train, y_train, x_test, y_test, alpha, n_iterations)"
      ],
      "execution_count": null,
      "outputs": []
    },
    {
      "cell_type": "code",
      "metadata": {
        "colab": {
          "base_uri": "https://localhost:8080/",
          "height": 295
        },
        "id": "9nQAoMS37C2f",
        "outputId": "9c048767-25da-41bf-8761-2ab3409af943"
      },
      "source": [
        "plt.plot(np.arange(0, iteration), Jgd[0:iteration], label='treinamento')\n",
        "plt.plot(np.arange(0, iteration), Jgd_v[0:iteration], label='validação')\n",
        "plt.xlim((0, iteration))\n",
        "plt.xlabel('Iteration')\n",
        "plt.ylabel('$J_e$')\n",
        "plt.title('Error vs. Iteration number')\n",
        "plt.legend()\n",
        "plt.show()"
      ],
      "execution_count": null,
      "outputs": [
        {
          "output_type": "display_data",
          "data": {
            "image/png": "[encoded data removed]",
            "text/plain": [
              "<Figure size 432x288 with 1 Axes>"
            ]
          },
          "metadata": {
            "tags": [],
            "needs_background": "light"
          }
        }
      ]
    },
    {
      "cell_type": "markdown",
      "metadata": {
        "id": "5xw9VSOb7aFp"
      },
      "source": [
        "Predição:"
      ]
    },
    {
      "cell_type": "code",
      "metadata": {
        "id": "-MFNSUiJ7FPw"
      },
      "source": [
        "X = np.c_[np.ones((len(y), 1)), x]\n",
        "\n",
        "y_pred = np.zeros((M, 1))\n",
        "for i in range(0, M):\n",
        "    h1 = clf1.predict_proba(X[i,:], a_min1)\n",
        "    h2 = clf2.predict_proba(X[i,:], a_min2)\n",
        "    h3 = clf3.predict_proba(X[i,:], a_min3)\n",
        "    h4 = clf4.predict_proba(X[i,:], a_min4)\n",
        "    h5 = clf5.predict_proba(X[i,:], a_min5)\n",
        "\n",
        "    y_pred[i] = np.argmax([h1[0],h2[0],h3[0],h4[0],h5[0]])"
      ],
      "execution_count": null,
      "outputs": []
    },
    {
      "cell_type": "code",
      "metadata": {
        "colab": {
          "base_uri": "https://localhost:8080/",
          "height": 285
        },
        "id": "SAQY00vH7eQD",
        "outputId": "415534c4-3322-482e-dc19-0c9ead6a9524"
      },
      "source": [
        "# Plot the confusion matrix\n",
        "mat = confusion_matrix(y, y_pred)\n",
        "sns.set()\n",
        "sns.heatmap(mat.T, square=True, annot=True, fmt='d', cbar=False, xticklabels=['0','1','2','3','4'], yticklabels=['0','1','2','3','4'], cmap=\"Blues\")\n",
        "plt.xlabel('true label')\n",
        "plt.ylabel('predicted label')\n",
        "plt.show()"
      ],
      "execution_count": null,
      "outputs": [
        {
          "output_type": "display_data",
          "data": {
            "image/png": "[encoded data removed]",
            "text/plain": [
              "<Figure size 432x288 with 1 Axes>"
            ]
          },
          "metadata": {
            "tags": []
          }
        }
      ]
    },
    {
      "cell_type": "code",
      "metadata": {
        "colab": {
          "base_uri": "https://localhost:8080/"
        },
        "id": "QWvK0BfM8Fgj",
        "outputId": "6df7c3a9-4e87-4e8f-84c1-1930ff973eaf"
      },
      "source": [
        "print(classification_report(y, y_pred))\n"
      ],
      "execution_count": null,
      "outputs": [
        {
          "output_type": "stream",
          "text": [
            "              precision    recall  f1-score   support\n",
            "\n",
            "         0.0       0.90      0.99      0.94       200\n",
            "         1.0       0.65      0.86      0.74       200\n",
            "         2.0       0.93      0.90      0.91       200\n",
            "         3.0       0.99      0.58      0.74       200\n",
            "         4.0       0.99      0.99      0.99       200\n",
            "\n",
            "    accuracy                           0.87      1000\n",
            "   macro avg       0.89      0.87      0.87      1000\n",
            "weighted avg       0.89      0.87      0.87      1000\n",
            "\n"
          ],
          "name": "stdout"
        }
      ]
    },
    {
      "cell_type": "code",
      "metadata": {
        "colab": {
          "base_uri": "https://localhost:8080/"
        },
        "id": "bYYWGSC28OVJ",
        "outputId": "80ac639c-8c38-4fdb-a3ac-3a4e14c787d9"
      },
      "source": [
        "# Calculate accuracy of class predictions.\n",
        "accuracy_score(y, y_pred)\n"
      ],
      "execution_count": null,
      "outputs": [
        {
          "output_type": "execute_result",
          "data": {
            "text/plain": [
              "0.867"
            ]
          },
          "metadata": {
            "tags": []
          },
          "execution_count": 87
        }
      ]
    },
    {
      "cell_type": "markdown",
      "metadata": {
        "id": "b6Y3mo9G8dbM"
      },
      "source": [
        "# **Um-contra-Um**"
      ]
    },
    {
      "cell_type": "markdown",
      "metadata": {
        "id": "_n5hkTaZ_qcr"
      },
      "source": [
        "Definindo valor de alpha, pois com o alpha do exemplo o algoritmo ficou pior"
      ]
    },
    {
      "cell_type": "code",
      "metadata": {
        "id": "Dl30TAF5_whb"
      },
      "source": [
        "alp = 0.06"
      ],
      "execution_count": 168,
      "outputs": []
    },
    {
      "cell_type": "markdown",
      "metadata": {
        "id": "oJIE2dVV8jcf"
      },
      "source": [
        "Classe 1 vs Classe 2"
      ]
    },
    {
      "cell_type": "code",
      "metadata": {
        "id": "wHg16C6Y8QRD"
      },
      "source": [
        "idxC1 = idx0.ravel()\n",
        "idxC2 = idx1.ravel()\n",
        "\n",
        "y_mod = y.copy()\n",
        "y_mod[idxC1] = 1\n",
        "y_mod[idxC2] = 0\n",
        "y_mod = np.r_[y_mod[idxC1],  y_mod[idxC2]]\n",
        "x_mod = np.r_[x[idxC1],  x[idxC2]]\n",
        "\n",
        "# Split array into random train and test subsets.\n",
        "x_train, x_test, y_train, y_test = train_test_split(x_mod, y_mod, test_size=0.3, random_state=seed)\n",
        "\n",
        "x_train = np.c_[np.ones((len(y_train), 1)), x_train]\n",
        "\n",
        "x_test = np.c_[np.ones((len(y_test), 1)), x_test]"
      ],
      "execution_count": 169,
      "outputs": []
    },
    {
      "cell_type": "code",
      "metadata": {
        "id": "aVt0CXcc8iRy"
      },
      "source": [
        "# learning rate.\n",
        "alpha = alp\n",
        "# Maximum number of iterations.\n",
        "n_iterations = 100000\n",
        "\n",
        "clf1 = LogisticRegressor()\n",
        "a_min1, minimum_val_error, iteration, Jgd, Jgd_v = clf1.fit(x_train, y_train, x_test, y_test, alpha, n_iterations)"
      ],
      "execution_count": 170,
      "outputs": []
    },
    {
      "cell_type": "code",
      "metadata": {
        "colab": {
          "base_uri": "https://localhost:8080/",
          "height": 301
        },
        "id": "27R4Hl3n8n6j",
        "outputId": "8cf5c47c-9365-4073-cf4a-f5a0f937cfeb"
      },
      "source": [
        "plt.plot(np.arange(0, iteration), Jgd[0:iteration], label='treinamento')\n",
        "plt.plot(np.arange(0, iteration), Jgd_v[0:iteration], label='validação')\n",
        "plt.xlim((0, iteration))\n",
        "plt.xlabel('Iteration')\n",
        "plt.ylabel('$J_e$')\n",
        "plt.title('Error vs. Iteration number')\n",
        "plt.legend()\n",
        "plt.show()"
      ],
      "execution_count": 171,
      "outputs": [
        {
          "output_type": "display_data",
          "data": {
            "image/png": "[encoded data removed]",
            "text/plain": [
              "<Figure size 432x288 with 1 Axes>"
            ]
          },
          "metadata": {
            "tags": []
          }
        }
      ]
    },
    {
      "cell_type": "markdown",
      "metadata": {
        "id": "lSEySggW8rxU"
      },
      "source": [
        "Classe 1 vs Classe 3"
      ]
    },
    {
      "cell_type": "code",
      "metadata": {
        "id": "2nSaGpAq8p4n"
      },
      "source": [
        "idxC1 = idx0.ravel()\n",
        "idxC2 = idx2.ravel()\n",
        "\n",
        "y_mod = y.copy()\n",
        "y_mod[idxC1] = 1\n",
        "y_mod[idxC2] = 0\n",
        "y_mod = np.r_[y_mod[idxC1],  y_mod[idxC2]]\n",
        "x_mod = np.r_[x[idxC1],  x[idxC2]]\n",
        "\n",
        "# Split array into random train and test subsets.\n",
        "x_train, x_test, y_train, y_test = train_test_split(x_mod, y_mod, test_size=0.3, random_state=seed)\n",
        "\n",
        "x_train = np.c_[np.ones((len(y_train), 1)), x_train]\n",
        "\n",
        "x_test = np.c_[np.ones((len(y_test), 1)), x_test]"
      ],
      "execution_count": 172,
      "outputs": []
    },
    {
      "cell_type": "code",
      "metadata": {
        "id": "BTr1EWcW8wCu"
      },
      "source": [
        "# learning rate.\n",
        "alpha = alp\n",
        "# Maximum number of iterations.\n",
        "n_iterations = 100000\n",
        "\n",
        "clf2 = LogisticRegressor()\n",
        "a_min2, minimum_val_error, iteration, Jgd, Jgd_v = clf2.fit(x_train, y_train, x_test, y_test, alpha, n_iterations)"
      ],
      "execution_count": 173,
      "outputs": []
    },
    {
      "cell_type": "code",
      "metadata": {
        "colab": {
          "base_uri": "https://localhost:8080/",
          "height": 301
        },
        "id": "C4kmbKi08xpb",
        "outputId": "279871a6-6162-4bd1-9563-5f5012285711"
      },
      "source": [
        "plt.plot(np.arange(0, iteration), Jgd[0:iteration], label='treinamento')\n",
        "plt.plot(np.arange(0, iteration), Jgd_v[0:iteration], label='validação')\n",
        "plt.xlim((0, iteration))\n",
        "plt.xlabel('Iteration')\n",
        "plt.ylabel('$J_e$')\n",
        "plt.title('Error vs. Iteration number')\n",
        "plt.legend()\n",
        "plt.show()"
      ],
      "execution_count": 174,
      "outputs": [
        {
          "output_type": "display_data",
          "data": {
            "image/png": "[encoded data removed]",
            "text/plain": [
              "<Figure size 432x288 with 1 Axes>"
            ]
          },
          "metadata": {
            "tags": []
          }
        }
      ]
    },
    {
      "cell_type": "markdown",
      "metadata": {
        "id": "Mojsgund81fU"
      },
      "source": [
        "Classe 1 vs Classe 4"
      ]
    },
    {
      "cell_type": "code",
      "metadata": {
        "id": "BbWo4qaP8zqr"
      },
      "source": [
        "idxC1 = idx0.ravel()\n",
        "idxC2 = idx3.ravel()\n",
        "\n",
        "y_mod = y.copy()\n",
        "y_mod[idxC1] = 1\n",
        "y_mod[idxC2] = 0\n",
        "y_mod = np.r_[y_mod[idxC1],  y_mod[idxC2]]\n",
        "x_mod = np.r_[x[idxC1],  x[idxC2]]\n",
        "\n",
        "# Split array into random train and test subsets.\n",
        "x_train, x_test, y_train, y_test = train_test_split(x_mod, y_mod, test_size=0.3, random_state=seed)\n",
        "\n",
        "x_train = np.c_[np.ones((len(y_train), 1)), x_train]\n",
        "\n",
        "x_test = np.c_[np.ones((len(y_test), 1)), x_test]"
      ],
      "execution_count": 175,
      "outputs": []
    },
    {
      "cell_type": "code",
      "metadata": {
        "id": "rNJ4WKGy8_y7"
      },
      "source": [
        "\n",
        "# learning rate.\n",
        "alpha = alp\n",
        "# Maximum number of iterations.\n",
        "n_iterations = 100000\n",
        "\n",
        "clf3 = LogisticRegressor()\n",
        "a_min3, minimum_val_error, iteration, Jgd, Jgd_v = clf3.fit(x_train, y_train, x_test, y_test, alpha, n_iterations)"
      ],
      "execution_count": 176,
      "outputs": []
    },
    {
      "cell_type": "code",
      "metadata": {
        "colab": {
          "base_uri": "https://localhost:8080/",
          "height": 301
        },
        "id": "Eo4atfVY9BSc",
        "outputId": "dfcef1f7-8aa6-43d8-fe5c-92dd0735947b"
      },
      "source": [
        "plt.plot(np.arange(0, iteration), Jgd[0:iteration], label='treinamento')\n",
        "plt.plot(np.arange(0, iteration), Jgd_v[0:iteration], label='validação')\n",
        "plt.xlim((0, iteration))\n",
        "plt.xlabel('Iteration')\n",
        "plt.ylabel('$J_e$')\n",
        "plt.title('Error vs. Iteration number')\n",
        "plt.legend()\n",
        "plt.show()"
      ],
      "execution_count": 177,
      "outputs": [
        {
          "output_type": "display_data",
          "data": {
            "image/png": "[encoded data removed]",
            "text/plain": [
              "<Figure size 432x288 with 1 Axes>"
            ]
          },
          "metadata": {
            "tags": []
          }
        }
      ]
    },
    {
      "cell_type": "markdown",
      "metadata": {
        "id": "jzAM5OhC9FN1"
      },
      "source": [
        "Classe 1 vs Classe 5"
      ]
    },
    {
      "cell_type": "code",
      "metadata": {
        "id": "GlAqWzt99DZN"
      },
      "source": [
        "idxC1 = idx1.ravel()\n",
        "idxC2 = idx4.ravel()\n",
        "\n",
        "y_mod = y.copy()\n",
        "y_mod[idxC1] = 1\n",
        "y_mod[idxC2] = 0\n",
        "y_mod = np.r_[y_mod[idxC1],  y_mod[idxC2]]\n",
        "x_mod = np.r_[x[idxC1],  x[idxC2]]\n",
        "\n",
        "# Split array into random train and test subsets.\n",
        "x_train, x_test, y_train, y_test = train_test_split(x_mod, y_mod, test_size=0.3, random_state=seed)\n",
        "\n",
        "x_train = np.c_[np.ones((len(y_train), 1)), x_train]\n",
        "\n",
        "x_test = np.c_[np.ones((len(y_test), 1)), x_test]"
      ],
      "execution_count": 178,
      "outputs": []
    },
    {
      "cell_type": "code",
      "metadata": {
        "id": "Agm_kjkM9MSl"
      },
      "source": [
        "# learning rate.\n",
        "alpha = alp\n",
        "# Maximum number of iterations.\n",
        "n_iterations = 100000\n",
        "\n",
        "clf4 = LogisticRegressor()\n",
        "a_min4, minimum_val_error, iteration, Jgd, Jgd_v = clf4.fit(x_train, y_train, x_test, y_test, alpha, n_iterations)"
      ],
      "execution_count": 179,
      "outputs": []
    },
    {
      "cell_type": "code",
      "metadata": {
        "colab": {
          "base_uri": "https://localhost:8080/",
          "height": 301
        },
        "id": "Mbwy8oea9R-N",
        "outputId": "ad20f4bc-1ee3-46bd-bb7b-ce8923af1995"
      },
      "source": [
        "plt.plot(np.arange(0, iteration), Jgd[0:iteration], label='treinamento')\n",
        "plt.plot(np.arange(0, iteration), Jgd_v[0:iteration], label='validação')\n",
        "plt.xlim((0, iteration))\n",
        "plt.xlabel('Iteration')\n",
        "plt.ylabel('$J_e$')\n",
        "plt.title('Error vs. Iteration number')\n",
        "plt.legend()\n",
        "plt.show()"
      ],
      "execution_count": 180,
      "outputs": [
        {
          "output_type": "display_data",
          "data": {
            "image/png": "[encoded data removed]",
            "text/plain": [
              "<Figure size 432x288 with 1 Axes>"
            ]
          },
          "metadata": {
            "tags": []
          }
        }
      ]
    },
    {
      "cell_type": "markdown",
      "metadata": {
        "id": "PVo2oavZ9ez5"
      },
      "source": [
        "Classe 2 vs Classe 3"
      ]
    },
    {
      "cell_type": "code",
      "metadata": {
        "id": "nG2-giKq9eH1"
      },
      "source": [
        "idxC1 = idx1.ravel()\n",
        "idxC2 = idx2.ravel()\n",
        "\n",
        "y_mod = y.copy()\n",
        "y_mod[idxC1] = 1\n",
        "y_mod[idxC2] = 0\n",
        "y_mod = np.r_[y_mod[idxC1],  y_mod[idxC2]]\n",
        "x_mod = np.r_[x[idxC1],  x[idxC2]]\n",
        "\n",
        "# Split array into random train and test subsets.\n",
        "x_train, x_test, y_train, y_test = train_test_split(x_mod, y_mod, test_size=0.3, random_state=seed)\n",
        "\n",
        "x_train = np.c_[np.ones((len(y_train), 1)), x_train]\n",
        "\n",
        "x_test = np.c_[np.ones((len(y_test), 1)), x_test]\n"
      ],
      "execution_count": 181,
      "outputs": []
    },
    {
      "cell_type": "code",
      "metadata": {
        "id": "oZ9FzKJp9eYh"
      },
      "source": [
        "# learning rate.\n",
        "alpha = alp\n",
        "# Maximum number of iterations.\n",
        "n_iterations = 100000\n",
        "\n",
        "clf5 = LogisticRegressor()\n",
        "a_min5, minimum_val_error, iteration, Jgd, Jgd_v = clf5.fit(x_train, y_train, x_test, y_test, alpha, n_iterations)"
      ],
      "execution_count": 182,
      "outputs": []
    },
    {
      "cell_type": "code",
      "metadata": {
        "colab": {
          "base_uri": "https://localhost:8080/",
          "height": 301
        },
        "id": "Ky7KJPEJ9ea1",
        "outputId": "fa9bfb7a-b017-4449-ffa8-389d6fb46318"
      },
      "source": [
        "plt.plot(np.arange(0, iteration), Jgd[0:iteration], label='treinamento')\n",
        "plt.plot(np.arange(0, iteration), Jgd_v[0:iteration], label='validação')\n",
        "plt.xlim((0, iteration))\n",
        "plt.xlabel('Iteration')\n",
        "plt.ylabel('$J_e$')\n",
        "plt.title('Error vs. Iteration number')\n",
        "plt.legend()\n",
        "plt.show()"
      ],
      "execution_count": 183,
      "outputs": [
        {
          "output_type": "display_data",
          "data": {
            "image/png": "[encoded data removed]",
            "text/plain": [
              "<Figure size 432x288 with 1 Axes>"
            ]
          },
          "metadata": {
            "tags": []
          }
        }
      ]
    },
    {
      "cell_type": "markdown",
      "metadata": {
        "id": "o6feZ4Vb9okX"
      },
      "source": [
        "Classe 2 vs Classe 4"
      ]
    },
    {
      "cell_type": "code",
      "metadata": {
        "id": "_g56eQkf9TgE"
      },
      "source": [
        "idxC1 = idx1.ravel()\n",
        "idxC2 = idx3.ravel()\n",
        "\n",
        "y_mod = y.copy()\n",
        "y_mod[idxC1] = 1\n",
        "y_mod[idxC2] = 0\n",
        "y_mod = np.r_[y_mod[idxC1],  y_mod[idxC2]]\n",
        "x_mod = np.r_[x[idxC1],  x[idxC2]]\n",
        "\n",
        "# Split array into random train and test subsets.\n",
        "x_train, x_test, y_train, y_test = train_test_split(x_mod, y_mod, test_size=0.3, random_state=seed)\n",
        "\n",
        "x_train = np.c_[np.ones((len(y_train), 1)), x_train]\n",
        "\n",
        "x_test = np.c_[np.ones((len(y_test), 1)), x_test]"
      ],
      "execution_count": 184,
      "outputs": []
    },
    {
      "cell_type": "code",
      "metadata": {
        "id": "v5ZpqsEb9tQm"
      },
      "source": [
        "# learning rate.\n",
        "alpha = alp\n",
        "# Maximum number of iterations.\n",
        "n_iterations = 100000\n",
        "\n",
        "clf6 = LogisticRegressor()\n",
        "a_min6, minimum_val_error, iteration, Jgd, Jgd_v = clf6.fit(x_train, y_train, x_test, y_test, alpha, n_iterations)"
      ],
      "execution_count": 185,
      "outputs": []
    },
    {
      "cell_type": "code",
      "metadata": {
        "colab": {
          "base_uri": "https://localhost:8080/",
          "height": 301
        },
        "id": "xERJYO389vbt",
        "outputId": "0463e463-9839-4ebd-a2b4-cdc7ffbac83c"
      },
      "source": [
        "plt.plot(np.arange(0, iteration), Jgd[0:iteration], label='treinamento')\n",
        "plt.plot(np.arange(0, iteration), Jgd_v[0:iteration], label='validação')\n",
        "plt.xlim((0, iteration))\n",
        "plt.xlabel('Iteration')\n",
        "plt.ylabel('$J_e$')\n",
        "plt.title('Error vs. Iteration number')\n",
        "plt.legend()\n",
        "plt.show()"
      ],
      "execution_count": 186,
      "outputs": [
        {
          "output_type": "display_data",
          "data": {
            "image/png": "[encoded data removed]",
            "text/plain": [
              "<Figure size 432x288 with 1 Axes>"
            ]
          },
          "metadata": {
            "tags": []
          }
        }
      ]
    },
    {
      "cell_type": "markdown",
      "metadata": {
        "id": "Lkd8f_Ac90GW"
      },
      "source": [
        "Classe 2 vs Classe 5"
      ]
    },
    {
      "cell_type": "code",
      "metadata": {
        "id": "AH87WeH89yD_"
      },
      "source": [
        "idxC1 = idx1.ravel()\n",
        "idxC2 = idx4.ravel()\n",
        "\n",
        "y_mod = y.copy()\n",
        "y_mod[idxC1] = 1\n",
        "y_mod[idxC2] = 0\n",
        "y_mod = np.r_[y_mod[idxC1],  y_mod[idxC2]]\n",
        "x_mod = np.r_[x[idxC1],  x[idxC2]]\n",
        "\n",
        "# Split array into random train and test subsets.\n",
        "x_train, x_test, y_train, y_test = train_test_split(x_mod, y_mod, test_size=0.3, random_state=seed)\n",
        "\n",
        "x_train = np.c_[np.ones((len(y_train), 1)), x_train]\n",
        "\n",
        "x_test = np.c_[np.ones((len(y_test), 1)), x_test]"
      ],
      "execution_count": 187,
      "outputs": []
    },
    {
      "cell_type": "code",
      "metadata": {
        "id": "TkhYL6Rj9637"
      },
      "source": [
        "# learning rate.\n",
        "alpha = alp\n",
        "# Maximum number of iterations.\n",
        "n_iterations = 100000\n",
        "\n",
        "clf7 = LogisticRegressor()\n",
        "a_min7, minimum_val_error, iteration, Jgd, Jgd_v = clf7.fit(x_train, y_train, x_test, y_test, alpha, n_iterations)"
      ],
      "execution_count": 188,
      "outputs": []
    },
    {
      "cell_type": "code",
      "metadata": {
        "colab": {
          "base_uri": "https://localhost:8080/",
          "height": 301
        },
        "id": "VxCM-Nau9_Kz",
        "outputId": "ed491ee8-231e-4cff-8d92-fa47ff9f29aa"
      },
      "source": [
        "plt.plot(np.arange(0, iteration), Jgd[0:iteration], label='treinamento')\n",
        "plt.plot(np.arange(0, iteration), Jgd_v[0:iteration], label='validação')\n",
        "plt.xlim((0, iteration))\n",
        "plt.xlabel('Iteration')\n",
        "plt.ylabel('$J_e$')\n",
        "plt.title('Error vs. Iteration number')\n",
        "plt.legend()\n",
        "plt.show()"
      ],
      "execution_count": 189,
      "outputs": [
        {
          "output_type": "display_data",
          "data": {
            "image/png": "[encoded data removed]",
            "text/plain": [
              "<Figure size 432x288 with 1 Axes>"
            ]
          },
          "metadata": {
            "tags": []
          }
        }
      ]
    },
    {
      "cell_type": "markdown",
      "metadata": {
        "id": "Pn2k7ZhZ-Cm5"
      },
      "source": [
        "Classe 3 vs Classe 4"
      ]
    },
    {
      "cell_type": "code",
      "metadata": {
        "id": "1Cd_1Pb6-BDv"
      },
      "source": [
        "idxC1 = idx2.ravel()\n",
        "idxC2 = idx3.ravel()\n",
        "\n",
        "y_mod = y.copy()\n",
        "y_mod[idxC1] = 1\n",
        "y_mod[idxC2] = 0\n",
        "y_mod = np.r_[y_mod[idxC1],  y_mod[idxC2]]\n",
        "x_mod = np.r_[x[idxC1],  x[idxC2]]\n",
        "\n",
        "# Split array into random train and test subsets.\n",
        "x_train, x_test, y_train, y_test = train_test_split(x_mod, y_mod, test_size=0.3, random_state=seed)\n",
        "\n",
        "x_train = np.c_[np.ones((len(y_train), 1)), x_train]\n",
        "\n",
        "x_test = np.c_[np.ones((len(y_test), 1)), x_test]"
      ],
      "execution_count": 190,
      "outputs": []
    },
    {
      "cell_type": "code",
      "metadata": {
        "id": "lO7poo8s-G10"
      },
      "source": [
        "# learning rate.\n",
        "alpha = alp\n",
        "# Maximum number of iterations.\n",
        "n_iterations = 100000\n",
        "\n",
        "clf8 = LogisticRegressor()\n",
        "a_min8, minimum_val_error, iteration, Jgd, Jgd_v = clf8.fit(x_train, y_train, x_test, y_test, alpha, n_iterations)"
      ],
      "execution_count": 191,
      "outputs": []
    },
    {
      "cell_type": "code",
      "metadata": {
        "id": "Hu0OoU-O-Jhh",
        "colab": {
          "base_uri": "https://localhost:8080/",
          "height": 301
        },
        "outputId": "f820ffe9-4821-4b3e-9980-c1fb241d4dad"
      },
      "source": [
        "plt.plot(np.arange(0, iteration), Jgd[0:iteration], label='treinamento')\n",
        "plt.plot(np.arange(0, iteration), Jgd_v[0:iteration], label='validação')\n",
        "plt.xlim((0, iteration))\n",
        "plt.xlabel('Iteration')\n",
        "plt.ylabel('$J_e$')\n",
        "plt.title('Error vs. Iteration number')\n",
        "plt.legend()\n",
        "plt.show()"
      ],
      "execution_count": 192,
      "outputs": [
        {
          "output_type": "display_data",
          "data": {
            "image/png": "[encoded data removed]",
            "text/plain": [
              "<Figure size 432x288 with 1 Axes>"
            ]
          },
          "metadata": {
            "tags": []
          }
        }
      ]
    },
    {
      "cell_type": "markdown",
      "metadata": {
        "id": "6Ku20h_x-N_8"
      },
      "source": [
        "Classe 3 vs classe 5"
      ]
    },
    {
      "cell_type": "code",
      "metadata": {
        "id": "v42F27oE-MZ3"
      },
      "source": [
        "idxC1 = idx2.ravel()\n",
        "idxC2 = idx4.ravel()\n",
        "\n",
        "y_mod = y.copy()\n",
        "y_mod[idxC1] = 1\n",
        "y_mod[idxC2] = 0\n",
        "y_mod = np.r_[y_mod[idxC1],  y_mod[idxC2]]\n",
        "x_mod = np.r_[x[idxC1],  x[idxC2]]\n",
        "\n",
        "# Split array into random train and test subsets.\n",
        "x_train, x_test, y_train, y_test = train_test_split(x_mod, y_mod, test_size=0.3, random_state=seed)\n",
        "\n",
        "x_train = np.c_[np.ones((len(y_train), 1)), x_train]\n",
        "\n",
        "x_test = np.c_[np.ones((len(y_test), 1)), x_test]"
      ],
      "execution_count": 193,
      "outputs": []
    },
    {
      "cell_type": "code",
      "metadata": {
        "id": "otkwOiJH-Wzz"
      },
      "source": [
        "# learning rate.\n",
        "alpha = alp\n",
        "# Maximum number of iterations.\n",
        "n_iterations = 100000\n",
        "\n",
        "clf9 = LogisticRegressor()\n",
        "a_min9, minimum_val_error, iteration, Jgd, Jgd_v = clf9.fit(x_train, y_train, x_test, y_test, alpha, n_iterations)"
      ],
      "execution_count": 195,
      "outputs": []
    },
    {
      "cell_type": "code",
      "metadata": {
        "colab": {
          "base_uri": "https://localhost:8080/",
          "height": 301
        },
        "id": "dj4qQCAM_AGB",
        "outputId": "c6178b68-5fdb-43a3-a4c8-8603072dcfbc"
      },
      "source": [
        "plt.plot(np.arange(0, iteration), Jgd[0:iteration], label='treinamento')\n",
        "plt.plot(np.arange(0, iteration), Jgd_v[0:iteration], label='validação')\n",
        "plt.xlim((0, iteration))\n",
        "plt.xlabel('Iteration')\n",
        "plt.ylabel('$J_e$')\n",
        "plt.title('Error vs. Iteration number')\n",
        "plt.legend()\n",
        "plt.show()"
      ],
      "execution_count": 196,
      "outputs": [
        {
          "output_type": "display_data",
          "data": {
            "image/png": "[encoded data removed]",
            "text/plain": [
              "<Figure size 432x288 with 1 Axes>"
            ]
          },
          "metadata": {
            "tags": []
          }
        }
      ]
    },
    {
      "cell_type": "markdown",
      "metadata": {
        "id": "jfXc6_4W_INz"
      },
      "source": [
        "Classe 4 vs Classe 5"
      ]
    },
    {
      "cell_type": "code",
      "metadata": {
        "id": "mYt778D1_B64"
      },
      "source": [
        "idxC1 = idx3.ravel()\n",
        "idxC2 = idx4.ravel()\n",
        "\n",
        "y_mod = y.copy()\n",
        "y_mod[idxC1] = 1\n",
        "y_mod[idxC2] = 0\n",
        "y_mod = np.r_[y_mod[idxC1],  y_mod[idxC2]]\n",
        "x_mod = np.r_[x[idxC1],  x[idxC2]]\n",
        "\n",
        "# Split array into random train and test subsets.\n",
        "x_train, x_test, y_train, y_test = train_test_split(x_mod, y_mod, test_size=0.3, random_state=seed)\n",
        "\n",
        "x_train = np.c_[np.ones((len(y_train), 1)), x_train]\n",
        "\n",
        "x_test = np.c_[np.ones((len(y_test), 1)), x_test]"
      ],
      "execution_count": 197,
      "outputs": []
    },
    {
      "cell_type": "code",
      "metadata": {
        "id": "m_6aQgHM_Q-h"
      },
      "source": [
        "# learning rate.\n",
        "alpha = alp\n",
        "# Maximum number of iterations.\n",
        "n_iterations = 100000\n",
        "\n",
        "clf10 = LogisticRegressor()\n",
        "a_min10, minimum_val_error, iteration, Jgd, Jgd_v = clf10.fit(x_train, y_train, x_test, y_test, alpha, n_iterations)"
      ],
      "execution_count": 198,
      "outputs": []
    },
    {
      "cell_type": "code",
      "metadata": {
        "colab": {
          "base_uri": "https://localhost:8080/",
          "height": 301
        },
        "id": "zxI0prhr_TKW",
        "outputId": "959c7711-088c-468f-8814-a3da56f0b73b"
      },
      "source": [
        "plt.plot(np.arange(0, iteration), Jgd[0:iteration], label='treinamento')\n",
        "plt.plot(np.arange(0, iteration), Jgd_v[0:iteration], label='validação')\n",
        "plt.xlim((0, iteration))\n",
        "plt.xlabel('Iteration')\n",
        "plt.ylabel('$J_e$')\n",
        "plt.title('Error vs. Iteration number')\n",
        "plt.legend()\n",
        "plt.show()"
      ],
      "execution_count": 199,
      "outputs": [
        {
          "output_type": "display_data",
          "data": {
            "image/png": "[encoded data removed]",
            "text/plain": [
              "<Figure size 432x288 with 1 Axes>"
            ]
          },
          "metadata": {
            "tags": []
          }
        }
      ]
    },
    {
      "cell_type": "markdown",
      "metadata": {
        "id": "vNFVksVj_Vpg"
      },
      "source": [
        "Predição:"
      ]
    },
    {
      "cell_type": "code",
      "metadata": {
        "id": "wU9w6tQD_Ua7"
      },
      "source": [
        "X = np.c_[np.ones((len(y), 1)), x]\n",
        "\n",
        "y_pred = np.zeros((M, 1))\n",
        "for i in range(0, M):\n",
        "    classes = np.zeros((5,))\n",
        "    \n",
        "    if(clf1.predict(X[i,:], a_min1) == 1):\n",
        "        classes[0] += 1\n",
        "    else:\n",
        "        classes[1] += 1\n",
        "    \n",
        "    if(clf2.predict(X[i,:], a_min2) == 1):\n",
        "        classes[0] += 1\n",
        "    else:\n",
        "        classes[2] += 1        \n",
        "    \n",
        "    if(clf3.predict(X[i,:], a_min3) == 1):\n",
        "        classes[0] += 1\n",
        "    else:\n",
        "        classes[3] += 1      \n",
        "    \n",
        "    if(clf4.predict(X[i,:], a_min4) == 1):\n",
        "        classes[0] += 1\n",
        "    else:\n",
        "        classes[4] += 1 \n",
        "    \n",
        "    if(clf5.predict(X[i,:], a_min5) == 1):\n",
        "        classes[1] += 1\n",
        "    else:\n",
        "        classes[2] += 1     \n",
        "    \n",
        "    if(clf6.predict(X[i,:], a_min6) == 1):\n",
        "        classes[1] += 1\n",
        "    else:\n",
        "        classes[3] += 1\n",
        "        \n",
        "    if(clf7.predict(X[i,:], a_min7) == 1):\n",
        "        classes[1] += 1\n",
        "    else:\n",
        "        classes[4] += 1\n",
        "        \n",
        "    if(clf8.predict(X[i,:], a_min8) == 1):\n",
        "        classes[2] += 1\n",
        "    else:\n",
        "        classes[3] += 1\n",
        "        \n",
        "    if(clf9.predict(X[i,:], a_min9) == 1):\n",
        "        classes[2] += 1\n",
        "    else:\n",
        "        classes[4] += 1\n",
        "        \n",
        "    if(clf10.predict(X[i,:], a_min10) == 1):\n",
        "        classes[3] += 1\n",
        "    else:\n",
        "        classes[4] += 1  \n",
        "\n",
        "    y_pred[i] = np.argmax(classes)"
      ],
      "execution_count": 200,
      "outputs": []
    },
    {
      "cell_type": "code",
      "metadata": {
        "colab": {
          "base_uri": "https://localhost:8080/",
          "height": 285
        },
        "id": "63CY9Gh9_axk",
        "outputId": "21cb6336-eb29-4cc9-b42e-d4dc5dc87390"
      },
      "source": [
        "# Plot the confusion matrix\n",
        "mat = confusion_matrix(y, y_pred)\n",
        "sns.set()\n",
        "sns.heatmap(mat.T, square=True, annot=True, fmt='d', cbar=False, xticklabels=['0','1','2','4'], yticklabels=['0','1','2','4'], cmap=\"Blues\")\n",
        "plt.xlabel('true label')\n",
        "plt.ylabel('predicted label')\n",
        "plt.show()"
      ],
      "execution_count": 201,
      "outputs": [
        {
          "output_type": "display_data",
          "data": {
            "image/png": "[encoded data removed]",
            "text/plain": [
              "<Figure size 432x288 with 1 Axes>"
            ]
          },
          "metadata": {
            "tags": []
          }
        }
      ]
    },
    {
      "cell_type": "code",
      "metadata": {
        "colab": {
          "base_uri": "https://localhost:8080/"
        },
        "id": "4KvDE5E3_cGO",
        "outputId": "7e352138-ce68-48b0-b93e-2b4b28ee3581"
      },
      "source": [
        "print(classification_report(y, y_pred))\n"
      ],
      "execution_count": 202,
      "outputs": [
        {
          "output_type": "stream",
          "text": [
            "              precision    recall  f1-score   support\n",
            "\n",
            "         0.0       0.99      1.00      1.00       200\n",
            "         1.0       0.99      0.99      0.99       200\n",
            "         2.0       1.00      0.99      1.00       200\n",
            "         3.0       1.00      1.00      1.00       200\n",
            "         4.0       1.00      0.99      1.00       200\n",
            "\n",
            "    accuracy                           1.00      1000\n",
            "   macro avg       1.00      1.00      1.00      1000\n",
            "weighted avg       1.00      1.00      1.00      1000\n",
            "\n"
          ],
          "name": "stdout"
        }
      ]
    },
    {
      "cell_type": "code",
      "metadata": {
        "colab": {
          "base_uri": "https://localhost:8080/"
        },
        "id": "GhoWArf-_dSb",
        "outputId": "be965741-d84d-4864-f22e-11a17d3d0c1f"
      },
      "source": [
        "accuracy_score(y, y_pred)\n"
      ],
      "execution_count": 203,
      "outputs": [
        {
          "output_type": "execute_result",
          "data": {
            "text/plain": [
              "0.996"
            ]
          },
          "metadata": {
            "tags": []
          },
          "execution_count": 203
        }
      ]
    },
    {
      "cell_type": "code",
      "metadata": {
        "id": "3Y9Uyh-6_e69"
      },
      "source": [
        ""
      ],
      "execution_count": 203,
      "outputs": []
    }
  ]
}