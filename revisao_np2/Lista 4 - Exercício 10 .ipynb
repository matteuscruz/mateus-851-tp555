{
  "nbformat": 4,
  "nbformat_minor": 0,
  "metadata": {
    "colab": {
      "name": "Exercício 10.ipynb",
      "provenance": []
    },
    "kernelspec": {
      "name": "python3",
      "display_name": "Python 3"
    }
  },
  "cells": [
    {
      "cell_type": "code",
      "metadata": {
        "id": "OGOl6vy96Txh"
      },
      "source": [
        "# Importando as bibliotecas necessárias:\n",
        "import numpy as np\n",
        "import pandas as pd\n",
        "import seaborn as sns\n",
        "import matplotlib.pyplot as plt\n",
        "\n",
        "# Importando as bibliotecas Scikit learn:\n",
        "from sklearn.feature_extraction.text import CountVectorizer\n",
        "from sklearn.metrics import accuracy_score, roc_curve, auc\n",
        "from sklearn.model_selection import train_test_split\n",
        "from sklearn.naive_bayes import MultinomialNB\n",
        "from sklearn.metrics import confusion_matrix\n",
        "from sklearn.naive_bayes import BernoulliNB\n",
        "from sklearn.pipeline import make_pipeline\n",
        "from sklearn import metrics"
      ],
      "execution_count": 36,
      "outputs": []
    },
    {
      "cell_type": "code",
      "metadata": {
        "id": "7wRxV_0F63dN"
      },
      "source": [
        "# Definindo o dataset de treinamento:\n",
        "X_train = np.array(['Chinese Beijing Chinese',\n",
        "'Chinese Chinese Shanghai',\n",
        "'Chinese Macao',\n",
        "'Tokyo Japan Chinese'])\n",
        "\n",
        "y_train = np.array(['china','china','china','not china'])\n",
        "\n",
        "# Definindo o dataset de teste:\n",
        "X_test = np.array(['Chinese Chinese Chinese Tokyo Japan'])\n"
      ],
      "execution_count": 37,
      "outputs": []
    },
    {
      "cell_type": "markdown",
      "metadata": {
        "id": "uAGPaw5r7GnZ"
      },
      "source": [
        "# Bernoulli"
      ]
    },
    {
      "cell_type": "code",
      "metadata": {
        "id": "TqaGTF3i66KS"
      },
      "source": [
        "# Instânciando o CountVectorizer:\n",
        "cv = CountVectorizer(binary=True)\n",
        "\n",
        "# Fazendo o treinamento:\n",
        "X_train_dtm = cv.fit_transform(X_train)\n",
        "\n",
        "# Instânciando o Naive Bayes Bernoulli\n",
        "nb = BernoulliNB(binarize=None)"
      ],
      "execution_count": 38,
      "outputs": []
    },
    {
      "cell_type": "code",
      "metadata": {
        "id": "VWDohbWV7Vt9"
      },
      "source": [
        "# Fazendo o treinamento pelo NB Bernouli:\n",
        "nb.fit(X_train_dtm, y_train)\n",
        "\n",
        "# Tranformação do documento:\n",
        "X_test_dtm = cv.transform(X_test)\n",
        "\n",
        "# Predição:\n",
        "y_pred_class = nb.predict(X_test_dtm)"
      ],
      "execution_count": 39,
      "outputs": []
    },
    {
      "cell_type": "code",
      "metadata": {
        "id": "YkRhhDLu7Vxr",
        "outputId": "bc9a15d8-915c-4b4c-fd73-5c73dfb89a74",
        "colab": {
          "base_uri": "https://localhost:8080/"
        }
      },
      "source": [
        "# Imprimindo os resultados:\n",
        "print('Chinese Chinese Chinese Tokyo Japan = {}'.format(y_pred_class[0]))\n",
        "print('Confiança do modelo: {}'.format(nb.predict_proba(X_test_dtm)))\n",
        "print('Vetor de contagem: {}'.format(X_test_dtm.toarray()))"
      ],
      "execution_count": 40,
      "outputs": [
        {
          "output_type": "stream",
          "text": [
            "Chinese Chinese Chinese Tokyo Japan = not china\n",
            "Confiança do modelo: [[0.19106679 0.80893321]]\n",
            "Vetor de contagem: [[0 1 1 0 0 1]]\n"
          ],
          "name": "stdout"
        }
      ]
    },
    {
      "cell_type": "markdown",
      "metadata": {
        "id": "h6AFsQE57RMY"
      },
      "source": [
        "## **Multinomial**"
      ]
    },
    {
      "cell_type": "code",
      "metadata": {
        "id": "yBIm1APJ7U4o"
      },
      "source": [
        "# Instânciando o CountVectorizer:\n",
        "cv = CountVectorizer(binary=False)\n",
        "\n",
        "# Fazendo o treinamento:\n",
        "X_train_dtm = cv.fit_transform(X_train)\n",
        "\n",
        "# Instânciando o Naive Bayes Bernoulli\n",
        "mnb = MultinomialNB()"
      ],
      "execution_count": 41,
      "outputs": []
    },
    {
      "cell_type": "code",
      "metadata": {
        "id": "hXuhpo5D9jVo"
      },
      "source": [
        "# Fazendo o treinamento pelo NB Bernouli:\n",
        "mnb.fit(X_train_dtm, y_train)\n",
        "\n",
        "# Tranformação do documento:\n",
        "X_test_dtm = cv.transform(X_test)\n",
        "\n",
        "# Predição:\n",
        "y_pred_class = mnb.predict(X_test_dtm)"
      ],
      "execution_count": 42,
      "outputs": []
    },
    {
      "cell_type": "code",
      "metadata": {
        "id": "CWFwvx6F9rlp",
        "outputId": "14e90f17-6afb-43d7-c3f8-3405303bc1a0",
        "colab": {
          "base_uri": "https://localhost:8080/"
        }
      },
      "source": [
        "# Imprimindo os resultados:\n",
        "print('Chinese Chinese Chinese Tokyo Japan = {}'.format(y_pred_class[0]))\n",
        "print('Confiança do modelo: {}'.format(nb.predict_proba(X_test_dtm)))\n",
        "print('Vetor de contagem: {}'.format(X_test_dtm.toarray()))"
      ],
      "execution_count": 43,
      "outputs": [
        {
          "output_type": "stream",
          "text": [
            "Chinese Chinese Chinese Tokyo Japan = china\n",
            "Confiança do modelo: [[0.48580408 0.51419592]]\n",
            "Vetor de contagem: [[0 3 1 0 0 1]]\n"
          ],
          "name": "stdout"
        }
      ]
    },
    {
      "cell_type": "code",
      "metadata": {
        "id": "VFznhCZs-WGT"
      },
      "source": [
        ""
      ],
      "execution_count": 43,
      "outputs": []
    }
  ]
}