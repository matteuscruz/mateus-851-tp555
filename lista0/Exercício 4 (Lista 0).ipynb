{
 "cells": [
  {
   "cell_type": "markdown",
   "metadata": {},
   "source": [
    "# Exercício 4"
   ]
  },
  {
   "cell_type": "markdown",
   "metadata": {},
   "source": [
    "Neste exercício você vai plotar o histograma de um vetor criado através da \n",
    "soma de variáveis aleatórias. Histogramas são utilizados para se verificar \n",
    "a distribuição de um determinado conjunto de dados. Crie um vetor coluna x \n",
    "com M = 10000 amostras retiradas de uma distribuição aleatória uniforme. Em\n",
    "seguida, crie outro vetor coluna y, também com M = 10000 amostras retiradas\n",
    "de uma distribuição aleatória uniforme. Na sequência, obtenha o vetor z, que\n",
    "é definido pela sequinte equação."
   ]
  },
  {
   "cell_type": "markdown",
   "metadata": {},
   "source": [
    "# Resolução"
   ]
  },
  {
   "cell_type": "markdown",
   "metadata": {},
   "source": [
    "Importação das bibliotecas que serão utilizadas dentro do código."
   ]
  },
  {
   "cell_type": "code",
   "execution_count": 2,
   "metadata": {},
   "outputs": [],
   "source": [
    "import numpy as np\n",
    "import matplotlib\n",
    "import matplotlib.pyplot as plt"
   ]
  },
  {
   "cell_type": "markdown",
   "metadata": {},
   "source": [
    "Geração dos valores de X e Y:"
   ]
  },
  {
   "cell_type": "code",
   "execution_count": 11,
   "metadata": {},
   "outputs": [],
   "source": [
    "# 1OOO amostras\n",
    "# Uniformemente variadas\n",
    "\n",
    "X = np.random.rand(1000).reshape(1000,1)\n",
    "Y = np.random.rand(1000).reshape(1000,1)"
   ]
  },
  {
   "cell_type": "markdown",
   "metadata": {},
   "source": [
    "Gerando o valor de Z através das variáveis X e Y:"
   ]
  },
  {
   "cell_type": "code",
   "execution_count": 6,
   "metadata": {},
   "outputs": [],
   "source": [
    "Z = X + Y"
   ]
  },
  {
   "cell_type": "markdown",
   "metadata": {},
   "source": [
    "Criando o histograma"
   ]
  },
  {
   "cell_type": "code",
   "execution_count": 14,
   "metadata": {},
   "outputs": [
    {
     "data": {
      "text/plain": [
       "(array([0.10157999, 0.025395  , 0.12697499, 0.20315998, 0.22855497,\n",
       "        0.25394997, 0.20315998, 0.22855497, 0.60947993, 0.40631995,\n",
       "        0.50789994, 0.60947993, 0.58408493, 0.55868994, 0.8888249 ,\n",
       "        0.63487493, 0.40631995, 0.78724491, 0.8634299 , 0.78724491,\n",
       "        0.8888249 , 0.53329494, 0.81263991, 0.9142199 , 0.8634299 ,\n",
       "        0.96500989, 0.78724491, 0.76184991, 0.63487493, 0.73645492,\n",
       "        0.78724491, 0.78724491, 0.73645492, 0.66026992, 0.81263991,\n",
       "        0.63487493, 0.50789994, 0.45710995, 0.50789994, 0.40631995,\n",
       "        0.63487493, 0.40631995, 0.20315998, 0.22855497, 0.20315998,\n",
       "        0.15236998, 0.15236998, 0.025395  , 0.10157999, 0.07618499]),\n",
       " array([0.02683045, 0.06620828, 0.10558612, 0.14496395, 0.18434179,\n",
       "        0.22371962, 0.26309746, 0.30247529, 0.34185313, 0.38123096,\n",
       "        0.4206088 , 0.45998663, 0.49936447, 0.5387423 , 0.57812014,\n",
       "        0.61749797, 0.65687581, 0.69625364, 0.73563148, 0.77500931,\n",
       "        0.81438715, 0.85376498, 0.89314282, 0.93252065, 0.97189848,\n",
       "        1.01127632, 1.05065415, 1.09003199, 1.12940982, 1.16878766,\n",
       "        1.20816549, 1.24754333, 1.28692116, 1.326299  , 1.36567683,\n",
       "        1.40505467, 1.4444325 , 1.48381034, 1.52318817, 1.56256601,\n",
       "        1.60194384, 1.64132168, 1.68069951, 1.72007735, 1.75945518,\n",
       "        1.79883302, 1.83821085, 1.87758868, 1.91696652, 1.95634435,\n",
       "        1.99572219]),\n",
       " <a list of 50 Patch objects>)"
      ]
     },
     "execution_count": 14,
     "metadata": {},
     "output_type": "execute_result"
    },
    {
     "data": {
      "image/png": "[encoded data removed]",
      "text/plain": [
       "<Figure size 432x288 with 1 Axes>"
      ]
     },
     "metadata": {
      "needs_background": "light"
     },
     "output_type": "display_data"
    }
   ],
   "source": [
    "fig, ax = plt.subplots()\n",
    "\n",
    "ax.hist(Z, 50, density=1)"
   ]
  },
  {
   "cell_type": "code",
   "execution_count": null,
   "metadata": {},
   "outputs": [],
   "source": []
  }
 ],
 "metadata": {
  "kernelspec": {
   "display_name": "Python 3",
   "language": "python",
   "name": "python3"
  },
  "language_info": {
   "codemirror_mode": {
    "name": "ipython",
    "version": 3
   },
   "file_extension": ".py",
   "mimetype": "text/x-python",
   "name": "python",
   "nbconvert_exporter": "python",
   "pygments_lexer": "ipython3",
   "version": "3.8.3"
  }
 },
 "nbformat": 4,
 "nbformat_minor": 4
}
