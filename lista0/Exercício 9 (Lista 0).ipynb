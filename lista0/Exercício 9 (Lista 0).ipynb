{
 "cells": [
  {
   "cell_type": "code",
   "execution_count": null,
   "metadata": {},
   "outputs": [],
   "source": [
    "import numpy as np\n",
    "import math\n",
    "import matplotlib\n",
    "import matplotlib.pyplot as plt\n",
    "\n",
    "entrada = np.random.randint(0,4,10)\n",
    "symbols = np.zeros(10, dtype='cfloat')\n",
    "N0 = np.arange(-2,21,2)\n",
    "\n",
    "def modulador(val):\n",
    "    for i in range(len(val)):\n",
    "        if val[i] == 0:\n",
    "            symbols[i] = symbols[i] + (-1/(2 ** 1/2)-1j/(2 ** 1/2))\n",
    "        elif val[i] == 1:\n",
    "            symbols[i] = symbols[i] + (-1/(2 ** 1/2)+1j/(2 ** 1/2))\n",
    "        elif val[i] == 2:\n",
    "            symbols[i] = symbols[i] + (+1/(2 ** 1/2)+1j/(2 ** 1/2))\n",
    "        elif val[i] == 3:\n",
    "            symbols[i] = symbols[i] + (+1/(2 ** 1/2)-1j/(2 ** 1/2))\n",
    "            \n",
    "modulador(entrada)\n",
    "\n",
    "fig, ax = plt.subplots()\n",
    "\n",
    "ax.scatter(signal.real,signal.imag)"
   ]
  }
 ],
 "metadata": {
  "kernelspec": {
   "display_name": "Python 3",
   "language": "python",
   "name": "python3"
  },
  "language_info": {
   "codemirror_mode": {
    "name": "ipython",
    "version": 3
   },
   "file_extension": ".py",
   "mimetype": "text/x-python",
   "name": "python",
   "nbconvert_exporter": "python",
   "pygments_lexer": "ipython3",
   "version": "3.8.3"
  }
 },
 "nbformat": 4,
 "nbformat_minor": 4
}
