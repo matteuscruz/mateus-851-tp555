{
 "cells": [
  {
   "cell_type": "code",
   "execution_count": 2,
   "metadata": {},
   "outputs": [],
   "source": [
    "# Import all necessary libraries.\n",
    "import pandas as pd\n",
    "from sklearn.naive_bayes import MultinomialNB\n",
    "from sklearn.feature_extraction.text import CountVectorizer\n",
    "from sklearn.model_selection import train_test_split\n",
    "from sklearn import metrics\n",
    "from sklearn.metrics import confusion_matrix\n",
    "import numpy as np\n",
    "import seaborn as sns\n",
    "from scipy.special import expit\n",
    "import math as m\n",
    "import matplotlib.pyplot as plt"
   ]
  },
  {
   "cell_type": "code",
   "execution_count": 3,
   "metadata": {},
   "outputs": [
    {
     "name": "stdout",
     "output_type": "stream",
     "text": [
      "<bound method NDFrame.head of      label                                            message\n",
      "0      ham  Go until jurong point, crazy.. Available only ...\n",
      "1      ham                      Ok lar... Joking wif u oni...\n",
      "2     spam  Free entry in 2 a wkly comp to win FA Cup fina...\n",
      "3      ham  U dun say so early hor... U c already then say...\n",
      "4      ham  Nah I don't think he goes to usf, he lives aro...\n",
      "...    ...                                                ...\n",
      "5567  spam  This is the 2nd time we have tried 2 contact u...\n",
      "5568   ham               Will ü b going to esplanade fr home?\n",
      "5569   ham  Pity, * was in mood for that. So...any other s...\n",
      "5570   ham  The guy did some bitching but I acted like i'd...\n",
      "5571   ham                         Rofl. Its true to its name\n",
      "\n",
      "[5572 rows x 2 columns]>\n"
     ]
    },
    {
     "data": {
      "image/png": "[encoded data removed]",
      "text/plain": [
       "<Figure size 432x288 with 1 Axes>"
      ]
     },
     "metadata": {
      "needs_background": "light"
     },
     "output_type": "display_data"
    }
   ],
   "source": [
    "# Read SMS data base with pandas.\n",
    "# Public set of SMS messages for mobile phone spam research.\n",
    "# It is composed of 5574 tagged messages (spam or ham).\n",
    "file='../../../../data/sms.tsv'\n",
    "sms = pd.read_table(file, header=None, names=['label', 'message'])\n",
    "\n",
    "print(sms.head)\n",
    "\n",
    "sns.countplot(x='label', data=sms, palette='hls')\n",
    "plt.show()"
   ]
  },
  {
   "cell_type": "code",
   "execution_count": null,
   "metadata": {},
   "outputs": [],
   "source": [
    "# Convert label to a numerical variable\n",
    "sms['label_num'] = sms.label.map({'ham':0, 'spam':1})\n",
    "\n",
    "# Create feature and label vectors.\n",
    "x = sms.message\n",
    "\n",
    "y = np.zeros((len(sms.label_num),1))\n",
    "y[:,0] = sms.label_num"
   ]
  },
  {
   "cell_type": "code",
   "execution_count": 3,
   "metadata": {},
   "outputs": [],
   "source": [
    "# Split array into random train and test subsets. By defult test_size=0.25.\n",
    "x_train, x_test, y_train, y_test = train_test_split(x, y, random_state=42)"
   ]
  },
  {
   "cell_type": "code",
   "execution_count": 4,
   "metadata": {},
   "outputs": [],
   "source": [
    "# Convert a collection of text documents into a matrix of token counts.\n",
    "# Um objeto da classe CountVectorizer cria uma matriz registrando \n",
    "# o número de vezes (frequência) com que cada palavra aparece na mensagem. \n",
    "vect = CountVectorizer()\n",
    "\n",
    "# Learn the vocabulary dictionary and return term-document matrix.\n",
    "x_train_dtm = vect.fit_transform(x_train)\n",
    "x_train_dtm = np.c_[np.ones((len(y_train), 1)), x_train_dtm.toarray()]\n",
    "\n",
    "# Transform document into document-term matrix.\n",
    "x_test_dtm = vect.transform(x_test)\n",
    "x_test_dtm = np.c_[np.ones((len(y_test), 1)), x_test_dtm.toarray()]"
   ]
  },
  {
   "cell_type": "code",
   "execution_count": 5,
   "metadata": {},
   "outputs": [],
   "source": [
    "def error_function(x, a, y):\n",
    "    h = expit(x.dot(a))\n",
    "    error = -(1/len(y))*np.sum( y.T.dot(np.log(h)) + (1-y).T.dot(np.log((1-h) )) )\n",
    "    return error\n",
    "\n",
    "def classifier(x, a):\n",
    "    h = expit(x.dot(a))\n",
    "    c = np.zeros((len(h), 1))\n",
    "    for i in range(0, len(h)):\n",
    "        if(h[i] >= 0.5):\n",
    "            c[i,0] = 1.0\n",
    "    return c"
   ]
  },
  {
   "cell_type": "code",
   "execution_count": 6,
   "metadata": {},
   "outputs": [],
   "source": [
    "# Batch gradient descent solution.\n",
    "\n",
    "# learning rate.\n",
    "alpha = 0.9\n",
    "# Maximum number of iterations.\n",
    "n_iterations = 1000\n",
    "\n",
    "# Random initialization of parameters.\n",
    "a = np.random.randn(x_train_dtm.shape[1],1)\n",
    "\n",
    "# Create array for storing error values.\n",
    "Jgd = np.zeros(n_iterations+1)\n",
    "Jgd_v = np.zeros(n_iterations+1)\n",
    "\n",
    "# Calculate initial error.\n",
    "Jgd[0] = error_function(x_train_dtm, a, y_train)\n",
    "Jgd_v[0] = error_function(x_test_dtm, a, y_test)\n",
    "\n",
    "# Batch gradient-descent loop.\n",
    "minimum_val_error = float(\"inf\")\n",
    "iteration = 0\n",
    "error = 1\n",
    "while iteration < n_iterations:\n",
    "    gradients = -1/len(y_train)*x_train_dtm.T.dot(y_train - expit(x_train_dtm.dot(a)) )\n",
    "    a = a - alpha * gradients\n",
    "    Jgd[iteration+1] = error_function(x_train_dtm, a, y_train)\n",
    "    Jgd_v[iteration+1] = error_function(x_test_dtm, a, y_test)\n",
    "    error = np.abs(Jgd[iteration+1] - Jgd[iteration])\n",
    "    if(Jgd_v[iteration+1] < minimum_val_error):\n",
    "        minimum_val_error = Jgd_v[iteration+1]\n",
    "        a_min = a        \n",
    "    iteration = iteration + 1"
   ]
  },
  {
   "cell_type": "code",
   "execution_count": 7,
   "metadata": {},
   "outputs": [
    {
     "data": {
      "image/png": "[encoded data removed]",
      "text/plain": [
       "<Figure size 432x288 with 1 Axes>"
      ]
     },
     "metadata": {
      "needs_background": "light"
     },
     "output_type": "display_data"
    }
   ],
   "source": [
    "plt.plot(np.arange(0, iteration), Jgd[0:iteration], label='treinamento')\n",
    "plt.plot(np.arange(0, iteration), Jgd_v[0:iteration], label='validação')\n",
    "plt.xlim((0, iteration))\n",
    "plt.yscale('log')\n",
    "plt.xlabel('Iteration')\n",
    "plt.ylabel('$J_e$')\n",
    "plt.title('Error vs. Iteration number')\n",
    "plt.legend()\n",
    "plt.show()"
   ]
  },
  {
   "cell_type": "code",
   "execution_count": 8,
   "metadata": {},
   "outputs": [
    {
     "name": "stdout",
     "output_type": "stream",
     "text": [
      "0.10145495707852592\n"
     ]
    }
   ],
   "source": [
    "print(minimum_val_error)\n",
    "y_pred_class = classifier(x_test_dtm, a_min)"
   ]
  },
  {
   "cell_type": "code",
   "execution_count": 9,
   "metadata": {},
   "outputs": [
    {
     "data": {
      "text/plain": [
       "0.9662598707824839"
      ]
     },
     "execution_count": 9,
     "metadata": {},
     "output_type": "execute_result"
    }
   ],
   "source": [
    "# Calculate accuracy of class predictions.\n",
    "metrics.accuracy_score(y_test, y_pred_class)"
   ]
  },
  {
   "cell_type": "code",
   "execution_count": 11,
   "metadata": {},
   "outputs": [
    {
     "data": {
      "image/png": "[encoded data removed]",
      "text/plain": [
       "<Figure size 432x288 with 1 Axes>"
      ]
     },
     "metadata": {},
     "output_type": "display_data"
    }
   ],
   "source": [
    "# Plot the confusion matrix\n",
    "mat = confusion_matrix(y_test, y_pred_class)\n",
    "sns.set()\n",
    "sns.heatmap(mat.T, square=True, annot=True, fmt='d', cbar=False, xticklabels=['ham','spam'], yticklabels=['ham','spam'], cmap=\"Blues\")\n",
    "plt.xlabel('true label')\n",
    "plt.ylabel('predicted label')\n",
    "plt.show()"
   ]
  },
  {
   "cell_type": "code",
   "execution_count": null,
   "metadata": {},
   "outputs": [],
   "source": []
  },
  {
   "cell_type": "code",
   "execution_count": null,
   "metadata": {},
   "outputs": [],
   "source": []
  }
 ],
 "metadata": {
  "kernelspec": {
   "display_name": "Python 3",
   "language": "python",
   "name": "python3"
  },
  "language_info": {
   "codemirror_mode": {
    "name": "ipython",
    "version": 3
   },
   "file_extension": ".py",
   "mimetype": "text/x-python",
   "name": "python",
   "nbconvert_exporter": "python",
   "pygments_lexer": "ipython3",
   "version": "3.7.7"
  }
 },
 "nbformat": 4,
 "nbformat_minor": 2
}
