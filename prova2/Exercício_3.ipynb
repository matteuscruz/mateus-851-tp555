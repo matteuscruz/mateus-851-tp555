{
  "nbformat": 4,
  "nbformat_minor": 0,
  "metadata": {
    "colab": {
      "name": "Exercício 3.ipynb",
      "provenance": []
    },
    "kernelspec": {
      "name": "python3",
      "display_name": "Python 3"
    }
  },
  "cells": [
    {
      "cell_type": "code",
      "metadata": {
        "id": "c9fylSckt_7o"
      },
      "source": [
        "# Import all necessary libraries.\n",
        "import numpy as np\n",
        "from scipy.special import erfc\n",
        "from sklearn.model_selection import train_test_split\n",
        "import matplotlib.pyplot as plt\n",
        "from sklearn.neighbors import KNeighborsClassifier"
      ],
      "execution_count": 61,
      "outputs": []
    },
    {
      "cell_type": "code",
      "metadata": {
        "id": "V44aoF1cuAej"
      },
      "source": [
        "# Number of QPSK symbols to be transmitted.\n",
        "N =  1000000"
      ],
      "execution_count": 66,
      "outputs": []
    },
    {
      "cell_type": "code",
      "metadata": {
        "id": "VAjGgr9ouB29"
      },
      "source": [
        "# Instantiate a Gaussian naive Bayes classifier for each one of the parts of a QPSK symbol.\n",
        "knn_re = KNeighborsClassifier()\n",
        "knn_im = KNeighborsClassifier()"
      ],
      "execution_count": 67,
      "outputs": []
    },
    {
      "cell_type": "code",
      "metadata": {
        "colab": {
          "base_uri": "https://localhost:8080/"
        },
        "id": "QFy4BBWnuD_q",
        "outputId": "75551e4b-9bb9-438d-8369-6870ce83c7b9"
      },
      "source": [
        "# Create Es/N0 vector.\n",
        "EsN0dB = np.arange(-2,22,2)\n",
        "\n",
        "ser_simu = np.zeros(len(EsN0dB))\n",
        "ser_theo = np.zeros(len(EsN0dB))\n",
        "\n",
        "for idx in range(0,len(EsN0dB)):\n",
        "    \n",
        "    print('Es/N0 dB:', EsN0dB[idx])\n",
        "    \n",
        "    EsN0Lin = 10.0**(-(EsN0dB[idx]/10.0))\n",
        "    \n",
        "    # Generate N QPSK symbols.\n",
        "    ip =(2.0 * (np.random.rand(N, 1) >= 0.5) - 1.0) + 1j*(2.0 * (np.random.rand(N, 1) >= 0.5) - 1.0)\n",
        "    \n",
        "    # Normalization of energy to 1.\n",
        "    s = (1/np.sqrt(2))*ip;\n",
        "    \n",
        "    # Generate noise vector. \n",
        "    # Divide by two once the theoretical ber uses a complex Normal pdf with variance of each part = 1/2.\n",
        "    noise = np.sqrt(1.0/2.0)*(np.random.randn(N, 1) + 1j*np.random.randn(N, 1))\n",
        "    \n",
        "    # Pass symbols through AWGN channel.\n",
        "    y = s + np.sqrt(EsN0Lin)*noise\n",
        "    \n",
        "    # Splitting data into real and imaginary parts\n",
        "    \n",
        "    x_test_re, x_train_re, y_test_re, y_train_re = train_test_split(ip.real, y.real)\n",
        "    \n",
        "    x_test_im, x_train_im, y_test_im, y_train_im = train_test_split(ip.imag, y.imag)\n",
        "    \n",
        "    # Fit models for real part.\n",
        "    knn_re.fit(y_train_re, x_train_re.ravel())\n",
        "    \n",
        "    # Fit model for imaginary parts.\n",
        "    knn_im.fit(y_train_im, x_train_im.ravel())\n",
        "    \n",
        "    # Prediction for real part.\n",
        "    detected_ip_re = knn_re.predict(y_test_re)\n",
        "    detected_ip_re = detected_ip_re.reshape(len(y_test_re), 1)\n",
        "    \n",
        "    # Prediction for imaginary part.\n",
        "    detected_ip_im = knn_im.predict(y_test_im)\n",
        "    detected_ip_im = detected_ip_im.reshape(len(y_test_im), 1)    \n",
        "        \n",
        "    # Simulated QPSK BER.\n",
        "    error_re = (x_test_re != detected_ip_re)\n",
        "    error_im = (x_test_im != detected_ip_im)\n",
        "    error = 0;\n",
        "    for i in range(0, len(x_test_re)): \n",
        "        if(error_re[i]==True or error_im[i]==True): \n",
        "            error = error + 1\n",
        "    \n",
        "    ser_simu[idx] = 1.0 * error / len(x_test_re)\n",
        "    \n",
        "    # Theoretical BPSK BER.    \n",
        "    ser_theo[idx] = erfc( np.sqrt(  0.5*(10.0**(EsN0dB[idx]/10.0))   ) ) - (1/4)*(erfc(np.sqrt(0.5*(10.0**(EsN0dB[idx]/10.0)))))**2.0;"
      ],
      "execution_count": 68,
      "outputs": [
        {
          "output_type": "stream",
          "text": [
            "Es/N0 dB: -2\n",
            "Es/N0 dB: 0\n",
            "Es/N0 dB: 2\n",
            "Es/N0 dB: 4\n",
            "Es/N0 dB: 6\n",
            "Es/N0 dB: 8\n",
            "Es/N0 dB: 10\n",
            "Es/N0 dB: 12\n",
            "Es/N0 dB: 14\n",
            "Es/N0 dB: 16\n",
            "Es/N0 dB: 18\n",
            "Es/N0 dB: 20\n"
          ],
          "name": "stdout"
        }
      ]
    },
    {
      "cell_type": "code",
      "metadata": {
        "colab": {
          "base_uri": "https://localhost:8080/",
          "height": 350
        },
        "id": "iqrlGAcjuJnM",
        "outputId": "a08943a4-33c2-410a-b671-1cfa429e1a74"
      },
      "source": [
        "#Es/N0 vs. SER teórica e simulada\n",
        "fig = plt.figure(figsize=(5,5))\n",
        "plt.plot(EsN0dB, ser_theo, label='theoretical')\n",
        "plt.plot(EsN0dB, ser_simu, 'ro', label='simulated')\n",
        "plt.xscale('linear')\n",
        "plt.yscale('log')\n",
        "plt.xlabel('Es/N0 [dB]')\n",
        "plt.ylabel('SER')\n",
        "plt.grid(True)\n",
        "plt.title('Detecção QPSK')\n",
        "plt.legend()\n",
        "plt.show()"
      ],
      "execution_count": 69,
      "outputs": [
        {
          "output_type": "display_data",
          "data": {
            "image/png": "[encoded data removed]",
            "text/plain": [
              "<Figure size 360x360 with 1 Axes>"
            ]
          },
          "metadata": {
            "tags": [],
            "needs_background": "light"
          }
        }
      ]
    },
    {
      "cell_type": "code",
      "metadata": {
        "id": "xbSFJXuGuMJ7"
      },
      "source": [
        ""
      ],
      "execution_count": 65,
      "outputs": []
    },
    {
      "cell_type": "code",
      "metadata": {
        "id": "adTcUaWED8Db"
      },
      "source": [
        ""
      ],
      "execution_count": null,
      "outputs": []
    }
  ]
}