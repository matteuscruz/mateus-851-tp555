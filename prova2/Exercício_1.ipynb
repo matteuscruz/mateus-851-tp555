{
  "nbformat": 4,
  "nbformat_minor": 0,
  "metadata": {
    "colab": {
      "name": "Exercício_1.ipynb",
      "provenance": []
    },
    "kernelspec": {
      "name": "python3",
      "display_name": "Python 3"
    }
  },
  "cells": [
    {
      "cell_type": "code",
      "metadata": {
        "id": "sNy7kwd5cIjD"
      },
      "source": [
        "# Importando as bibliotecas gerais:\n",
        "import numpy as np\n",
        "import matplotlib.pyplot as plt\n",
        "\n",
        "# Importando as bibliotecas Scikit Learn:\n",
        "from sklearn.naive_bayes import BernoulliNB\n",
        "from sklearn.naive_bayes import MultinomialNB\n",
        "from sklearn.metrics import confusion_matrix\n",
        "from sklearn.pipeline import make_pipeline\n",
        "from sklearn.feature_extraction.text import CountVectorizer"
      ],
      "execution_count": 2,
      "outputs": []
    },
    {
      "cell_type": "code",
      "metadata": {
        "id": "s5GIeQt3cZ19"
      },
      "source": [
        "ME = np.array([[2, 0, 0, 0, 1, 2, 3, 1],\n",
        "               [0, 0, 1, 0, 2, 1, 0, 0],\n",
        "               [0, 1, 0, 1, 0, 2, 1, 0],\n",
        "               [1, 0, 0, 2, 0, 1, 0, 1],\n",
        "               [2, 0, 0, 0, 1, 0, 1, 3],\n",
        "               [0, 0, 1, 2, 0, 0, 2, 1]])\n",
        "\n",
        "MI = np.array([[0, 1, 1, 0, 0, 0, 1, 0],\n",
        "               [1, 2, 0, 1, 0, 0, 1, 1],\n",
        "               [0, 1, 1, 0, 0, 2, 0, 0],\n",
        "               [0, 0, 0, 0, 0, 0, 0, 0],\n",
        "               [0, 0, 1, 0, 1, 0, 1, 0]])\n"
      ],
      "execution_count": 3,
      "outputs": []
    },
    {
      "cell_type": "code",
      "metadata": {
        "id": "2XPS8PfPeuqm"
      },
      "source": [
        "label_names = ['goal', 'tutor', 'variance', 'speed', 'drink', 'defence', 'performance', 'field']"
      ],
      "execution_count": 4,
      "outputs": []
    },
    {
      "cell_type": "code",
      "metadata": {
        "id": "TZJBZ6IXfAKP"
      },
      "source": [
        "x_train = np.array([[2, 0, 0, 0, 1, 2, 3, 1],\n",
        "                    [0, 0, 1, 0, 2, 1, 0, 0],\n",
        "                    [0, 1, 0, 1, 0, 2, 1, 0],\n",
        "                    [1, 0, 0, 2, 0, 1, 0, 1],\n",
        "                    [2, 0, 0, 0, 1, 0, 1, 3],\n",
        "                    [0, 0, 1, 2, 0, 0, 2, 1],\n",
        "                    [0, 1, 1, 0, 0, 0, 1, 0],\n",
        "                    [1, 2, 0, 1, 0, 0, 1, 1],\n",
        "                    [0, 1, 1, 0, 0, 2, 0, 0],\n",
        "                    [0, 0, 0, 0, 0, 0, 0, 0],\n",
        "                    [0, 0, 1, 0, 1, 0, 1, 0]])"
      ],
      "execution_count": 16,
      "outputs": []
    },
    {
      "cell_type": "code",
      "metadata": {
        "id": "PORFfJE5gUN3"
      },
      "source": [
        "y_train = np.array(['sport', 'informatic', 'informatic', 'sport','sport', 'informatic', 'sport', 'informatic', 'sport', 'informat', 'informatic'])"
      ],
      "execution_count": 17,
      "outputs": []
    },
    {
      "cell_type": "code",
      "metadata": {
        "id": "ekEkFNtpfJU4"
      },
      "source": [
        "x_test_1 = np.array([[2, 1, 0, 0, 1, 2, 0, 1]])\n",
        "x_test_2 = np.array([[0, 1, 1, 0, 1, 0, 1, 0]])"
      ],
      "execution_count": 18,
      "outputs": []
    },
    {
      "cell_type": "markdown",
      "metadata": {
        "id": "_Je8AsowigJA"
      },
      "source": [
        "# **Multinomial**"
      ]
    },
    {
      "cell_type": "code",
      "metadata": {
        "colab": {
          "base_uri": "https://localhost:8080/"
        },
        "id": "3uKafimjfW_i",
        "outputId": "b8a13b49-76e5-4336-c5bd-e2a41869abc8"
      },
      "source": [
        "# Instânciando o Multinomial NB\n",
        "MNB = MultinomialNB()\n",
        "\n",
        "# Fazendo o treinamento:\n",
        "MNB.fit(x_train, y_train) "
      ],
      "execution_count": 19,
      "outputs": [
        {
          "output_type": "execute_result",
          "data": {
            "text/plain": [
              "MultinomialNB(alpha=1.0, class_prior=None, fit_prior=True)"
            ]
          },
          "metadata": {
            "tags": []
          },
          "execution_count": 19
        }
      ]
    },
    {
      "cell_type": "code",
      "metadata": {
        "colab": {
          "base_uri": "https://localhost:8080/"
        },
        "id": "6zFusXCbfiAM",
        "outputId": "b2a9a16a-69de-4e5f-8b1d-27afe505b260"
      },
      "source": [
        "# Fazendo a predição oara o teste 1:\n",
        "y_pred = MNB.predict(x_test_1)\n",
        "\n",
        "# Imprimindo o resultado:\n",
        "print('A predição do algorítmo de Multinomial: {}'.format(y_pred[0]))"
      ],
      "execution_count": 26,
      "outputs": [
        {
          "output_type": "stream",
          "text": [
            "A predição do algorítmo de Multinomial: sport\n"
          ],
          "name": "stdout"
        }
      ]
    },
    {
      "cell_type": "code",
      "metadata": {
        "colab": {
          "base_uri": "https://localhost:8080/"
        },
        "id": "t9pzwjpAiTVs",
        "outputId": "cc47f987-2852-477a-86c6-36d3fe243e76"
      },
      "source": [
        "# Fazendo a predição para o teste 2:\n",
        "y_pred = MNB.predict(x_test_2)\n",
        "\n",
        "# Imprimindo o resultado:\n",
        "print('A predição do algorítmo de Multinomial: {}'.format(y_pred[0]))"
      ],
      "execution_count": 23,
      "outputs": [
        {
          "output_type": "stream",
          "text": [
            "A predição do algorítmo de Multinomial: informatic\n"
          ],
          "name": "stdout"
        }
      ]
    },
    {
      "cell_type": "code",
      "metadata": {
        "colab": {
          "base_uri": "https://localhost:8080/"
        },
        "id": "-ogpC9D3jCRR",
        "outputId": "f1256267-be9c-4cc2-b4a1-6797234318ac"
      },
      "source": [
        "# Imprimindo as probabilidades encontradas:\n",
        "print('As probabilidades encontradas para o teste 1 foram:')\n",
        "print(MNB.predict_proba(x_test_1))"
      ],
      "execution_count": 34,
      "outputs": [
        {
          "output_type": "stream",
          "text": [
            "As probabilidades encontradas para o teste 1 foram:\n",
            "[[0.08848049 0.08295046 0.82856904]]\n"
          ],
          "name": "stdout"
        }
      ]
    },
    {
      "cell_type": "code",
      "metadata": {
        "colab": {
          "base_uri": "https://localhost:8080/"
        },
        "id": "YVAxXh7GjIPp",
        "outputId": "acb2da1f-8025-4514-8565-b65c1992187b"
      },
      "source": [
        "# Imprimindo as probabilidades encontradas:\n",
        "print('As probabilidades encontradas para o teste 1 foram:')\n",
        "print(MNB.predict_proba(x_test_2))"
      ],
      "execution_count": 35,
      "outputs": [
        {
          "output_type": "stream",
          "text": [
            "As probabilidades encontradas para o teste 1 foram:\n",
            "[[0.09546258 0.71596936 0.18856806]]\n"
          ],
          "name": "stdout"
        }
      ]
    },
    {
      "cell_type": "markdown",
      "metadata": {
        "id": "YYQQyKyJiohI"
      },
      "source": [
        "# **Bernoulli**"
      ]
    },
    {
      "cell_type": "code",
      "metadata": {
        "colab": {
          "base_uri": "https://localhost:8080/"
        },
        "id": "RO25M7eYicxw",
        "outputId": "1cce14c7-ee74-40b8-baf0-0405635544fd"
      },
      "source": [
        "# Instânciando o Multinomial NB\n",
        "BNB = BernoulliNB()\n",
        "\n",
        "# Fazendo o treinamento:\n",
        "BNB.fit(x_train, y_train) "
      ],
      "execution_count": 29,
      "outputs": [
        {
          "output_type": "execute_result",
          "data": {
            "text/plain": [
              "BernoulliNB(alpha=1.0, binarize=0.0, class_prior=None, fit_prior=True)"
            ]
          },
          "metadata": {
            "tags": []
          },
          "execution_count": 29
        }
      ]
    },
    {
      "cell_type": "code",
      "metadata": {
        "colab": {
          "base_uri": "https://localhost:8080/"
        },
        "id": "YlRO1hzXinEP",
        "outputId": "3d9d7e5e-95ab-4850-feed-2757d984d16d"
      },
      "source": [
        "# Fazendo a predição oara o teste 1:\n",
        "y_pred = BNB.predict(x_test_1)\n",
        "\n",
        "# Imprimindo o resultado:\n",
        "print('A predição do algorítmo de Multinomial: {}'.format(y_pred[0]))"
      ],
      "execution_count": 30,
      "outputs": [
        {
          "output_type": "stream",
          "text": [
            "A predição do algorítmo de Multinomial: sport\n"
          ],
          "name": "stdout"
        }
      ]
    },
    {
      "cell_type": "code",
      "metadata": {
        "colab": {
          "base_uri": "https://localhost:8080/"
        },
        "id": "qDJXsAewisKN",
        "outputId": "86672915-dd1c-4460-9c0d-924acc73f0df"
      },
      "source": [
        "# Fazendo a predição para o teste 2:\n",
        "y_pred = BNB.predict(x_test_2)\n",
        "\n",
        "# Imprimindo o resultado:\n",
        "print('A predição do algorítmo de Multinomial: {}'.format(y_pred[0]))"
      ],
      "execution_count": 32,
      "outputs": [
        {
          "output_type": "stream",
          "text": [
            "A predição do algorítmo de Multinomial: informatic\n"
          ],
          "name": "stdout"
        }
      ]
    },
    {
      "cell_type": "code",
      "metadata": {
        "colab": {
          "base_uri": "https://localhost:8080/"
        },
        "id": "vFdz_uWcitkW",
        "outputId": "b75a4555-44f9-46b8-b1db-c0fd09f6a10d"
      },
      "source": [
        "# Imprimindo as probabilidades encontradas:\n",
        "print('As probabilidades encontradas para o teste 1 foram:')\n",
        "print(BNB.predict_proba(x_test_1))"
      ],
      "execution_count": 36,
      "outputs": [
        {
          "output_type": "stream",
          "text": [
            "As probabilidades encontradas para o teste 1 foram:\n",
            "[[0.03615659 0.07499646 0.88884694]]\n"
          ],
          "name": "stdout"
        }
      ]
    },
    {
      "cell_type": "code",
      "metadata": {
        "colab": {
          "base_uri": "https://localhost:8080/"
        },
        "id": "C0azkAJ7jNLo",
        "outputId": "fc318682-bad5-44f0-9011-c43dda35a392"
      },
      "source": [
        "# Imprimindo as probabilidades encontradas:\n",
        "print('As probabilidades encontradas para o teste 1 foram:')\n",
        "print(BNB.predict_proba(x_test_2))"
      ],
      "execution_count": 37,
      "outputs": [
        {
          "output_type": "stream",
          "text": [
            "As probabilidades encontradas para o teste 1 foram:\n",
            "[[0.04640356 0.7129693  0.24062714]]\n"
          ],
          "name": "stdout"
        }
      ]
    },
    {
      "cell_type": "code",
      "metadata": {
        "id": "H-IPIciOjPWc"
      },
      "source": [
        ""
      ],
      "execution_count": null,
      "outputs": []
    }
  ]
}