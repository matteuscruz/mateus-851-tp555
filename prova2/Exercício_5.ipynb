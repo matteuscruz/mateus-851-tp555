{
  "nbformat": 4,
  "nbformat_minor": 0,
  "metadata": {
    "colab": {
      "name": "Exercício 5.ipynb",
      "provenance": [],
      "collapsed_sections": []
    },
    "kernelspec": {
      "name": "python3",
      "display_name": "Python 3"
    }
  },
  "cells": [
    {
      "cell_type": "code",
      "metadata": {
        "id": "-co-LGgBfIP5"
      },
      "source": [
        "# Importando as bibliotecas necessárais:\n",
        "import numpy as np\n",
        "import matplotlib.pyplot as plt\n",
        "\n",
        "# Importando as bibliotecas ScikitLearn:\n",
        "from scipy.special import erfc\n",
        "from sklearn.cluster import KMeans\n",
        "from sklearn.model_selection import train_test_split"
      ],
      "execution_count": 59,
      "outputs": []
    },
    {
      "cell_type": "code",
      "metadata": {
        "id": "8ElkpQSsXKnX"
      },
      "source": [
        "# Definição de quantas amostras:\n",
        "N = 100000"
      ],
      "execution_count": 60,
      "outputs": []
    },
    {
      "cell_type": "code",
      "metadata": {
        "id": "1cnJGKYPXMdu"
      },
      "source": [
        "mapping_table = [-3-3j, -3-1j, -3+3j, -3+1j, -1-3j, -1-1j, -1+3j, -1+1j, 3-3j, 3-1j, 3+3j, 3+1j, 1-3j, 1-1j, 1+3j, 1+1j]\n",
        "\n",
        "def mod(bits):\n",
        "\n",
        "    symbols = np.zeros((len(bits),1),dtype=complex)\n",
        "    for i in range(0,len(bits)): \n",
        "        symbols[i] = mapping_table[bits[i]]/np.sqrt(10)\n",
        "    \n",
        "    return symbols"
      ],
      "execution_count": 61,
      "outputs": []
    },
    {
      "cell_type": "code",
      "metadata": {
        "colab": {
          "base_uri": "https://localhost:8080/"
        },
        "id": "Rfm8X_chXVAn",
        "outputId": "6797eef9-a940-4e3b-9faa-746d2eed58f0"
      },
      "source": [
        "# Create Es/N0 vector.\n",
        "EsN0dB = np.arange(-2,22,2)\n",
        "\n",
        "SER_simu = np.zeros(len(EsN0dB))\n",
        "SER_theo = np.zeros(len(EsN0dB))\n",
        "\n",
        "for idx in range(0,len(EsN0dB)):\n",
        "   \n",
        "    print('Es/N0 dB:', EsN0dB[idx])\n",
        "   \n",
        "    EsN0Lin = 10.0**(-(EsN0dB[idx]/10.0))\n",
        "   \n",
        "    # Generate N 4-bit symbols.\n",
        "    bits = np.random.randint(0,16,N)\n",
        "   \n",
        "    # Modulate the binary stream into 16QAM symbols.\n",
        "    symbols = mod(bits)\n",
        "    \n",
        "    # Normalization of energy to 1.\n",
        "    symbols_norm = (1/np.sqrt(2))*symbols;\n",
        "   \n",
        "    # Generate noise vector.\n",
        "    noise = np.sqrt(1.0/2.0)*(np.random.randn(N, 1) + 1j*np.random.randn(N, 1))\n",
        "   \n",
        "    y = symbols_norm + np.sqrt(EsN0Lin)*noise\n",
        "   \n",
        "    s_test, s_train, y_test, y_train, v_test, v_train = train_test_split(symbols, y, bits, random_state=42)\n",
        "       \n",
        "    # Define with GridSearchCV which is the best k = n_neighbors\n",
        "    knn = KMeans(n_clusters=16) \n",
        "    \n",
        "    # Train model for knn\n",
        "    knn.fit(s_train.real, v_train)\n",
        "    \n",
        "    # Fit model for imaginary part.\n",
        "    knn.fit(s_train.imag, v_train)\n",
        "   \n",
        "    # Prediction.\n",
        "    detected_re = knn.predict(s_test.real)\n",
        "     \n",
        "    # Prediction for imaginary part.\n",
        "    detected_im = knn.predict(s_test.imag)\n",
        "      \n",
        "    #print(error)\n",
        "    error_re = (v_test != detected_re) \n",
        "    error_im = (v_test != detected_im)\n",
        "    error = 0;\n",
        "    for i in range(0, len(v_test)): # Deve ser testar todosos N símbolos, neste caso o tamanho do conjunto de teste.  #v_test\n",
        "        if(error_re[i]==True or error_im[i]==True): \n",
        "        #if(v_test[i] != detected_re):\n",
        "            error = error + 1\n",
        "            #print(error)\n",
        "\n",
        "    SER_simu[idx] = 1.0 * error / len(v_test)\n",
        "    \n",
        "    # Theoretical BPSK BER.    \n",
        "    SER_theo[idx] = 1.5*erfc((np.sqrt(10)/10)*np.sqrt(10.0**(EsN0dB[idx]/10.0))) - (9/16)*(erfc((np.sqrt(10)/10)*np.sqrt(10.0**(EsN0dB[idx]/10.0))))**2.0"
      ],
      "execution_count": 63,
      "outputs": [
        {
          "output_type": "stream",
          "text": [
            "Es/N0 dB: -2\n"
          ],
          "name": "stdout"
        },
        {
          "output_type": "stream",
          "text": [
            "/usr/local/lib/python3.6/dist-packages/ipykernel_launcher.py:33: ConvergenceWarning: Number of distinct clusters (4) found smaller than n_clusters (16). Possibly due to duplicate points in X.\n",
            "/usr/local/lib/python3.6/dist-packages/ipykernel_launcher.py:36: ConvergenceWarning: Number of distinct clusters (4) found smaller than n_clusters (16). Possibly due to duplicate points in X.\n"
          ],
          "name": "stderr"
        },
        {
          "output_type": "stream",
          "text": [
            "Es/N0 dB: 0\n"
          ],
          "name": "stdout"
        },
        {
          "output_type": "stream",
          "text": [
            "/usr/local/lib/python3.6/dist-packages/ipykernel_launcher.py:33: ConvergenceWarning: Number of distinct clusters (4) found smaller than n_clusters (16). Possibly due to duplicate points in X.\n",
            "/usr/local/lib/python3.6/dist-packages/ipykernel_launcher.py:36: ConvergenceWarning: Number of distinct clusters (4) found smaller than n_clusters (16). Possibly due to duplicate points in X.\n"
          ],
          "name": "stderr"
        },
        {
          "output_type": "stream",
          "text": [
            "Es/N0 dB: 2\n"
          ],
          "name": "stdout"
        },
        {
          "output_type": "stream",
          "text": [
            "/usr/local/lib/python3.6/dist-packages/ipykernel_launcher.py:33: ConvergenceWarning: Number of distinct clusters (4) found smaller than n_clusters (16). Possibly due to duplicate points in X.\n",
            "/usr/local/lib/python3.6/dist-packages/ipykernel_launcher.py:36: ConvergenceWarning: Number of distinct clusters (4) found smaller than n_clusters (16). Possibly due to duplicate points in X.\n"
          ],
          "name": "stderr"
        },
        {
          "output_type": "stream",
          "text": [
            "Es/N0 dB: 4\n"
          ],
          "name": "stdout"
        },
        {
          "output_type": "stream",
          "text": [
            "/usr/local/lib/python3.6/dist-packages/ipykernel_launcher.py:33: ConvergenceWarning: Number of distinct clusters (4) found smaller than n_clusters (16). Possibly due to duplicate points in X.\n",
            "/usr/local/lib/python3.6/dist-packages/ipykernel_launcher.py:36: ConvergenceWarning: Number of distinct clusters (4) found smaller than n_clusters (16). Possibly due to duplicate points in X.\n"
          ],
          "name": "stderr"
        },
        {
          "output_type": "stream",
          "text": [
            "Es/N0 dB: 6\n"
          ],
          "name": "stdout"
        },
        {
          "output_type": "stream",
          "text": [
            "/usr/local/lib/python3.6/dist-packages/ipykernel_launcher.py:33: ConvergenceWarning: Number of distinct clusters (4) found smaller than n_clusters (16). Possibly due to duplicate points in X.\n",
            "/usr/local/lib/python3.6/dist-packages/ipykernel_launcher.py:36: ConvergenceWarning: Number of distinct clusters (4) found smaller than n_clusters (16). Possibly due to duplicate points in X.\n"
          ],
          "name": "stderr"
        },
        {
          "output_type": "stream",
          "text": [
            "Es/N0 dB: 8\n"
          ],
          "name": "stdout"
        },
        {
          "output_type": "stream",
          "text": [
            "/usr/local/lib/python3.6/dist-packages/ipykernel_launcher.py:33: ConvergenceWarning: Number of distinct clusters (4) found smaller than n_clusters (16). Possibly due to duplicate points in X.\n",
            "/usr/local/lib/python3.6/dist-packages/ipykernel_launcher.py:36: ConvergenceWarning: Number of distinct clusters (4) found smaller than n_clusters (16). Possibly due to duplicate points in X.\n"
          ],
          "name": "stderr"
        },
        {
          "output_type": "stream",
          "text": [
            "Es/N0 dB: 10\n"
          ],
          "name": "stdout"
        },
        {
          "output_type": "stream",
          "text": [
            "/usr/local/lib/python3.6/dist-packages/ipykernel_launcher.py:33: ConvergenceWarning: Number of distinct clusters (4) found smaller than n_clusters (16). Possibly due to duplicate points in X.\n",
            "/usr/local/lib/python3.6/dist-packages/ipykernel_launcher.py:36: ConvergenceWarning: Number of distinct clusters (4) found smaller than n_clusters (16). Possibly due to duplicate points in X.\n"
          ],
          "name": "stderr"
        },
        {
          "output_type": "stream",
          "text": [
            "Es/N0 dB: 12\n"
          ],
          "name": "stdout"
        },
        {
          "output_type": "stream",
          "text": [
            "/usr/local/lib/python3.6/dist-packages/ipykernel_launcher.py:33: ConvergenceWarning: Number of distinct clusters (4) found smaller than n_clusters (16). Possibly due to duplicate points in X.\n",
            "/usr/local/lib/python3.6/dist-packages/ipykernel_launcher.py:36: ConvergenceWarning: Number of distinct clusters (4) found smaller than n_clusters (16). Possibly due to duplicate points in X.\n"
          ],
          "name": "stderr"
        },
        {
          "output_type": "stream",
          "text": [
            "Es/N0 dB: 14\n"
          ],
          "name": "stdout"
        },
        {
          "output_type": "stream",
          "text": [
            "/usr/local/lib/python3.6/dist-packages/ipykernel_launcher.py:33: ConvergenceWarning: Number of distinct clusters (4) found smaller than n_clusters (16). Possibly due to duplicate points in X.\n",
            "/usr/local/lib/python3.6/dist-packages/ipykernel_launcher.py:36: ConvergenceWarning: Number of distinct clusters (4) found smaller than n_clusters (16). Possibly due to duplicate points in X.\n"
          ],
          "name": "stderr"
        },
        {
          "output_type": "stream",
          "text": [
            "Es/N0 dB: 16\n"
          ],
          "name": "stdout"
        },
        {
          "output_type": "stream",
          "text": [
            "/usr/local/lib/python3.6/dist-packages/ipykernel_launcher.py:33: ConvergenceWarning: Number of distinct clusters (4) found smaller than n_clusters (16). Possibly due to duplicate points in X.\n",
            "/usr/local/lib/python3.6/dist-packages/ipykernel_launcher.py:36: ConvergenceWarning: Number of distinct clusters (4) found smaller than n_clusters (16). Possibly due to duplicate points in X.\n"
          ],
          "name": "stderr"
        },
        {
          "output_type": "stream",
          "text": [
            "Es/N0 dB: 18\n"
          ],
          "name": "stdout"
        },
        {
          "output_type": "stream",
          "text": [
            "/usr/local/lib/python3.6/dist-packages/ipykernel_launcher.py:33: ConvergenceWarning: Number of distinct clusters (4) found smaller than n_clusters (16). Possibly due to duplicate points in X.\n",
            "/usr/local/lib/python3.6/dist-packages/ipykernel_launcher.py:36: ConvergenceWarning: Number of distinct clusters (4) found smaller than n_clusters (16). Possibly due to duplicate points in X.\n"
          ],
          "name": "stderr"
        },
        {
          "output_type": "stream",
          "text": [
            "Es/N0 dB: 20\n"
          ],
          "name": "stdout"
        },
        {
          "output_type": "stream",
          "text": [
            "/usr/local/lib/python3.6/dist-packages/ipykernel_launcher.py:33: ConvergenceWarning: Number of distinct clusters (4) found smaller than n_clusters (16). Possibly due to duplicate points in X.\n",
            "/usr/local/lib/python3.6/dist-packages/ipykernel_launcher.py:36: ConvergenceWarning: Number of distinct clusters (4) found smaller than n_clusters (16). Possibly due to duplicate points in X.\n"
          ],
          "name": "stderr"
        }
      ]
    },
    {
      "cell_type": "code",
      "metadata": {
        "colab": {
          "base_uri": "https://localhost:8080/"
        },
        "id": "eglG_KM8YJaY",
        "outputId": "7ddbe0ae-de1f-42f7-ceab-87242d13f30a"
      },
      "source": [
        "# Print values of Es/N0 vs. SER.\n",
        "for i in range(0,len(SER_simu)): print('Es/N0:%d \\t- SER: %e' % (EsN0dB[i], SER_simu[i]))"
      ],
      "execution_count": 64,
      "outputs": [
        {
          "output_type": "stream",
          "text": [
            "Es/N0:-2 \t- SER: 1.000000e+00\n",
            "Es/N0:0 \t- SER: 1.000000e+00\n",
            "Es/N0:2 \t- SER: 1.000000e+00\n",
            "Es/N0:4 \t- SER: 9.381067e-01\n",
            "Es/N0:6 \t- SER: 1.000000e+00\n",
            "Es/N0:8 \t- SER: 1.000000e+00\n",
            "Es/N0:10 \t- SER: 9.375867e-01\n",
            "Es/N0:12 \t- SER: 9.357733e-01\n",
            "Es/N0:14 \t- SER: 1.000000e+00\n",
            "Es/N0:16 \t- SER: 1.000000e+00\n",
            "Es/N0:18 \t- SER: 1.000000e+00\n",
            "Es/N0:20 \t- SER: 9.377867e-01\n"
          ],
          "name": "stdout"
        }
      ]
    },
    {
      "cell_type": "code",
      "metadata": {
        "colab": {
          "base_uri": "https://localhost:8080/",
          "height": 457
        },
        "id": "k3I2Y9yQbLx0",
        "outputId": "df3beb5c-d8c9-4fee-8e5b-1445dfe2cced"
      },
      "source": [
        "# Plot Es/N0 versus SER values.\n",
        "fig = plt.figure(figsize=(7,7))\n",
        "plt.plot(EsN0dB, SER_theo, 'b', label='Theoretical')\n",
        "plt.plot(EsN0dB, SER_simu, 'ko', label='Simulated')\n",
        "plt.xscale('linear')\n",
        "plt.yscale('log')\n",
        "plt.xlabel('Es/N0 [dB]')\n",
        "plt.ylabel('SER')\n",
        "plt.grid(True)\n",
        "plt.title('16-QAM detection with KMeans')\n",
        "plt.legend()\n",
        "plt.xlim([-2, 20])\n",
        "plt.ylim([1e-06, 2])\n",
        "plt.show()"
      ],
      "execution_count": 67,
      "outputs": [
        {
          "output_type": "display_data",
          "data": {
            "image/png": "[encoded data removed]",
            "text/plain": [
              "<Figure size 504x504 with 1 Axes>"
            ]
          },
          "metadata": {
            "tags": [],
            "needs_background": "light"
          }
        }
      ]
    },
    {
      "cell_type": "code",
      "metadata": {
        "id": "Cwh_P7a_bg4v"
      },
      "source": [
        ""
      ],
      "execution_count": null,
      "outputs": []
    }
  ]
}