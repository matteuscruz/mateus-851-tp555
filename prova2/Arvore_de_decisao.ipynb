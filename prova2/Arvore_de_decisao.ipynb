{
  "nbformat": 4,
  "nbformat_minor": 0,
  "metadata": {
    "colab": {
      "name": "Arvores_de_decisão.ipynb",
      "provenance": []
    },
    "kernelspec": {
      "name": "python3",
      "display_name": "Python 3"
    }
  },
  "cells": [
    {
      "cell_type": "code",
      "metadata": {
        "colab": {
          "base_uri": "https://localhost:8080/"
        },
        "id": "qjVbmRZxnn8F",
        "outputId": "a5885540-9afe-41ef-a587-6326a9f9ef4c"
      },
      "source": [
        "# Importando as bibliotecas gerais:\n",
        "import pandas as pd\n",
        " \n",
        "\n",
        "# Importando as bibliotecas Scikit Learn\n",
        "from sklearn.preprocessing import LabelEncoder\n",
        "from sklearn.tree import DecisionTreeClassifier\n",
        "from sklearn.tree import export\n",
        "\n",
        "# Imprimindo:\n",
        "print('Todas as bibliotecas importadas!')"
      ],
      "execution_count": null,
      "outputs": [
        {
          "output_type": "stream",
          "text": [
            "Todas as bibliotecas importadas!\n"
          ],
          "name": "stdout"
        }
      ]
    },
    {
      "cell_type": "code",
      "metadata": {
        "id": "YZaXRQboG-z9"
      },
      "source": [
        "# Definindo o dataset:\n",
        "dataset = pd.read_csv('prova.csv')\n",
        "\n",
        "# Definindo as features:\n",
        "x = dataset.iloc[1:,0:4].values\n",
        "\n",
        "# Definindo os targets:\n",
        "y = dataset.iloc[1:,4].values"
      ],
      "execution_count": null,
      "outputs": []
    },
    {
      "cell_type": "code",
      "metadata": {
        "colab": {
          "base_uri": "https://localhost:8080/"
        },
        "id": "y1YwkP7p2Va-",
        "outputId": "6f7b9264-59db-4139-df7d-4c8b0082488d"
      },
      "source": [
        "y"
      ],
      "execution_count": null,
      "outputs": [
        {
          "output_type": "execute_result",
          "data": {
            "text/plain": [
              "array(['yes', 'yes', 'yes', 'yes', 'no', 'no', 'no', 'no', 'no', 'no'],\n",
              "      dtype=object)"
            ]
          },
          "metadata": {
            "tags": []
          },
          "execution_count": 17
        }
      ]
    },
    {
      "cell_type": "code",
      "metadata": {
        "id": "vTEJ58OiHZv-"
      },
      "source": [
        "# Instânciando o Label Encoder:\n",
        "LE = LabelEncoder()\n",
        "\n",
        "# Transformando as variáveis categóricas:\n",
        "x[:,0] = LE.fit_transform(x[:,0])\n",
        "x[:,1] = LE.fit_transform(x[:,1])\n",
        "x[:,2] = LE.fit_transform(x[:,2])\n",
        "x[:,3] = LE.fit_transform(x[:,3])"
      ],
      "execution_count": null,
      "outputs": []
    },
    {
      "cell_type": "code",
      "metadata": {
        "colab": {
          "base_uri": "https://localhost:8080/"
        },
        "id": "PwVUOpemIGRB",
        "outputId": "fdc0e370-fa6d-44f8-9cf4-0ae08f03d679"
      },
      "source": [
        "# Instânciando a árvore de decisão:\n",
        "DT = DecisionTreeClassifier(criterion='entropy')\n",
        "\n",
        "# Fazendo o treinamento por meio da árvore de decisão:\n",
        "DT.fit(x, y)\n",
        "\n",
        "# Imprimindo o resultado:\n",
        "print('Classificador treinado!')"
      ],
      "execution_count": null,
      "outputs": [
        {
          "output_type": "stream",
          "text": [
            "Classificador treinado!\n"
          ],
          "name": "stdout"
        }
      ]
    },
    {
      "cell_type": "code",
      "metadata": {
        "colab": {
          "base_uri": "https://localhost:8080/"
        },
        "id": "yiV1Zmn9IcJz",
        "outputId": "2ae113e2-66e6-4a7a-bfa0-592bcc24cc99"
      },
      "source": [
        "# Imprimindo:\n",
        "print(DT.feature_importances_)"
      ],
      "execution_count": null,
      "outputs": [
        {
          "output_type": "stream",
          "text": [
            "[0.62823644 0.37176356 0.         0.        ]\n"
          ],
          "name": "stdout"
        }
      ]
    },
    {
      "cell_type": "code",
      "metadata": {
        "id": "G4PZEHNiLC4a"
      },
      "source": [
        "export.export_graphviz(DT, out_file='Decision.dot',\n",
        "                       feature_names=['Body temperature','Gives birth','Four legged','Hibernates'],\n",
        "                       class_names=['yes','no'],\n",
        "                       filled=True, leaves_parallel=True)"
      ],
      "execution_count": null,
      "outputs": []
    },
    {
      "cell_type": "code",
      "metadata": {
        "id": "PwOuZj4EMqKB"
      },
      "source": [
        ""
      ],
      "execution_count": null,
      "outputs": []
    }
  ]
}