{
  "nbformat": 4,
  "nbformat_minor": 0,
  "metadata": {
    "colab": {
      "name": "Exercicio_9.ipynb",
      "provenance": []
    },
    "kernelspec": {
      "name": "python3",
      "display_name": "Python 3"
    }
  },
  "cells": [
    {
      "cell_type": "code",
      "metadata": {
        "id": "gE6W1Z6e8B_r"
      },
      "source": [
        "%tensorflow_version 1.x"
      ],
      "execution_count": 76,
      "outputs": []
    },
    {
      "cell_type": "code",
      "metadata": {
        "id": "rDkd-fOm7c0g"
      },
      "source": [
        "# Importando as bibliotecas necessárias:\n",
        "import os\n",
        "import numpy as np\n",
        "import tensorflow as tf\n",
        "import matplotlib.pyplot as plt"
      ],
      "execution_count": 77,
      "outputs": []
    },
    {
      "cell_type": "code",
      "metadata": {
        "id": "-t0R3rnL8jnR"
      },
      "source": [
        "n_epochs = 20\n",
        "n_batches = 50\n",
        "n_epochs = 40\n",
        "batch_size = 50"
      ],
      "execution_count": 78,
      "outputs": []
    },
    {
      "cell_type": "code",
      "metadata": {
        "id": "pkV6QnwX8T45"
      },
      "source": [
        "n_inputs = 28*28  # MNIST\n",
        "n_hidden1 = 300\n",
        "n_hidden2 = 100\n",
        "n_outputs = 10\n",
        "learning_rate = 0.01"
      ],
      "execution_count": 79,
      "outputs": []
    },
    {
      "cell_type": "code",
      "metadata": {
        "id": "mm6PZNM979bp"
      },
      "source": [
        "(X_train, y_train), (X_test, y_test) = tf.keras.datasets.mnist.load_data()\n",
        "X_train = X_train.astype(np.float32).reshape(-1, 28*28) / 255.0\n",
        "X_test = X_test.astype(np.float32).reshape(-1, 28*28) / 255.0\n",
        "y_train = y_train.astype(np.int32)\n",
        "y_test = y_test.astype(np.int32)\n",
        "X_valid, X_train = X_train[:5000], X_train[5000:]\n",
        "y_valid, y_train = y_train[:5000], y_train[5000:]"
      ],
      "execution_count": 80,
      "outputs": []
    },
    {
      "cell_type": "code",
      "metadata": {
        "id": "LsLtJkOk8QDb"
      },
      "source": [
        "def reset_graph(seed=42):\n",
        "    tf.reset_default_graph()\n",
        "    tf.set_random_seed(seed)\n",
        "    np.random.seed(seed)\n",
        "    \n",
        "def shuffle_batch(X, y, batch_size):\n",
        "    rnd_idx = np.random.permutation(len(X))\n",
        "    n_batches = len(X) // batch_size\n",
        "    for batch_idx in np.array_split(rnd_idx, n_batches):\n",
        "        X_batch, y_batch = X[batch_idx], y[batch_idx]\n",
        "        yield X_batch, y_batch"
      ],
      "execution_count": 81,
      "outputs": []
    },
    {
      "cell_type": "code",
      "metadata": {
        "id": "eHEYkU-d8Ren"
      },
      "source": [
        "reset_graph()"
      ],
      "execution_count": 82,
      "outputs": []
    },
    {
      "cell_type": "code",
      "metadata": {
        "id": "CZEsAxO_8WwG"
      },
      "source": [
        "X = tf.placeholder(tf.float32, shape=(None, n_inputs), name=\"X\")\n",
        "y = tf.placeholder(tf.int32, shape=(None), name=\"y\")"
      ],
      "execution_count": 83,
      "outputs": []
    },
    {
      "cell_type": "code",
      "metadata": {
        "id": "Rzlb2JEq8Ybe"
      },
      "source": [
        "with tf.name_scope(\"dnn\"):\n",
        "    hidden1 = tf.layers.dense(X, n_hidden1, name=\"hidden1\",\n",
        "                              activation=tf.nn.relu)\n",
        "    hidden2 = tf.layers.dense(hidden1, n_hidden2, name=\"hidden2\",\n",
        "                              activation=tf.nn.relu)\n",
        "    logits = tf.layers.dense(hidden2, n_outputs, name=\"outputs\")\n",
        "    y_proba = tf.nn.softmax(logits)"
      ],
      "execution_count": 84,
      "outputs": []
    },
    {
      "cell_type": "code",
      "metadata": {
        "id": "W1ZGMG_n8a_q"
      },
      "source": [
        "with tf.name_scope(\"loss\"):\n",
        "    xentropy = tf.nn.sparse_softmax_cross_entropy_with_logits(labels=y, logits=logits)\n",
        "    loss = tf.reduce_mean(xentropy, name=\"loss\")\n",
        "    loss_summary = tf.summary.scalar('log_loss', loss)"
      ],
      "execution_count": 85,
      "outputs": []
    },
    {
      "cell_type": "code",
      "metadata": {
        "id": "hriBhYpO8dvv"
      },
      "source": [
        "with tf.name_scope(\"loss\"):\n",
        "    xentropy = tf.nn.sparse_softmax_cross_entropy_with_logits(labels=y, logits=logits)\n",
        "    loss = tf.reduce_mean(xentropy, name=\"loss\")"
      ],
      "execution_count": 86,
      "outputs": []
    },
    {
      "cell_type": "code",
      "metadata": {
        "id": "97LuVr9_8e-h"
      },
      "source": [
        "with tf.name_scope(\"train\"):\n",
        "    optimizer = tf.train.MomentumOptimizer(learning_rate=learning_rate, momentum=0.9)\n",
        "    training_op = optimizer.minimize(loss)"
      ],
      "execution_count": 87,
      "outputs": []
    },
    {
      "cell_type": "code",
      "metadata": {
        "id": "JMXFNfjV8gF9"
      },
      "source": [
        "with tf.name_scope(\"eval\"):\n",
        "    correct = tf.nn.in_top_k(logits, y, 1)\n",
        "    accuracy = tf.reduce_mean(tf.cast(correct, tf.float32))\n",
        "    accuracy_summary = tf.summary.scalar('accuracy', accuracy)"
      ],
      "execution_count": 88,
      "outputs": []
    },
    {
      "cell_type": "code",
      "metadata": {
        "id": "VvdNI3_Y8h3W"
      },
      "source": [
        "init = tf.global_variables_initializer()\n",
        "saver = tf.train.Saver()"
      ],
      "execution_count": 89,
      "outputs": []
    },
    {
      "cell_type": "code",
      "metadata": {
        "colab": {
          "base_uri": "https://localhost:8080/"
        },
        "id": "_11YNUZ-8m0K",
        "outputId": "c6e43ae0-09f4-4870-f921-7217e6a418b0"
      },
      "source": [
        "with tf.Session() as sess:\n",
        "    init.run()\n",
        "    for epoch in range(n_epochs):\n",
        "        for X_batch, y_batch in shuffle_batch(X_train, y_train, batch_size):\n",
        "            sess.run(training_op, feed_dict={X: X_batch, y: y_batch})\n",
        "        acc_batch = accuracy.eval(feed_dict={X: X_batch, y: y_batch})\n",
        "        acc_valid = accuracy.eval(feed_dict={X: X_valid, y: y_valid})\n",
        "        print(epoch, \"Batch accuracy:\", acc_batch, \"Validation accuracy:\", acc_valid)\n",
        "\n",
        "    save_path = saver.save(sess, \"./my_model_final.ckpt\")"
      ],
      "execution_count": 90,
      "outputs": [
        {
          "output_type": "stream",
          "text": [
            "0 Batch accuracy: 0.96 Validation accuracy: 0.9564\n",
            "1 Batch accuracy: 0.94 Validation accuracy: 0.9714\n",
            "2 Batch accuracy: 0.98 Validation accuracy: 0.972\n",
            "3 Batch accuracy: 0.96 Validation accuracy: 0.9762\n",
            "4 Batch accuracy: 0.98 Validation accuracy: 0.9782\n",
            "5 Batch accuracy: 1.0 Validation accuracy: 0.9788\n",
            "6 Batch accuracy: 1.0 Validation accuracy: 0.9808\n",
            "7 Batch accuracy: 1.0 Validation accuracy: 0.9806\n",
            "8 Batch accuracy: 1.0 Validation accuracy: 0.9812\n",
            "9 Batch accuracy: 0.98 Validation accuracy: 0.9816\n",
            "10 Batch accuracy: 1.0 Validation accuracy: 0.9838\n",
            "11 Batch accuracy: 1.0 Validation accuracy: 0.9842\n",
            "12 Batch accuracy: 1.0 Validation accuracy: 0.9826\n",
            "13 Batch accuracy: 1.0 Validation accuracy: 0.9826\n",
            "14 Batch accuracy: 1.0 Validation accuracy: 0.9838\n",
            "15 Batch accuracy: 1.0 Validation accuracy: 0.9848\n",
            "16 Batch accuracy: 1.0 Validation accuracy: 0.9842\n",
            "17 Batch accuracy: 1.0 Validation accuracy: 0.9838\n",
            "18 Batch accuracy: 1.0 Validation accuracy: 0.9842\n",
            "19 Batch accuracy: 1.0 Validation accuracy: 0.9854\n",
            "20 Batch accuracy: 1.0 Validation accuracy: 0.984\n",
            "21 Batch accuracy: 1.0 Validation accuracy: 0.9846\n",
            "22 Batch accuracy: 1.0 Validation accuracy: 0.985\n",
            "23 Batch accuracy: 1.0 Validation accuracy: 0.985\n",
            "24 Batch accuracy: 1.0 Validation accuracy: 0.9848\n",
            "25 Batch accuracy: 1.0 Validation accuracy: 0.9854\n",
            "26 Batch accuracy: 1.0 Validation accuracy: 0.9846\n",
            "27 Batch accuracy: 1.0 Validation accuracy: 0.9846\n",
            "28 Batch accuracy: 1.0 Validation accuracy: 0.9848\n",
            "29 Batch accuracy: 1.0 Validation accuracy: 0.9848\n",
            "30 Batch accuracy: 1.0 Validation accuracy: 0.9848\n",
            "31 Batch accuracy: 1.0 Validation accuracy: 0.9848\n",
            "32 Batch accuracy: 1.0 Validation accuracy: 0.985\n",
            "33 Batch accuracy: 1.0 Validation accuracy: 0.9842\n",
            "34 Batch accuracy: 1.0 Validation accuracy: 0.9844\n",
            "35 Batch accuracy: 1.0 Validation accuracy: 0.9844\n",
            "36 Batch accuracy: 1.0 Validation accuracy: 0.9842\n",
            "37 Batch accuracy: 1.0 Validation accuracy: 0.9844\n",
            "38 Batch accuracy: 1.0 Validation accuracy: 0.9848\n",
            "39 Batch accuracy: 1.0 Validation accuracy: 0.984\n"
          ],
          "name": "stdout"
        }
      ]
    },
    {
      "cell_type": "code",
      "metadata": {
        "id": "0uY3lTvt8obF"
      },
      "source": [
        "from datetime import datetime\n",
        "\n",
        "def log_dir(prefix=\"\"):\n",
        "    now = datetime.utcnow().strftime(\"%Y%m%d%H%M%S\")\n",
        "    root_logdir = \"tf_logs\"\n",
        "    if prefix:\n",
        "        prefix += \"-\"\n",
        "    name = prefix + \"run-\" + now\n",
        "    return \"{}/{}/\".format(root_logdir, name)"
      ],
      "execution_count": 91,
      "outputs": []
    },
    {
      "cell_type": "code",
      "metadata": {
        "id": "Kz89yGJb8qBE"
      },
      "source": [
        "m, n = X_train.shape\n",
        "logdir = log_dir(\"mnist_dnn\")\n",
        "file_writer = tf.summary.FileWriter(logdir, tf.get_default_graph())"
      ],
      "execution_count": 92,
      "outputs": []
    },
    {
      "cell_type": "code",
      "metadata": {
        "colab": {
          "base_uri": "https://localhost:8080/"
        },
        "id": "Mwib63B08rX7",
        "outputId": "2d947764-9838-4785-c185-c93d6ffed2cc"
      },
      "source": [
        "n_epochs = 10001\n",
        "batch_size = 50\n",
        "n_batches = int(np.ceil(m / batch_size))\n",
        "\n",
        "checkpoint_path = \"/tmp/my_deep_mnist_model.ckpt\"\n",
        "checkpoint_epoch_path = checkpoint_path + \".epoch\"\n",
        "final_model_path = \"./my_deep_mnist_model\"\n",
        "\n",
        "best_loss = np.infty\n",
        "epochs_without_progress = 0\n",
        "max_epochs_without_progress = 50\n",
        "\n",
        "with tf.Session() as sess:\n",
        "    if os.path.isfile(checkpoint_epoch_path):\n",
        "        # if the checkpoint file exists, restore the model and load the epoch number\n",
        "        with open(checkpoint_epoch_path, \"rb\") as f:\n",
        "            start_epoch = int(f.read())\n",
        "        print(\"Training was interrupted. Continuing at epoch\", start_epoch)\n",
        "        saver.restore(sess, checkpoint_path)\n",
        "    else:\n",
        "        start_epoch = 0\n",
        "        sess.run(init)\n",
        "\n",
        "    for epoch in range(start_epoch, n_epochs):\n",
        "        for X_batch, y_batch in shuffle_batch(X_train, y_train, batch_size):\n",
        "            sess.run(training_op, feed_dict={X: X_batch, y: y_batch})\n",
        "        accuracy_val, loss_val, accuracy_summary_str, loss_summary_str = sess.run([accuracy, loss, accuracy_summary, loss_summary], feed_dict={X: X_valid, y: y_valid})\n",
        "        file_writer.add_summary(accuracy_summary_str, epoch)\n",
        "        file_writer.add_summary(loss_summary_str, epoch)\n",
        "        if epoch % 5 == 0:\n",
        "            print(\"Epoch:\", epoch,\n",
        "                  \"\\tValidation accuracy: {:.3f}%\".format(accuracy_val * 100),\n",
        "                  \"\\tLoss: {:.5f}\".format(loss_val))\n",
        "            saver.save(sess, checkpoint_path)\n",
        "            with open(checkpoint_epoch_path, \"wb\") as f:\n",
        "                f.write(b\"%d\" % (epoch + 1))\n",
        "            if loss_val < best_loss:\n",
        "                saver.save(sess, final_model_path)\n",
        "                best_loss = loss_val\n",
        "            else:\n",
        "                epochs_without_progress += 5\n",
        "                if epochs_without_progress > max_epochs_without_progress:\n",
        "                    print(\"Early stopping\")\n",
        "                    break"
      ],
      "execution_count": 93,
      "outputs": [
        {
          "output_type": "stream",
          "text": [
            "Training was interrupted. Continuing at epoch 66\n",
            "INFO:tensorflow:Restoring parameters from /tmp/my_deep_mnist_model.ckpt\n",
            "Epoch: 70 \tValidation accuracy: 98.420% \tLoss: 0.08523\n",
            "Epoch: 75 \tValidation accuracy: 98.380% \tLoss: 0.08594\n",
            "Epoch: 80 \tValidation accuracy: 98.400% \tLoss: 0.08652\n",
            "Epoch: 85 \tValidation accuracy: 98.380% \tLoss: 0.08717\n",
            "Epoch: 90 \tValidation accuracy: 98.400% \tLoss: 0.08760\n",
            "Epoch: 95 \tValidation accuracy: 98.380% \tLoss: 0.08834\n",
            "Epoch: 100 \tValidation accuracy: 98.400% \tLoss: 0.08874\n",
            "Epoch: 105 \tValidation accuracy: 98.400% \tLoss: 0.08947\n",
            "Epoch: 110 \tValidation accuracy: 98.360% \tLoss: 0.09004\n",
            "Epoch: 115 \tValidation accuracy: 98.400% \tLoss: 0.09028\n",
            "Epoch: 120 \tValidation accuracy: 98.420% \tLoss: 0.09078\n",
            "Epoch: 125 \tValidation accuracy: 98.380% \tLoss: 0.09101\n",
            "Early stopping\n"
          ],
          "name": "stdout"
        }
      ]
    },
    {
      "cell_type": "code",
      "metadata": {
        "id": "yTmTrscw8tW-"
      },
      "source": [
        ""
      ],
      "execution_count": 93,
      "outputs": []
    }
  ]
}