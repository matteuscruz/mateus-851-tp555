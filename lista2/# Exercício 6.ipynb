{
 "cells": [
  {
   "cell_type": "markdown",
   "metadata": {},
   "source": [
    "RESOLUÇÃO LISTA 02 - NUMERO 06"
   ]
  },
  {
   "cell_type": "code",
   "execution_count": 62,
   "metadata": {},
   "outputs": [],
   "source": [
    "# Importar as bibliotecas\n",
    "from mpl_toolkits.mplot3d import Axes3D\n",
    "from matplotlib import cm\n",
    "import matplotlib.pyplot as plt\n",
    "import matplotlib\n",
    "from pylab import *\n",
    "import numpy as np\n",
    "import random\n",
    "\n",
    "%matplotlib inline"
   ]
  },
  {
   "cell_type": "code",
   "execution_count": 63,
   "metadata": {},
   "outputs": [],
   "source": [
    "# Definindo númeto de amostras\n",
    "M = 1000"
   ]
  },
  {
   "cell_type": "code",
   "execution_count": 64,
   "metadata": {},
   "outputs": [],
   "source": [
    "# Features e Ruido\n",
    "x = np.random.uniform(-5, 5, M).reshape(M, 1)\n",
    "w = np.random.normal(0, np.sqrt(10), M).reshape(M, 1)\n",
    "\n",
    "# Target\n",
    "y = 3 + 1.5*x + 2.3*(x**2) + w"
   ]
  },
  {
   "cell_type": "code",
   "execution_count": 66,
   "metadata": {},
   "outputs": [],
   "source": [
    "# Forma Fechada\n",
    "X = np.c_[np.ones((M, 1)), x, x**2]\n",
    "\n",
    "a_opt = np.linalg.pinv(np.transpose(X).dot(X)).dot(np.transpose(X).dot(y))\n",
    "\n",
    "yhat = X.dot(a_opt)\n",
    "\n",
    "Joptimum = (2.0/M)*np.sum(np.power((y - yhat), 2))"
   ]
  },
  {
   "cell_type": "code",
   "execution_count": 67,
   "metadata": {},
   "outputs": [],
   "source": [
    "#Gradiente Descendente em Batelada\n",
    "\n",
    "# Numero máximo de iterações\n",
    "N_Iter = 1000\n",
    "\n",
    "# Atribuindo o valor de Alpha\n",
    "alpha = 0.007\n",
    "\n",
    "Jgd = np.zeros(N_Iter+1)\n",
    "\n",
    "# Criando um vetor com 3 linhas, pois temos a0, a1 e a2.\n",
    "a = np.array([-30.0, -30.0, -30.0]).reshape(3,1)\n",
    "\n",
    "Jgd[0] = (1.0/M)*np.sum(np.power((y - X.dot(a)), 2))\n",
    "\n",
    "error = 1\n",
    "iteration = 0\n",
    "while(iteration < N_Iter and error > 0.001):\n",
    "    \n",
    "    update = -(2.0/M)*X.T.dot(y - X.dot(a)) \n",
    "    \n",
    "    a = a - alpha*update\n",
    "\n",
    "    Jgd[iteration+1] = (1.0/M)*sum(np.power((y - X.dot(a)), 2)) \n",
    "    \n",
    "    error = np.abs(Jgd[iteration+1]-Jgd[iteration])\n",
    "    \n",
    "    iteration = iteration + 1"
   ]
  },
  {
   "cell_type": "code",
   "execution_count": 68,
   "metadata": {},
   "outputs": [
    {
     "data": {
      "image/png": "[encoded data removed]",
      "text/plain": [
       "<Figure size 360x360 with 1 Axes>"
      ]
     },
     "metadata": {
      "needs_background": "light"
     },
     "output_type": "display_data"
    }
   ],
   "source": [
    "fig = plt.figure(figsize=(5,5))\n",
    "\n",
    "plt.plot(np.arange(0, iteration), Jgd[0:iteration])\n",
    "plt.xlim((0, iteration))\n",
    "#plt.yscale('log')\n",
    "plt.xlabel('Iterações')\n",
    "plt.ylabel('$J_e$')\n",
    "plt.title('Erro x Iterações')\n",
    "plt.show()"
   ]
  },
  {
   "cell_type": "code",
   "execution_count": 69,
   "metadata": {},
   "outputs": [
    {
     "name": "stdout",
     "output_type": "stream",
     "text": [
      "[[3.43183788]\n",
      " [1.44986703]\n",
      " [2.28547382]]\n",
      "a0_opt 3.431837875268151\n",
      "a1_opt 1.4498670308900552\n",
      "a2_opt 2.285473818761246\n"
     ]
    }
   ],
   "source": [
    "print(a_opt)\n",
    "print('a0_opt {}'.format(a_opt[0][0]))\n",
    "print('a1_opt {}'.format(a_opt[1][0]))\n",
    "print('a2_opt {}'.format(a_opt[2][0]))"
   ]
  },
  {
   "cell_type": "code",
   "execution_count": 70,
   "metadata": {},
   "outputs": [
    {
     "name": "stdout",
     "output_type": "stream",
     "text": [
      "[[2.9995793 ]\n",
      " [1.4500864 ]\n",
      " [2.31420972]]\n",
      "a0 2.999579299906293\n",
      "a1 1.4500863972721447\n",
      "a2 2.3142097172596654\n"
     ]
    }
   ],
   "source": [
    "print(a)\n",
    "print('a0 {}'.format(a[0][0]))\n",
    "print('a1 {}'.format(a[1][0]))\n",
    "print('a2 {}'.format(a[2][0]))"
   ]
  },
  {
   "cell_type": "code",
   "execution_count": null,
   "metadata": {},
   "outputs": [],
   "source": []
  },
  {
   "cell_type": "code",
   "execution_count": null,
   "metadata": {},
   "outputs": [],
   "source": []
  }
 ],
 "metadata": {
  "kernelspec": {
   "display_name": "Python 3",
   "language": "python",
   "name": "python3"
  },
  "language_info": {
   "codemirror_mode": {
    "name": "ipython",
    "version": 3
   },
   "file_extension": ".py",
   "mimetype": "text/x-python",
   "name": "python",
   "nbconvert_exporter": "python",
   "pygments_lexer": "ipython3",
   "version": "3.8.3"
  }
 },
 "nbformat": 4,
 "nbformat_minor": 4
}
