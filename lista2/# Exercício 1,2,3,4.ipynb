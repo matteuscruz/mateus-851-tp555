{
 "cells": [
  {
   "cell_type": "markdown",
   "metadata": {},
   "source": [
    "# TP555 - AI/ML"
   ]
  },
  {
   "cell_type": "markdown",
   "metadata": {},
   "source": [
    "### Lista de Exercícios #2"
   ]
  },
  {
   "cell_type": "markdown",
   "metadata": {},
   "source": [
    "##### Regressão Linear\n"
   ]
  },
  {
   "cell_type": "markdown",
   "metadata": {},
   "source": [
    "1) Qual técnica de regressão linear você usaria se tivesse um conjunto de treinamento\n",
    "com milhares de features (i.e., atributos)? Explique por quais razões você utilizaria esta\n",
    "técnica."
   ]
  },
  {
   "cell_type": "markdown",
   "metadata": {},
   "source": [
    "Depende do Hardware e o tempo que é fornecido, pois caso o Hardware e o tempo fossem alto eu optaria por um Gradiente Descendente Batelada devido sua maior precisão em suas predições. Porém, se os dados continuassem a ser atualizados de uma maneira rápida, esta técnica poderia não ser eficiente fazendo necessário o uso de uma técnica de Mini lotes para sua devida atualização e confiabilidade em suas futuras predições."
   ]
  },
  {
   "cell_type": "markdown",
   "metadata": {},
   "source": [
    "2)  Suponha que as features (i.e., atributos) do seu conjunto de treinamento tenham\n",
    "escalas muito diferentes. Qual técnica de regressão linear pode sofrer com isso e\n",
    "como? O que pode ser feito para mitigar este problema?"
   ]
  },
  {
   "cell_type": "markdown",
   "metadata": {},
   "source": [
    "Bem, técnicas como Gradiente Descendente Estocástico não sofreria com tamanha divergência entre as escalas dos valores, porém para outras técnicas seria necessário o uso de ferramentas disponíveis nas bibliotecas do python que se utilizam de escalas logarítimicas para fazer o tratamento dos dados e aproximação dos valores quando muito distantes."
   ]
  },
  {
   "cell_type": "markdown",
   "metadata": {},
   "source": [
    "3) Suponha que você use o gradiente descendente em batelada e plote o erro de cada\n",
    "época. Se você perceber que o erro aumenta constantemente, o que provavelmente\n",
    "está acontecendo? Como você pode resolver isso?\n"
   ]
  },
  {
   "cell_type": "markdown",
   "metadata": {},
   "source": [
    "O erro crescente ao longo das iterações pode ser um sinal que o passo de aprendizagem do algoritmo se encontra em um valor elevado, fazendo com que ele não consiga encontrar o valor de mínimo do erro."
   ]
  },
  {
   "cell_type": "markdown",
   "metadata": {},
   "source": [
    "4) Entre as versões do gradiente descendente (GD) que discutimos (batch, estocástico e\n",
    "mini-batch), qual deles chega mais rapidamente à vizinhança da solução ótima? Qual\n",
    "deles realmente converge? O que você pode fazer para que os outros também\n",
    "convirjam?\n"
   ]
  },
  {
   "cell_type": "markdown",
   "metadata": {},
   "source": [
    "O gradiente descendente batelada é o que possui maior precisão quanto encontrar os pesos, porém exige maior tempo e poder computacional. O Gradiente descendente estocástico devido a sua aleatoriedade na escolha dos valores tem uma maior dificuldade para encontrar o valor mínimo do erro, porém é mais ágil quando comparado ao Batelado. Por fim, o grandiente descendente em mini lotes possui o melhor dos dois mundos, fazendo o uso de quantidades de dados personalizável do conjunto todo, poupando recursos e tempo para sua implementação."
   ]
  },
  {
   "cell_type": "code",
   "execution_count": null,
   "metadata": {},
   "outputs": [],
   "source": []
  }
 ],
 "metadata": {
  "kernelspec": {
   "display_name": "Python 3",
   "language": "python",
   "name": "python3"
  },
  "language_info": {
   "codemirror_mode": {
    "name": "ipython",
    "version": 3
   },
   "file_extension": ".py",
   "mimetype": "text/x-python",
   "name": "python",
   "nbconvert_exporter": "python",
   "pygments_lexer": "ipython3",
   "version": "3.8.3"
  }
 },
 "nbformat": 4,
 "nbformat_minor": 4
}
