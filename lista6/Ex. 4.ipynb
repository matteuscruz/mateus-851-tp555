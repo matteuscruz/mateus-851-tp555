{
 "cells": [
  {
   "cell_type": "markdown",
   "metadata": {},
   "source": [
    "### Importando bibliotecas:"
   ]
  },
  {
   "cell_type": "code",
   "execution_count": 84,
   "metadata": {},
   "outputs": [],
   "source": [
    "# Importando todas as bibliotecas necessárias:\n",
    "import numpy as np\n",
    "import matplotlib.pyplot as plt\n",
    "\n",
    "# Importando a biblioteca Scikit Learn:\n",
    "from sklearn.model_selection import train_test_split\n",
    "from sklearn.neighbors import KNeighborsRegressor\n",
    "from sklearn.model_selection import GridSearchCV\n",
    "from sklearn.metrics import mean_squared_error"
   ]
  },
  {
   "cell_type": "markdown",
   "metadata": {},
   "source": [
    "### Manipulando os dados:"
   ]
  },
  {
   "cell_type": "code",
   "execution_count": 73,
   "metadata": {},
   "outputs": [],
   "source": [
    "# Definindo o número de amostras:\n",
    "N = 1000\n",
    "\n",
    "# Definindo a semente para números pseudo aleatórios\n",
    "np.random.seed(42)\n",
    "\n",
    "# Criando as features:\n",
    "x = np.sort(5 * np.random.rand(N, 1), axis = 0)\n",
    "\n",
    "# Criando as labels: \n",
    "y      = np.sin(x).ravel()\n",
    "y_orig = np.sin(x).ravel()\n",
    "\n",
    "# Criando o ruído e adicionando:\n",
    "y += 0.1 * np.random.randn(N)\n",
    "\n",
    "# Fazendo a separação em dados de treinamento e teste:\n",
    "x_train, x_test, y_train, y_test = train_test_split(x, y, test_size=0.8)"
   ]
  },
  {
   "cell_type": "code",
   "execution_count": 74,
   "metadata": {},
   "outputs": [],
   "source": [
    "# Setando os parâmetros para o Grid-Search:\n",
    "param_grid = [{'weights':['uniform','distance'], 'n_neighbors':[1, 2, 3, 4, 5, \n",
    "                                                                6, 7, 8, 9, 10,\n",
    "                                                                15, 20]}]"
   ]
  },
  {
   "cell_type": "markdown",
   "metadata": {},
   "source": [
    "### Encontrando os valores ótimos:"
   ]
  },
  {
   "cell_type": "code",
   "execution_count": 79,
   "metadata": {},
   "outputs": [
    {
     "name": "stdout",
     "output_type": "stream",
     "text": [
      "Fitting 5 folds for each of 24 candidates, totalling 120 fits\n"
     ]
    },
    {
     "name": "stderr",
     "output_type": "stream",
     "text": [
      "[Parallel(n_jobs=-1)]: Using backend LokyBackend with 8 concurrent workers.\n",
      "[Parallel(n_jobs=-1)]: Done  16 tasks      | elapsed:    0.0s\n",
      "[Parallel(n_jobs=-1)]: Done 105 out of 120 | elapsed:    0.0s remaining:    0.0s\n",
      "[Parallel(n_jobs=-1)]: Done 120 out of 120 | elapsed:    0.0s finished\n"
     ]
    },
    {
     "data": {
      "text/plain": [
       "GridSearchCV(cv=5, estimator=KNeighborsRegressor(), n_jobs=-1,\n",
       "             param_grid=[{'n_neighbors': [1, 2, 3, 4, 5, 6, 7, 8, 9, 10, 15,\n",
       "                                          20],\n",
       "                          'weights': ['uniform', 'distance']}],\n",
       "             verbose=3)"
      ]
     },
     "execution_count": 79,
     "metadata": {},
     "output_type": "execute_result"
    }
   ],
   "source": [
    "# Instanciando o classificador k-NN:\n",
    "knn_regressor = KNeighborsRegressor()\n",
    "\n",
    "# Instânciando o GridSearchCV:\n",
    "gridsearchcv = GridSearchCV(knn_regressor, param_grid, cv=5, verbose=3, n_jobs=-1)\n",
    "\n",
    "# Efetuando o treinamento do modelo;\n",
    "gridsearchcv.fit(x_train, y_train)"
   ]
  },
  {
   "cell_type": "markdown",
   "metadata": {},
   "source": [
    "### Exibindo os resultados:"
   ]
  },
  {
   "cell_type": "code",
   "execution_count": 80,
   "metadata": {},
   "outputs": [
    {
     "name": "stdout",
     "output_type": "stream",
     "text": [
      "O melhor parâmetro encontrado foi: {'n_neighbors': 4, 'weights': 'uniform'}\n",
      "A melhor probabilidade encontrada foi: 97.63%\n"
     ]
    }
   ],
   "source": [
    "print('O melhor parâmetro encontrado foi: {}'.format(gridsearchcv.best_params_))\n",
    "print('A melhor probabilidade encontrada foi: {:.2f}%'.format(gridsearchcv.best_score_* 100))"
   ]
  },
  {
   "cell_type": "code",
   "execution_count": 81,
   "metadata": {},
   "outputs": [],
   "source": [
    "# Definindo os valores encontrados para o Regresspr k-NN:\n",
    "knn_regressor = KNeighborsRegressor(n_neighbors=4, weights='uniform')\n",
    "\n",
    "# Fazendo o treinamento do modelo pelo Regressor k-NN:\n",
    "knn_regressor.fit(x_train, y_train)\n",
    "\n",
    "# Fazendo a predição dos valores:\n",
    "predict = knn_regressor.predict(x)"
   ]
  },
  {
   "cell_type": "code",
   "execution_count": 82,
   "metadata": {},
   "outputs": [
    {
     "data": {
      "text/plain": [
       "Text(0.5, 1.0, \"KNeighborsRegressor (k = 5, weights = 'uniform')\")"
      ]
     },
     "execution_count": 82,
     "metadata": {},
     "output_type": "execute_result"
    },
    {
     "data": {
      "image/png": "[encoded data removed]",
      "text/plain": [
       "<Figure size 432x288 with 1 Axes>"
      ]
     },
     "metadata": {
      "needs_background": "light"
     },
     "output_type": "display_data"
    }
   ],
   "source": [
    "# Plotagem dos dados orginais, preditos e ruído.\n",
    "plt.scatter(x, y, color='darkorange', label='noisy data')\n",
    "plt.plot(x, y_orig, color='red', label='original data')\n",
    "plt.plot(x, predict, color='navy', label='prediction')\n",
    "plt.axis('tight')\n",
    "plt.legend()\n",
    "plt.title(\"KNeighborsRegressor (k = %i, weights = '%s')\" % (n_neighbors, weights))"
   ]
  },
  {
   "cell_type": "markdown",
   "metadata": {},
   "source": [
    "Como calcular o erro quadrático médio pela Biblioteca Scikit Learn: https://www.it-swarm-pt.tech/pt/python/scikit-learn-como-calcular-o-erro-quadratico-medio-quadratico-rmse-em-porcentagem/833484771/"
   ]
  },
  {
   "cell_type": "code",
   "execution_count": 99,
   "metadata": {},
   "outputs": [
    {
     "name": "stdout",
     "output_type": "stream",
     "text": [
      "Para o conjunto de treinamento: \n",
      "MSE: 0.72%\n",
      "Para o conjunto de teste:\n",
      "MSE: 1.29%\n"
     ]
    }
   ],
   "source": [
    "# Para o conjunto de TREINAMENTO\n",
    "print('Para o conjunto de treinamento: ')\n",
    "\n",
    "# Predizendo:\n",
    "predict_train = knn_regressor.predict(x_train)\n",
    "\n",
    "# Calculando o erro quadrático médio:\n",
    "meanSquaredError = mean_squared_error(y_train, predict_train) * 100\n",
    "\n",
    "# Imprimindo o resultado:\n",
    "print('MSE: {:.2f}%'.format(meanSquaredError))\n",
    "\n",
    "\n",
    "\n",
    "# Para o conjunto de teste:\n",
    "print('Para o conjunto de teste:')\n",
    "\n",
    "# Predizendo: \n",
    "predict_test = knn_regressor.predict(x_test)\n",
    "\n",
    "# Calculando o erro quadrático médio:\n",
    "meanSquaredError = mean_squared_error(y_test, predict_test) * 100\n",
    "\n",
    "# Imprimindo o valor encontrado:\n",
    "print('MSE: {:.2f}%'.format(meanSquaredError))"
   ]
  },
  {
   "cell_type": "code",
   "execution_count": null,
   "metadata": {},
   "outputs": [],
   "source": []
  }
 ],
 "metadata": {
  "kernelspec": {
   "display_name": "Python 3",
   "language": "python",
   "name": "python3"
  },
  "language_info": {
   "codemirror_mode": {
    "name": "ipython",
    "version": 3
   },
   "file_extension": ".py",
   "mimetype": "text/x-python",
   "name": "python",
   "nbconvert_exporter": "python",
   "pygments_lexer": "ipython3",
   "version": "3.8.3"
  }
 },
 "nbformat": 4,
 "nbformat_minor": 4
}
