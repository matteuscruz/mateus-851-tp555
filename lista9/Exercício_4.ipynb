{
  "nbformat": 4,
  "nbformat_minor": 0,
  "metadata": {
    "colab": {
      "name": "Exercício 4.ipynb",
      "provenance": [],
      "collapsed_sections": []
    },
    "kernelspec": {
      "name": "python3",
      "display_name": "Python 3"
    }
  },
  "cells": [
    {
      "cell_type": "markdown",
      "metadata": {
        "id": "p-TXDYu-QIAC"
      },
      "source": [
        "https://stackoverflow.com/questions/62233013/error-using-k-means-to-detect-qpsk-symbols-indexerror-arrays-used-as-indices-m"
      ]
    },
    {
      "cell_type": "markdown",
      "metadata": {
        "id": "CZSR1zNBQY19"
      },
      "source": [
        "Modelo: qpsk_template.ipynb"
      ]
    },
    {
      "cell_type": "code",
      "metadata": {
        "id": "XB4lPr1-BfrW"
      },
      "source": [
        "# Importando as bibliotecas necessárias:\n",
        "import numpy as np\n",
        "import matplotlib.pyplot as plt\n",
        "\n",
        "# Importando as bibliotecas Scikit Learn:\n",
        "from sklearn.cluster import KMeans\n",
        "from sklearn.model_selection import train_test_split"
      ],
      "execution_count": 26,
      "outputs": []
    },
    {
      "cell_type": "code",
      "metadata": {
        "id": "C9GxQwYuUZoW"
      },
      "source": [
        "# Import all necessary libraries.\n",
        "import numpy as np\n",
        "from scipy.special import erfc\n",
        "from sklearn.naive_bayes import GaussianNB\n",
        "import matplotlib.pyplot as plt\n",
        "from sklearn.model_selection import train_test_split\n",
        "from sklearn.cluster import KMeans"
      ],
      "execution_count": 27,
      "outputs": []
    },
    {
      "cell_type": "code",
      "metadata": {
        "id": "jdvts-DFWAPT"
      },
      "source": [
        "# Number of QPSK symbols to be transmitted.\n",
        "N = 1000000"
      ],
      "execution_count": 45,
      "outputs": []
    },
    {
      "cell_type": "code",
      "metadata": {
        "id": "rrJhKJ44Ue2U"
      },
      "source": [
        "def mod(V):\n",
        "\n",
        "    ip = np.zeros((len(V),1),dtype=complex)\n",
        "    inc = 0\n",
        "    for v in V:\n",
        "        if(v==0):\n",
        "            ip[inc] = -1.0 - 1j*1.0\n",
        "        elif(v==1):\n",
        "            ip[inc] = -1.0 + 1j*1.0\n",
        "        elif(v==2):\n",
        "            ip[inc] = 1.0 - 1j*1.0\n",
        "        else:\n",
        "            ip[inc] = 1.0 + 1j*1.0\n",
        "        inc += 1\n",
        "    # Normalization of energy to 1.\n",
        "    s = (1/np.sqrt(2))*ip;\n",
        "    return s\n",
        "\n",
        "\n",
        "def demod(c):\n",
        "    c_seq = mod(np.array([0,1,2,3]))\n",
        "    c_seq = c_seq[:,0]\n",
        "    e = []\n",
        "    for i in range(0,len(c_seq)):\n",
        "        e.append(np.abs(c_seq[i] - c)**2)\n",
        "    return e.index(np.min(e))"
      ],
      "execution_count": 46,
      "outputs": []
    },
    {
      "cell_type": "code",
      "metadata": {
        "id": "Ow1MCMX9FSNG",
        "outputId": "763e7a65-6864-4199-fb46-e9f2cd647b8d",
        "colab": {
          "base_uri": "https://localhost:8080/"
        }
      },
      "source": [
        "# Create Es/N0 vector.\n",
        "EsN0dB = np.arange(-2,22,2)\n",
        "\n",
        "ser_simu = np.zeros(len(EsN0dB))\n",
        "ser_theo = np.zeros(len(EsN0dB))\n",
        "for idx in range(0,len(EsN0dB)):\n",
        "   \n",
        "    print('Es/N0 dB:', EsN0dB[idx])\n",
        "   \n",
        "    EsN0Lin = 10.0**(-(EsN0dB[idx]/10.0))   \n",
        "    \n",
        "    # Generate N binary symbols.\n",
        "    ip = np.random.randint(0,4,(N,1))\n",
        "   \n",
        "    # Modulate binary stream into QPSK symbols.\n",
        "    s = mod(ip)\n",
        "   \n",
        "    # Generate noise vector with unitary variance.\n",
        "    noise = np.sqrt(1.0/2.0)*(np.random.randn(N, 1) + 1j*np.random.randn(N, 1))\n",
        "   \n",
        "    # Pass symbols through AWGN channel.\n",
        "    y = s + np.sqrt(EsN0Lin)*noise\n",
        "   \n",
        "    # Split array into random train and test subsets.\n",
        "    s_test, s_train, y_test, y_train, v_test, v_train = train_test_split(s, y, ip)\n",
        "   \n",
        "    y_c_train = np.c_[y_train.real,y_train.imag]\n",
        "    y_c_teste = np.c_[y_test.real,y_test.imag]   \n",
        "    \n",
        "    # Fit models for real and imaginary parts.\n",
        "    km = KMeans(n_clusters=4, random_state=42)\n",
        "    km.fit(y_c_train)\n",
        "   \n",
        "    # Prediction.\n",
        "    detected = km.predict(y_c_teste)  \n",
        "       \n",
        "    # Simulated QPSK BER.\n",
        "    error = 0\n",
        "    for i in range(0, len(v_test)):\n",
        "        pred = km.cluster_centers_[detected[i],0] + 1j*km.cluster_centers_[detected[i],1]\n",
        "        d = demod(pred)\n",
        "        if((v_test[i,0] != d)==True):\n",
        "            error = error + 1\n",
        "   \n",
        "    ser_simu[idx] = 1.0 * error / len(v_test)\n",
        "    \n",
        "    # Theoretical QPSK BER.    \n",
        "    ser_theo[idx] = erfc(np.sqrt(0.5*(10.0**(EsN0dB[idx]/10.0)))) - (1/4)*(erfc(np.sqrt(0.5*(10.0**(EsN0dB[idx]/10.0)))))**2.0"
      ],
      "execution_count": 48,
      "outputs": [
        {
          "output_type": "stream",
          "text": [
            "Es/N0 dB: -2\n",
            "Es/N0 dB: 0\n",
            "Es/N0 dB: 2\n",
            "Es/N0 dB: 4\n",
            "Es/N0 dB: 6\n",
            "Es/N0 dB: 8\n",
            "Es/N0 dB: 10\n",
            "Es/N0 dB: 12\n",
            "Es/N0 dB: 14\n",
            "Es/N0 dB: 16\n",
            "Es/N0 dB: 18\n",
            "Es/N0 dB: 20\n"
          ],
          "name": "stdout"
        }
      ]
    },
    {
      "cell_type": "code",
      "metadata": {
        "id": "Tbt36a4oHSrH",
        "outputId": "5af96b67-daf3-4371-c21b-62888bfbe793",
        "colab": {
          "base_uri": "https://localhost:8080/",
          "height": 488
        }
      },
      "source": [
        "fig = plt.figure(figsize=(14,10))\n",
        "plt.plot(EsN0dB, ser_theo, 'b', label='theoretical')\n",
        "plt.plot(EsN0dB, ser_simu, 'rx', label='simulated')\n",
        "plt.xscale('linear')\n",
        "plt.yscale('log')\n",
        "plt.xlabel('Es/N0 [dB]')\n",
        "plt.ylabel('SER')\n",
        "plt.grid(True)\n",
        "plt.legend()\n",
        "plt.show()"
      ],
      "execution_count": 49,
      "outputs": [
        {
          "output_type": "display_data",
          "data": {
            "image/png": "[encoded data removed]",
            "text/plain": [
              "<Figure size 1008x720 with 1 Axes>"
            ]
          },
          "metadata": {
            "tags": [],
            "needs_background": "light"
          }
        }
      ]
    },
    {
      "cell_type": "markdown",
      "metadata": {
        "id": "fBrA1RGmlF40"
      },
      "source": [
        "# **Resposta teórica**\n",
        "\n",
        "Bem, conforme mostrado no gráfico. A curva se aproxima da teórica."
      ]
    },
    {
      "cell_type": "code",
      "metadata": {
        "id": "PlhGSMwulN-P"
      },
      "source": [
        ""
      ],
      "execution_count": null,
      "outputs": []
    }
  ]
}