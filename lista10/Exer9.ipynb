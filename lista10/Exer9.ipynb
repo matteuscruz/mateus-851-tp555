{
  "nbformat": 4,
  "nbformat_minor": 0,
  "metadata": {
    "colab": {
      "name": "Exer9.ipynb",
      "provenance": []
    },
    "kernelspec": {
      "name": "python3",
      "display_name": "Python 3"
    }
  },
  "cells": [
    {
      "cell_type": "code",
      "metadata": {
        "id": "jtCxmn28LfBC"
      },
      "source": [
        "# Definindo a versão do TensorFlow para V1.x\n",
        "%tensorflow_version 1.x\n",
        "\n",
        "# Importando as bibliotecas gerais:\n",
        "import numpy as np\n",
        "import tensorflow as tf\n",
        "import matplotlib.pyplot as plt\n",
        "\n",
        "# Importando as bibliotecas Scikit Learn:\n",
        "from sklearn.model_selection import train_test_split\n",
        "from sklearn.metrics import precision_score\n",
        "from sklearn.datasets import make_moons"
      ],
      "execution_count": 136,
      "outputs": []
    },
    {
      "cell_type": "code",
      "metadata": {
        "id": "Zq-5rXNjMtlT"
      },
      "source": [
        "# Definindo a quantidade de amostras:\n",
        "N = 1000\n",
        "\n",
        "# Gerando o dataset:\n",
        "X, y = make_moons(N, noise=0.1, random_state=42)"
      ],
      "execution_count": 137,
      "outputs": []
    },
    {
      "cell_type": "code",
      "metadata": {
        "colab": {
          "base_uri": "https://localhost:8080/",
          "height": 392
        },
        "id": "sAfuYgOkM6h9",
        "outputId": "80e1a380-ac4b-43af-ff77-399d5af6ca9b"
      },
      "source": [
        "# Definindo os índices\n",
        "idx0 = np.argwhere(y == 0)\n",
        "idx1 = np.argwhere(y == 1)\n",
        "\n",
        "# Plotando a figura:\n",
        "fig = plt.figure(figsize=(6,6))\n",
        "plt.plot(X[idx0,0], X[idx0,1], 'ro', label='Class 0')\n",
        "plt.plot(X[idx1,0], X[idx1,1], 'ko', label='Class 1')\n",
        "plt.xlabel('$x_1$', fontsize=14)\n",
        "plt.ylabel('$x_2$', fontsize=14)\n",
        "plt.legend()\n",
        "plt.show()"
      ],
      "execution_count": 138,
      "outputs": [
        {
          "output_type": "display_data",
          "data": {
            "image/png": "[encoded data removed]",
            "text/plain": [
              "<Figure size 432x432 with 1 Axes>"
            ]
          },
          "metadata": {
            "tags": [],
            "needs_background": "light"
          }
        }
      ]
    },
    {
      "cell_type": "code",
      "metadata": {
        "id": "lMiJowk2NdmF"
      },
      "source": [
        "# Definindo o número de épocas\n",
        "n_epochs = 1000\n",
        "\n",
        "# Definindo o passo de aprendizagem:\n",
        "learning_rate = 0.01\n",
        "\n",
        "# Definindo o tamanho do conjunto de teste:\n",
        "test_conj = 0.20\n",
        "\n",
        "# Defininindo o tamanho do batch:\n",
        "batch_size = 50\n",
        "n_batches = int(np.ceil(N / batch_size))"
      ],
      "execution_count": 139,
      "outputs": []
    },
    {
      "cell_type": "code",
      "metadata": {
        "id": "DjGNrLz2M8Ya"
      },
      "source": [
        "# Concatenando o BIAS junto as features\n",
        "X_with_bias = np.c_[np.ones((N, 1)), X]\n",
        "\n",
        "# Remoldando o vetor\n",
        "y_vector = y.reshape(-1, 1)\n",
        "\n",
        "# Separando em conjunto de treinamento e teste:\n",
        "x_train, x_test, y_train, y_test = train_test_split( X_with_bias, y_vector, test_size=test_conj, random_state=42)"
      ],
      "execution_count": 140,
      "outputs": []
    },
    {
      "cell_type": "code",
      "metadata": {
        "id": "Boz4Mg0NUDhl"
      },
      "source": [
        "# Definição da função hipótese:\n",
        "x_train_h = np.c_[np.ones((len(y_train), 1)), x_train, x_train**2, x_train**3]\n",
        "x_test_h = np.c_[np.ones((len(y_test), 1)), x_test, x_test**2, x_test**3]"
      ],
      "execution_count": 141,
      "outputs": []
    },
    {
      "cell_type": "code",
      "metadata": {
        "colab": {
          "base_uri": "https://localhost:8080/"
        },
        "id": "L1jTNREqNQju",
        "outputId": "5f2bce84-63e8-4a04-e747-5c90273e9432"
      },
      "source": [
        "def fetch_batch(X_train, y_train, batch_size):\n",
        "    indices = np.random.randint(0, len(X_train), batch_size) \n",
        "    X_batch = X_train[indices]\n",
        "    y_batch = y_train[indices]\n",
        "    return X_batch, y_batch\n",
        "\n",
        "\n",
        "\n",
        "n = 6; #number of features\n",
        "X = tf.placeholder(tf.float32, shape=(None, n + 1), name=\"X\")\n",
        "y = tf.placeholder(tf.float32, shape=(None, 1), name=\"y\")\n",
        "theta = tf.Variable(tf.random_uniform([n+1, 1], -1.0, 1.0), name=\"theta\")\n",
        "y_pred = tf.matmul(X, theta, name=\"predictions\")\n",
        "y_proba = tf.sigmoid(y_pred)\n",
        "loss = tf.losses.log_loss(y, y_proba)\n",
        "optimizer = tf.train.GradientDescentOptimizer(learning_rate=learning_rate)\n",
        "training_op = optimizer.minimize(loss)\n",
        "loss_summary = tf.summary.scalar('log_loss', loss)\n",
        "\n",
        "init = tf.global_variables_initializer()\n",
        "\n",
        "saver = tf.train.Saver()\n",
        "\n",
        "checkpoint_path = \"/tmp/my_logreg_model.ckpt\"\n",
        "checkpoint_epoch_path = checkpoint_path + \".epoch\"\n",
        "final_model_path = \"./my_logreg_model\"\n",
        "\n",
        "with tf.Session() as sess:\n",
        "    if os.path.isfile(checkpoint_epoch_path):\n",
        "        with open(checkpoint_epoch_path, \"rb\") as f:\n",
        "            start_epoch = int(f.read())\n",
        "        print(\"Training was interrupted. Continuing at epoch\", start_epoch)\n",
        "        saver.restore(sess, checkpoint_path)\n",
        "    else:\n",
        "        start_epoch = 0\n",
        "        sess.run(init)\n",
        "    \n",
        "    \n",
        "    for epoch in range(start_epoch, n_epochs):\n",
        "        for indices in range(n_batches):\n",
        "            X_batch, y_batch = fetch_batch(X_train_h, y_train, batch_size)\n",
        "            sess.run(training_op, feed_dict={X: X_batch, y: y_batch})\n",
        "            \n",
        "        loss_val, summary_str = sess.run([loss, loss_summary], feed_dict={X: X_test_h, y: y_test})\n",
        "        #file_writer.add_summary(summary_str, epoch)\n",
        "            \n",
        "            \n",
        "            \n",
        "        if epoch % 100 == 0:\n",
        "            print(\"Epoch:\", epoch, \"\\tLoss:\", loss_val)\n",
        "            saver.save(sess, checkpoint_path)\n",
        "        with open(checkpoint_epoch_path, \"wb\") as f:\n",
        "            f.write(b\"%d\" % (epoch + 1))\n",
        "    \n",
        "    saver.save(sess, final_model_path)\n",
        "    y_proba_val = y_proba.eval(feed_dict={X: X_test_h, y: y_test})\n",
        "    os.remove(checkpoint_epoch_path)"
      ],
      "execution_count": 135,
      "outputs": [
        {
          "output_type": "stream",
          "text": [
            "Epoch: 0 \tLoss: 0.8710382\n",
            "Epoch: 100 \tLoss: 0.28423518\n",
            "Epoch: 200 \tLoss: 0.22718816\n",
            "Epoch: 300 \tLoss: 0.19350344\n",
            "Epoch: 400 \tLoss: 0.17035101\n",
            "Epoch: 500 \tLoss: 0.15284319\n",
            "Epoch: 600 \tLoss: 0.1391884\n",
            "Epoch: 700 \tLoss: 0.12828867\n",
            "Epoch: 800 \tLoss: 0.11916928\n",
            "Epoch: 900 \tLoss: 0.11152823\n"
          ],
          "name": "stdout"
        }
      ]
    },
    {
      "cell_type": "code",
      "metadata": {
        "colab": {
          "base_uri": "https://localhost:8080/"
        },
        "id": "T-91gDNvNqrR",
        "outputId": "7a8ab2ad-1e50-4e54-f0ed-fbec03fe54a1"
      },
      "source": [
        "# Fazendo predição e calculando a precisão:\n",
        "y_pred = (y_proba_val >= 0.5)\n",
        "prec = precision_score(y_test, y_pred)\n",
        "\n",
        "# Imprimindo o resultado encontrado:\n",
        "print('A precisão do modelo é de: {:.2f}%'.format(prec * 100))"
      ],
      "execution_count": 142,
      "outputs": [
        {
          "output_type": "stream",
          "text": [
            "A precisão do modelo é de: 98.00%\n"
          ],
          "name": "stdout"
        }
      ]
    },
    {
      "cell_type": "code",
      "metadata": {
        "colab": {
          "base_uri": "https://localhost:8080/",
          "height": 269
        },
        "id": "754R9ELXNuQR",
        "outputId": "e8e33065-ce6d-46de-bea4-e6b99605db58"
      },
      "source": [
        "y_pred_idx = y_pred.reshape(-1) # a 1D array rather than a column vector\n",
        "plt.plot(X_test[y_pred_idx, 1], X_test[y_pred_idx, 2], 'ko', label=\"Positive\")\n",
        "plt.plot(X_test[~y_pred_idx, 1], X_test[~y_pred_idx, 2], 'rs', label=\"Negative\")\n",
        "plt.legend()\n",
        "plt.show()"
      ],
      "execution_count": 143,
      "outputs": [
        {
          "output_type": "display_data",
          "data": {
            "image/png": "[encoded data removed]",
            "text/plain": [
              "<Figure size 432x288 with 1 Axes>"
            ]
          },
          "metadata": {
            "tags": [],
            "needs_background": "light"
          }
        }
      ]
    },
    {
      "cell_type": "code",
      "metadata": {
        "id": "0AiIT4GqNxBp"
      },
      "source": [
        ""
      ],
      "execution_count": 143,
      "outputs": []
    }
  ]
}