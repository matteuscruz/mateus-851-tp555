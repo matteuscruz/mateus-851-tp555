{
  "nbformat": 4,
  "nbformat_minor": 0,
  "metadata": {
    "colab": {
      "name": "Exer10.ipynb",
      "provenance": []
    },
    "kernelspec": {
      "name": "python3",
      "display_name": "Python 3"
    }
  },
  "cells": [
    {
      "cell_type": "code",
      "metadata": {
        "id": "WS1z1MYgYHAp"
      },
      "source": [
        "\n",
        "# Importando as bibliotecas gerais:\n",
        "import numpy as np\n",
        "import seaborn as sns\n",
        "from datetime import datetime\n",
        "import matplotlib.pyplot as plt\n",
        "from scipy.special import expit\n",
        "import tensorflow.compat.v1 as tf\n",
        "\n",
        "# Importando as bibliotecas Scikit Learn:\n",
        "from sklearn.datasets import make_moons\n",
        "from sklearn.metrics import precision_score\n",
        "from sklearn.metrics import classification_report\n",
        "from sklearn.linear_model import LogisticRegression\n",
        "from sklearn.model_selection import train_test_split\n",
        "\n",
        "# Importando as métricas:\n",
        "from sklearn.metrics import accuracy_score\n",
        "from sklearn.metrics import roc_curve\n",
        "from sklearn.metrics import auc\n",
        "from sklearn.metrics import confusion_matrix\n",
        "from sklearn.metrics import accuracy_score"
      ],
      "execution_count": 129,
      "outputs": []
    },
    {
      "cell_type": "code",
      "metadata": {
        "colab": {
          "base_uri": "https://localhost:8080/"
        },
        "id": "uZyf6t74qrsq",
        "outputId": "d3bce962-94bb-4f58-b146-84217b419ca8"
      },
      "source": [
        "tf.disable_v2_behavior()"
      ],
      "execution_count": 137,
      "outputs": [
        {
          "output_type": "stream",
          "text": [
            "WARNING:tensorflow:From /usr/local/lib/python3.6/dist-packages/tensorflow/python/compat/v2_compat.py:96: disable_resource_variables (from tensorflow.python.ops.variable_scope) is deprecated and will be removed in a future version.\n",
            "Instructions for updating:\n",
            "non-resource variables are not supported in the long term\n"
          ],
          "name": "stdout"
        }
      ]
    },
    {
      "cell_type": "code",
      "metadata": {
        "id": "kbqiCOFGYH4P"
      },
      "source": [
        "# Define the number of examples.\n",
        "N = 1000\n",
        "\n",
        "# Criando o dataset.\n",
        "X, y = make_moons(N, noise=0.1, random_state=42)"
      ],
      "execution_count": 138,
      "outputs": []
    },
    {
      "cell_type": "code",
      "metadata": {
        "colab": {
          "base_uri": "https://localhost:8080/",
          "height": 392
        },
        "id": "SZrp8dhzYJpl",
        "outputId": "3166dc1d-a72f-47cd-ffa8-77edccbfba0c"
      },
      "source": [
        "# Definindo os índices\n",
        "idx0 = np.argwhere(y == 0)\n",
        "idx1 = np.argwhere(y == 1)\n",
        "\n",
        "# Plotando a figura:\n",
        "fig = plt.figure(figsize=(6,6))\n",
        "plt.plot(X[idx0,0], X[idx0,1], 'ro', label='Class 0')\n",
        "plt.plot(X[idx1,0], X[idx1,1], 'ko', label='Class 1')\n",
        "plt.xlabel('$x_1$', fontsize=14)\n",
        "plt.ylabel('$x_2$', fontsize=14)\n",
        "plt.legend()\n",
        "plt.show()"
      ],
      "execution_count": 139,
      "outputs": [
        {
          "output_type": "display_data",
          "data": {
            "image/png": "[encoded data removed]",
            "text/plain": [
              "<Figure size 432x432 with 1 Axes>"
            ]
          },
          "metadata": {
            "tags": [],
            "needs_background": "light"
          }
        }
      ]
    },
    {
      "cell_type": "code",
      "metadata": {
        "id": "G8CUv80hYNZz"
      },
      "source": [
        "y_vector = y.reshape(-1, 1)\n",
        "\n",
        "# Separando em conjunto de treinamento e teste:\n",
        "x_train, x_test, y_train, y_test = train_test_split(X, y_vector, test_size=0.20, random_state=42)"
      ],
      "execution_count": 140,
      "outputs": []
    },
    {
      "cell_type": "code",
      "metadata": {
        "id": "0pmehfroYPNy"
      },
      "source": [
        "# Definindo a função hipótese:\n",
        "x_train_h = np.c_[np.ones((len(y_train), 1)), x_train, x_train**2, x_train**3]\n",
        "x_test_h = np.c_[np.ones((len(y_test), 1)), x_test, x_test**2, x_test**3]"
      ],
      "execution_count": 141,
      "outputs": []
    },
    {
      "cell_type": "code",
      "metadata": {
        "id": "ndd4XFANYRNi"
      },
      "source": [
        "# Índice randômico\n",
        "def select_random_batch(X, y):\n",
        "    random_index = np.random.randint(N)\n",
        "    X_i = X[random_index:random_index+1]\n",
        "    y_i = y[random_index:random_index+1]\n",
        "    return X_i, y_i\n",
        "\n",
        "# Função para resetar o grafo:\n",
        "def reset_graph(seed=42):\n",
        "    tf.reset_default_graph()\n",
        "    tf.set_random_seed(seed)\n",
        "    np.random.seed(seed)"
      ],
      "execution_count": 142,
      "outputs": []
    },
    {
      "cell_type": "code",
      "metadata": {
        "colab": {
          "base_uri": "https://localhost:8080/"
        },
        "id": "fyr_phmeYVS0",
        "outputId": "d21bfdcd-f366-45de-aca1-2664ea8ffebf"
      },
      "source": [
        "reset_graph()\n",
        "\n",
        "now = datetime.utcnow().strftime(\"%Y%m%d%H%M%S\")\n",
        "root_logdir = \"tf_logs2\"\n",
        "logdir = \"{}/run-{}/\".format(root_logdir, now)\n",
        "\n",
        "# Number of Features\n",
        "input_number = 6\n",
        "\n",
        "# Place holder for training data X\n",
        "X = tf.placeholder(tf.float32, shape =(None, input_number + 1), name = \"X\" ) \n",
        "\n",
        "# Place holder for training label data y\n",
        "y = tf.placeholder(tf.float32, shape =(None, 1), name = \"y\" ) \n",
        "\n",
        "# Initialize the Random value for theta\n",
        "theta = tf.Variable(tf.random_uniform([input_number + 1, 1], -1.0, 1.0, seed=42), name=\"theta\") #Initialize the Random value for theta\n",
        "y_pred = tf.matmul(X, theta, name=\"predictions\")\n",
        "\n",
        "# Tensorflow Operations\n",
        "logits = tf.matmul(X, theta, name=\"logits\") \n",
        "\n",
        "# Calculate the probability\n",
        "y_proba = tf.sigmoid(logits) \n",
        "\n",
        "# Loss function\n",
        "loss = tf.losses.log_loss(y, y_proba) \n",
        "\n",
        "learning_rate = 0.02\n",
        "optimizer = tf.train.GradientDescentOptimizer(learning_rate=learning_rate)\n",
        "training_op = optimizer.minimize(loss)\n",
        "\n",
        "init = tf.global_variables_initializer()\n",
        "saver = tf.train.Saver()\n",
        "\n",
        "epochs = 2000\n",
        "\n",
        "train_summary = tf.summary.scalar('Training', loss)\n",
        "file_writer = tf.summary.FileWriter(logdir, tf.get_default_graph())\n",
        "\n",
        "with tf.Session() as sess:\n",
        "    sess.run(init)\n",
        "    \n",
        "    for epoch in range(epochs):\n",
        "        for idx in range(N):\n",
        "            X_i, y_i = select_random_batch(x_train_h, y_train)\n",
        "            sess.run(training_op, feed_dict={X: X_i, y: y_i})\n",
        "            loss_val = loss.eval({X: x_test_h, y: y_test})\n",
        "        if epoch % 100 == 0:\n",
        "            print(\"Epoch:\", epoch, \"\\tLoss:\", loss_val)\n",
        "            y_proba_val = y_proba.eval(feed_dict={X: x_test_h, y: y_test})\n",
        "                                    \n",
        "    best_theta = theta.eval()\n",
        "    save_path = saver.save(sess, \"/tmp/my_model_final.ckpt\")                           \n",
        "\n",
        "file_writer.close()"
      ],
      "execution_count": 143,
      "outputs": [
        {
          "output_type": "stream",
          "text": [
            "Epoch: 0 \tLoss: 0.2965591\n",
            "Epoch: 100 \tLoss: 0.030251717\n",
            "Epoch: 200 \tLoss: 0.020007202\n",
            "Epoch: 300 \tLoss: 0.01567998\n",
            "Epoch: 400 \tLoss: 0.012979445\n",
            "Epoch: 500 \tLoss: 0.012040797\n",
            "Epoch: 600 \tLoss: 0.011432376\n",
            "Epoch: 700 \tLoss: 0.009871555\n",
            "Epoch: 800 \tLoss: 0.009386369\n",
            "Epoch: 900 \tLoss: 0.008242791\n",
            "Epoch: 1000 \tLoss: 0.008219175\n",
            "Epoch: 1100 \tLoss: 0.007583324\n",
            "Epoch: 1200 \tLoss: 0.0069234436\n",
            "Epoch: 1300 \tLoss: 0.0069544967\n",
            "Epoch: 1400 \tLoss: 0.006456003\n",
            "Epoch: 1500 \tLoss: 0.00641597\n",
            "Epoch: 1600 \tLoss: 0.0062169717\n",
            "Epoch: 1700 \tLoss: 0.0061327587\n",
            "Epoch: 1800 \tLoss: 0.0056780847\n",
            "Epoch: 1900 \tLoss: 0.0055845203\n"
          ],
          "name": "stdout"
        }
      ]
    },
    {
      "cell_type": "code",
      "metadata": {
        "colab": {
          "base_uri": "https://localhost:8080/"
        },
        "id": "E916ZvI7YYTE",
        "outputId": "207426b1-1f9b-4968-c547-fac37ce46c81"
      },
      "source": [
        "# Checkpoint\n",
        "with tf.Session() as sess:\n",
        "    saver.restore(sess, \"/tmp/my_model_final.ckpt\")\n",
        "    best_theta_restored = theta.eval()\n",
        "    \n",
        "np.allclose(best_theta, best_theta_restored)"
      ],
      "execution_count": 144,
      "outputs": [
        {
          "output_type": "stream",
          "text": [
            "INFO:tensorflow:Restoring parameters from /tmp/my_model_final.ckpt\n"
          ],
          "name": "stdout"
        },
        {
          "output_type": "execute_result",
          "data": {
            "text/plain": [
              "True"
            ]
          },
          "metadata": {
            "tags": []
          },
          "execution_count": 144
        }
      ]
    },
    {
      "cell_type": "code",
      "metadata": {
        "id": "-wNccfX_Yjpv"
      },
      "source": [
        "# Predição:\n",
        "y_pred = (y_proba_val >= 0.5)\n",
        "prec = precision_score(y_test, y_pred)"
      ],
      "execution_count": 145,
      "outputs": []
    },
    {
      "cell_type": "code",
      "metadata": {
        "colab": {
          "base_uri": "https://localhost:8080/"
        },
        "id": "Bmc2VnxZhh0V",
        "outputId": "400032a5-4c32-466e-d031-7357888734db"
      },
      "source": [
        "# Imprime a precisão:\n",
        "print('Precisão alcançada de: {:.2f}%'.format(prec * 100))"
      ],
      "execution_count": 146,
      "outputs": [
        {
          "output_type": "stream",
          "text": [
            "Precisão alcançada de: 100.00%\n"
          ],
          "name": "stdout"
        }
      ]
    },
    {
      "cell_type": "code",
      "metadata": {
        "colab": {
          "base_uri": "https://localhost:8080/",
          "height": 393
        },
        "id": "B_dGFfDhYk8V",
        "outputId": "2db849db-c4ce-4357-8dab-7ac262ddedac"
      },
      "source": [
        "# Reshape\n",
        "y_pred_idx = y_pred.reshape(-1) \n",
        "\n",
        "# Definição dos índices\n",
        "idx0 = np.argwhere(y_pred_idx == 0)\n",
        "idx1 = np.argwhere(y_pred_idx == 1)\n",
        "\n",
        "# Plotagem:\n",
        "fig = plt.figure(figsize=(6,6))\n",
        "plt.plot(x_test[idx0,0], x_test[idx0,1], 'ko', label='Class 0')\n",
        "plt.plot(x_test[idx1,0], x_test[idx1,1], 'r^', label='Class 1')\n",
        "plt.xlabel('$x_1$')\n",
        "plt.ylabel('$x_2$')\n",
        "plt.legend()\n",
        "plt.show()"
      ],
      "execution_count": 147,
      "outputs": [
        {
          "output_type": "display_data",
          "data": {
            "image/png": "[encoded data removed]",
            "text/plain": [
              "<Figure size 432x432 with 1 Axes>"
            ]
          },
          "metadata": {
            "tags": [],
            "needs_background": "light"
          }
        }
      ]
    },
    {
      "cell_type": "code",
      "metadata": {
        "id": "u8vZTHi5YmqO"
      },
      "source": [
        ""
      ],
      "execution_count": 147,
      "outputs": []
    }
  ]
}