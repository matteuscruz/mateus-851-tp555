{
 "cells": [
  {
   "cell_type": "code",
   "execution_count": null,
   "metadata": {},
   "outputs": [],
   "source": [
    "# Importando as bibliotecas necessárias:\n",
    "import numpy as np\n",
    "import matplotlib.pyplot as plt\n",
    "import csv\n",
    "import pandas as pd\n",
    "\n",
    "# Importandos as bibliotecas do Scikit Learn:\n",
    "from sklearn.preprocessing import PolynomialFeatures\n",
    "from sklearn.linear_model import LinearRegression\n",
    "from sklearn.preprocessing import StandardScaler\n",
    "from sklearn.pipeline import Pipeline\n",
    "from sklearn.metrics import mean_squared_error\n",
    "from sklearn.model_selection import train_test_split\n",
    "from sklearn.model_selection import cross_val_score\n",
    "from sklearn.model_selection import KFold\n",
    "from sklearn.model_selection import LeaveOneOut\n",
    "from sklearn.model_selection import LeavePOut\n",
    "\n",
    "# Usando função mágica para plotagem:\n",
    "%matplotlib inline"
   ]
  },
  {
   "cell_type": "code",
   "execution_count": null,
   "metadata": {},
   "outputs": [],
   "source": [
    "# Importando os dados do csv:\n",
    "df = pd.read_csv('sum_cosines.csv', header=None)\n",
    "\n",
    "# Definindo a quantidade de amostras:\n",
    "M = len(df[0].to_numpy())\n",
    "\n",
    "# Definindo os valores das features:\n",
    "x = (df[0].to_numpy()).reshape(M, 1)\n",
    "\n",
    "# Definindo os valores dos targets:\n",
    "y = (df[1].to_numpy()).reshape(M, 1)"
   ]
  },
  {
   "cell_type": "code",
   "execution_count": null,
   "metadata": {},
   "outputs": [],
   "source": [
    "# Plotando a figura:\n",
    "fig = plt.figure(figsize=(10, 10))\n",
    "plt.plot(x, y, 'b.')\n",
    "plt.show()"
   ]
  },
  {
   "cell_type": "markdown",
   "metadata": {},
   "source": [
    "# Holdout"
   ]
  },
  {
   "cell_type": "code",
   "execution_count": null,
   "metadata": {},
   "outputs": [],
   "source": [
    "# Definindo o tamanho do conjunto de validação:\n",
    "size = 0.3\n",
    "\n",
    "# Aplicando o HOLDOUT:\n",
    "x_train, x_valid, y_train, y_valid = train_test_split(x, y, test_size=size)"
   ]
  },
  {
   "cell_type": "code",
   "execution_count": null,
   "metadata": {},
   "outputs": [],
   "source": [
    "# Imprimindo a segmentação dos conjuntos:\n",
    "print('{} das valores estão separado para o conjunto de treinamento enquanto {} estão separados para o conjunto de validação'.format(len(x_train), len(x_valid)))"
   ]
  },
  {
   "cell_type": "code",
   "execution_count": null,
   "metadata": {},
   "outputs": [],
   "source": [
    "# Definição do BIAS:\n",
    "bias = True\n",
    "\n",
    "# Vetor de predição:\n",
    "mean_vec = []\n",
    "# Vetor de treinamento:\n",
    "train_vec = []\n",
    "\n",
    "for d in range(1, 21):\n",
    "    \n",
    "    # Instanciando o Polynomial Features\n",
    "    poly_features = PolynomialFeatures(degree=d, include_bias=bias)\n",
    "    # Instanciando a padronização:\n",
    "    std_scaler = StandardScaler()\n",
    "    # Tnstanciando aRegressão Linear\n",
    "    lin_reg = LinearRegression()\n",
    "    \n",
    "    # Definindo a sequência de ações:\n",
    "    polynomial_regression = Pipeline([\n",
    "        (\"poly_features\", poly_features),\n",
    "        (\"std_scaler\", std_scaler),\n",
    "        (\"lin_reg\", lin_reg),\n",
    "    ])\n",
    "    \n",
    "    polynomial_regression.fit(x_train, y_train)\n",
    "    \n",
    "    y_train_predict = polynomial_regression.predict(x_train)\n",
    "    \n",
    "    y_valid_predict = polynomial_regression.predict(x_valid)\n",
    "    \n",
    "    train_vec.append(np.sqrt(mean_squared_error(y_train, y_train_predict)))\n",
    "    \n",
    "    mean_vec.append(np.sqrt(mean_squared_error(y_valid, y_valid_predict)))   "
   ]
  },
  {
   "cell_type": "code",
   "execution_count": null,
   "metadata": {},
   "outputs": [],
   "source": [
    "# Plotando grafico:\n",
    "plt.figure(figsize=(7, 7))\n",
    "plt.plot(range(1, 21), train_vec, label='Treinamento')\n",
    "plt.plot(range(1, 21), mean_vec, label='Validação')\n",
    "plt.xlabel('Polinômio', fontsize=16)\n",
    "plt.ylabel('EQM', fontsize=16)\n",
    "plt.xticks(range(0, 22, 2))\n",
    "plt.xlim([1, 22])\n",
    "plt.legend()\n",
    "plt.grid()\n",
    "plt.show()"
   ]
  },
  {
   "cell_type": "markdown",
   "metadata": {},
   "source": [
    "# K fold"
   ]
  },
  {
   "cell_type": "code",
   "execution_count": null,
   "metadata": {},
   "outputs": [],
   "source": [
    "# Definindo o valor de K:\n",
    "K = 10\n",
    "\n",
    "# Aplicando:\n",
    "kfold = KFold(n_splits=K, shuffle=True)"
   ]
  },
  {
   "cell_type": "code",
   "execution_count": null,
   "metadata": {},
   "outputs": [],
   "source": [
    "# Definição do BIAS:\n",
    "bias = True\n",
    "\n",
    "# Vetor de predição:\n",
    "mean_vec = []\n",
    "# Vetor de padronização:\n",
    "std_vec = []\n",
    "\n",
    "for d in range(1, 21):\n",
    "    \n",
    "    # Instanciando o Polynomial Features\n",
    "    poly_features = PolynomialFeatures(degree=d, include_bias=bias)\n",
    "    # Instanciando a padronização:\n",
    "    std_scaler = StandardScaler()\n",
    "    # Tnstanciando aRegressão Linear\n",
    "    lin_reg = LinearRegression()\n",
    "    \n",
    "    # Definindo a sequência de ações:\n",
    "    polynomial_regression = Pipeline([\n",
    "        (\"poly_features\", poly_features),\n",
    "        (\"std_scaler\", std_scaler),\n",
    "        (\"lin_reg\", lin_reg),\n",
    "    ])\n",
    "    \n",
    "    lin_scores = cross_val_score(polynomial_regression, x, y, scoring='neg_mean_squared_error', cv=kfold) \n",
    "        \n",
    "    scores = np.sqrt(-lin_scores)\n",
    "    mean_vec.append(scores.mean())\n",
    "    std_vec.append(scores.std())"
   ]
  },
  {
   "cell_type": "code",
   "execution_count": null,
   "metadata": {},
   "outputs": [],
   "source": [
    "# Plotando os gráficos\n",
    "\n",
    "plt.figure(figsize=(20, 5))\n",
    "ax = plt.subplot(1, 2, 1)\n",
    "plt.plot(range(1, 21), mean_vec,  label='EQM')\n",
    "plt.xlabel('Ordem do Polinômio', fontsize=16)\n",
    "plt.ylabel('EQM', fontsize=16)\n",
    "plt.xticks(range(0, 22, 2))\n",
    "plt.xlim([1, 22])\n",
    "plt.legend()\n",
    "plt.grid()\n",
    "\n",
    "ax = plt.subplot(1, 2, 2)\n",
    "plt.plot(range(1, 21), std_vec,  label='Desvio Padrão')\n",
    "plt.xlabel('Ordem do Polinômio', fontsize=16)\n",
    "plt.ylabel('Desvio Padrão', fontsize=16)\n",
    "plt.xticks(range(0, 22, 2))\n",
    "plt.xlim([1, 22])\n",
    "plt.legend()\n",
    "plt.grid()\n",
    "plt.show()"
   ]
  },
  {
   "cell_type": "markdown",
   "metadata": {},
   "source": [
    "# Leave-p-out"
   ]
  },
  {
   "cell_type": "code",
   "execution_count": null,
   "metadata": {},
   "outputs": [],
   "source": [
    "# Vetor de predição:\n",
    "mean_vec = []\n",
    "# Vetor de padronização:\n",
    "std_vec = []\n",
    "\n",
    "# Instanciando o Leave-p-out\n",
    "loocv = LeaveOneOut()\n",
    "\n",
    "for d in range(1, 21):\n",
    "    \n",
    "    # Instanciando o Polynomial Features\n",
    "    poly_features = PolynomialFeatures(degree=d, include_bias=bias)\n",
    "    # Instanciando a padronização:\n",
    "    std_scaler = StandardScaler()\n",
    "    # Tnstanciando aRegressão Linear\n",
    "    lin_reg = LinearRegression()\n",
    "    \n",
    "    # Definindo a sequência de ações:\n",
    "    polynomial_regression = Pipeline([\n",
    "        (\"poly_features\", poly_features),\n",
    "        (\"std_scaler\", std_scaler),\n",
    "        (\"lin_reg\", lin_reg),\n",
    "    ])\n",
    "    \n",
    "    lin_scores = cross_val_score(polynomial_regression, x, y, scoring='neg_mean_squared_error', cv=loocv) \n",
    "        \n",
    "    scores = np.sqrt(-lin_scores)\n",
    "    mean_vec.append(scores.mean())\n",
    "    std_vec.append(scores.std())"
   ]
  },
  {
   "cell_type": "code",
   "execution_count": null,
   "metadata": {},
   "outputs": [],
   "source": [
    "# Plotando os gráficos\n",
    "\n",
    "plt.figure(figsize=(20, 5))\n",
    "ax = plt.subplot(1, 2, 1)\n",
    "plt.plot(range(1, 21), mean_vec,  label='EQM')\n",
    "plt.xlabel('Polinômio', fontsize=16)\n",
    "plt.ylabel('Média EQM', fontsize=16)\n",
    "plt.yscale('log')\n",
    "plt.xticks(range(0, 22, 2))\n",
    "plt.xlim([1, 22])\n",
    "plt.legend()\n",
    "plt.grid()\n",
    "\n",
    "ax = plt.subplot(1, 2, 2)\n",
    "plt.plot(range(1, 21), std_vec,  label='Desvio Padrão')\n",
    "plt.xlabel('Polinômio', fontsize=16)\n",
    "plt.ylabel('Desvio Padrão', fontsize=16)\n",
    "plt.xticks(range(0, 22, 2))\n",
    "plt.xlim([1, 22])\n",
    "plt.legend()\n",
    "plt.grid()"
   ]
  },
  {
   "cell_type": "markdown",
   "metadata": {},
   "source": [
    "# Curva de aprendizado"
   ]
  },
  {
   "cell_type": "code",
   "execution_count": null,
   "metadata": {},
   "outputs": [],
   "source": [
    "# Definindo os graus:\n",
    "degrees = [1,3,5,20]\n",
    "\n",
    "# Para plotagem das figuras:\n",
    "plt.figure(figsize=(20, 5))\n",
    "\n",
    "# LOOP\n",
    "for i in range(len(degrees)):\n",
    "    ax = plt.subplot(1, len(degrees), i + 1)\n",
    "\n",
    "    # Insanciando o Polynomial Features\n",
    "    poly_features = PolynomialFeatures(degree=degrees[i], include_bias=include_bias)\n",
    "    # Instanciando o Padronizados\n",
    "    std_scaler = StandardScaler()\n",
    "    # Instanciando a Regressão Linear\n",
    "    lin_reg = LinearRegression()\n",
    "\n",
    "    # Definindo a sequencia de ações:\n",
    "    polynomial_regression = Pipeline([\n",
    "        (\"poly_features\", poly_features),\n",
    "        (\"std_scaler\", std_scaler),\n",
    "        (\"lin_reg\", lin_reg),\n",
    "    ])\n",
    "    \n",
    "    # Criando o vetor de armanezamento dos erros de treinamento:\n",
    "    train_error = []\n",
    "    # Criando o vetor de armazenamento dos erros de validação:\n",
    "    valid_error = []\n",
    "    \n",
    "    # LOOP\n",
    "    for m in range(1,len(x_treino)+1):\n",
    "\n",
    "        \n",
    "        polynomial_regression.fit(x_train[:m], y_train[:m])\n",
    "        \n",
    "        y_train_predict = polynomial_regression.predict(x_train[:m])\n",
    "\n",
    "        y_valid_predict = polynomial_regression.predict(x_valid)       \n",
    "\n",
    "        train_error.append(mean_squared_error(y_train[:m], y_train_predict))\n",
    "\n",
    "        valid_error.append(mean_squared_error(y_valid, y_valid_predict))\n",
    "        \n",
    "    plt.plot(range(1,len(x_train)+1), np.sqrt(train_error), label='Treinamento')\n",
    "    plt.plot(range(1,len(x_train)+1), np.sqrt(valid_error), label='Validação')\n",
    "    plt.yscale('log')\n",
    "    plt.xlabel('Treinamento', fontsize=16)\n",
    "    plt.ylabel('EQM', fontsize=12)\n",
    "    plt.grid()\n",
    "    plt.title('Polinômio de Ordem '+str(degrees[i]))\n",
    "    plt.legend(loc='best')\n",
    "plt.show()\n",
    "   "
   ]
  },
  {
   "cell_type": "markdown",
   "metadata": {},
   "source": [
    "## RESPOSTA TEÓRICA:"
   ]
  },
  {
   "cell_type": "markdown",
   "metadata": {},
   "source": [
    "O algortimo parece ter uma resposta satisfatória em sua décima ordem, como no teste abaixo:"
   ]
  },
  {
   "cell_type": "code",
   "execution_count": null,
   "metadata": {},
   "outputs": [],
   "source": [
    "# Definição do BIAS:\n",
    "dg = 10\n",
    "\n",
    "# Definição do grau do polinômio:\n",
    "bias = True\n",
    "\n",
    "# Instanciando o Polynomial Features:\n",
    "poly_features = PolynomialFeatures(degree=dg, include_bias=bias)\n",
    "\n",
    "# Instanciando o Padronizador:\n",
    "std_scaler = StandardScaler()\n",
    "\n",
    "# Instanciando a Regressão Linear:\n",
    "lin_reg = LinearRegression()\n",
    "\n",
    "# Definindo a sequencia de ações:\n",
    "model = Pipeline([\n",
    "    (\"poly_features\", poly_features),\n",
    "    (\"std_scaler\", std_scaler),\n",
    "    (\"lin_reg\", lin_reg),\n",
    "    ])\n",
    "\n",
    "# Fazendo o treinamento do modleo:\n",
    "model.fit(x, y) \n",
    "\n",
    "# Validando pela predição:\n",
    "predict = model.predict(x)"
   ]
  },
  {
   "cell_type": "code",
   "execution_count": null,
   "metadata": {},
   "outputs": [],
   "source": [
    "# Plotando a comparação:\n",
    "fig = plt.figure(figsize=(10,10))\n",
    "plt.plot(x, y, '.', label='Versão observável')\n",
    "plt.plot(x, predict, 'x', label='Modelo proposto')\n",
    "plt.xlabel('$x$', fontsize=16)\n",
    "plt.ylabel('$y$', fontsize=16)\n",
    "plt.legend()\n",
    "plt.grid()\n",
    "plt.show()"
   ]
  },
  {
   "cell_type": "code",
   "execution_count": null,
   "metadata": {},
   "outputs": [],
   "source": []
  },
  {
   "cell_type": "code",
   "execution_count": null,
   "metadata": {},
   "outputs": [],
   "source": []
  },
  {
   "cell_type": "code",
   "execution_count": null,
   "metadata": {},
   "outputs": [],
   "source": []
  },
  {
   "cell_type": "code",
   "execution_count": null,
   "metadata": {},
   "outputs": [],
   "source": []
  }
 ],
 "metadata": {
  "kernelspec": {
   "display_name": "Python 3",
   "language": "python",
   "name": "python3"
  },
  "language_info": {
   "codemirror_mode": {
    "name": "ipython",
    "version": 3
   },
   "file_extension": ".py",
   "mimetype": "text/x-python",
   "name": "python",
   "nbconvert_exporter": "python",
   "pygments_lexer": "ipython3",
   "version": "3.8.3"
  }
 },
 "nbformat": 4,
 "nbformat_minor": 4
}
